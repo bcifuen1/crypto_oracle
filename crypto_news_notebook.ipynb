{
 "metadata": {
  "language_info": {
   "codemirror_mode": {
    "name": "ipython",
    "version": 3
   },
   "file_extension": ".py",
   "mimetype": "text/x-python",
   "name": "python",
   "nbconvert_exporter": "python",
   "pygments_lexer": "ipython3",
   "version": "3.7.7-final"
  },
  "orig_nbformat": 2,
  "kernelspec": {
   "name": "python3",
   "display_name": "Python 3",
   "language": "python"
  }
 },
 "nbformat": 4,
 "nbformat_minor": 2,
 "cells": [
  {
   "cell_type": "code",
   "execution_count": 1,
   "metadata": {},
   "outputs": [],
   "source": [
    "import os\n",
    "import time\n",
    "from time import sleep\n",
    "import requests\n",
    "from requests import Request, Session\n",
    "from requests.exceptions import ConnectionError, Timeout, TooManyRedirects\n",
    "import json\n",
    "import pandas as pd\n",
    "from dotenv import load_dotenv\n",
    "from newsapi import NewsApiClient\n",
    "import nltk\n",
    "from nltk.sentiment.vader import SentimentIntensityAnalyzer"
   ]
  },
  {
   "cell_type": "code",
   "execution_count": 2,
   "metadata": {},
   "outputs": [
    {
     "output_type": "execute_result",
     "data": {
      "text/plain": [
       "True"
      ]
     },
     "metadata": {},
     "execution_count": 2
    }
   ],
   "source": [
    "load_dotenv()"
   ]
  },
  {
   "cell_type": "code",
   "execution_count": 3,
   "metadata": {},
   "outputs": [],
   "source": [
    "# setup coinmarketcap api\n",
    "url = 'https://pro-api.coinmarketcap.com/v1/cryptocurrency/listings/latest'\n",
    "parameters = {\n",
    "  'start':'1',\n",
    "  'limit':'20',\n",
    "  'convert':'USD'\n",
    "}\n",
    "headers = {\n",
    "  'Accepts': 'application/json',\n",
    "  'X-CMC_PRO_API_KEY': os.environ[\"X-CMC_PRO_API_KEY\"],\n",
    "}\n",
    "\n",
    "session = Session()\n",
    "session.headers.update(headers)\n",
    "\n",
    "try:\n",
    "  response = session.get(url, params=parameters)\n",
    "  data = json.loads(response.text)\n",
    "  # print(data)\n",
    "except (ConnectionError, Timeout, TooManyRedirects) as e:\n",
    "  print(e)"
   ]
  },
  {
   "cell_type": "code",
   "execution_count": 4,
   "metadata": {},
   "outputs": [
    {
     "output_type": "stream",
     "name": "stdout",
     "text": [
      "['bitcoin', 'ethereum', 'tether', 'polkadot-new', 'xrp', 'cardano', 'litecoin', 'bitcoin-cash', 'chainlink', 'stellar', 'binance-coin', 'usd-coin', 'wrapped-bitcoin', 'bitcoin-sv', 'monero', 'eos', 'uniswap', 'tezos', 'aave', 'tron']\n"
     ]
    }
   ],
   "source": [
    "symbol=[]\n",
    "market_caps=[]\n",
    "date_added=[]\n",
    "symbol_name=[]\n",
    "# new_dataframe = pd.DataFrame(ticker, columns=cols)\n",
    "for crypto_data in data['data']:\n",
    "    ticker=crypto_data['symbol']\n",
    "    market_cap=crypto_data['quote']['USD']['market_cap']\n",
    "    name=crypto_data['slug']\n",
    "    genesis=crypto_data['date_added']\n",
    "    symbol.append(ticker)\n",
    "    market_caps.append(market_cap)\n",
    "    symbol_name.append(name)\n",
    "    date_added.append(genesis)\n",
    "print(symbol_name)"
   ]
  },
  {
   "cell_type": "code",
   "execution_count": 5,
   "metadata": {},
   "outputs": [],
   "source": [
    "cols=['Symbol', 'Market Cap']\n",
    "top_20_crypto = pd.DataFrame({\"Symbol\":symbol, \"Symbol name\": symbol_name, \"Market Cap\": market_caps, \"Date added\": date_added})\n",
    "top_20_crypto[\"Symbol name\"]=top_20_crypto[\"Symbol name\"].str.replace(\"-\",\"\")\n",
    "top_20_crypto[\"Symbol name\"].replace({\"polkadotnew\": \"polkadot\"}, inplace=True)"
   ]
  },
  {
   "cell_type": "code",
   "execution_count": 6,
   "metadata": {},
   "outputs": [
    {
     "output_type": "stream",
     "name": "stdout",
     "text": [
      "bitcoin\n",
      "ethereum\n",
      "tether\n",
      "polkadot\n",
      "xrp\n",
      "cardano\n",
      "litecoin\n",
      "bitcoincash\n",
      "chainlink\n",
      "stellar\n",
      "binancecoin\n",
      "usdcoin\n",
      "wrappedbitcoin\n",
      "bitcoinsv\n",
      "monero\n",
      "eos\n",
      "uniswap\n",
      "tezos\n",
      "aave\n",
      "tron\n"
     ]
    }
   ],
   "source": [
    "# pull cryptocurrency news for each coin using gnews api\n",
    "start_date=\"2017-01-16\"\n",
    "end_date=\"2021-01-16\"\n",
    "gnews_api = os.environ[\"gnews_api\"]\n",
    "gnews_data = []\n",
    "\n",
    "for articles in top_20_crypto['Symbol name']:  \n",
    "    gnews_url =f\"https://gnews.io/api/v4/search?q={articles}&in=cryptocurrency&from=start_date&to=end_date&lang=en&token={gnews_api}\"\n",
    "    response = requests.get(gnews_url)\n",
    "    gnews_data.append(response.json())\n",
    "    print(articles)\n",
    "    time.sleep(4)"
   ]
  },
  {
   "cell_type": "code",
   "execution_count": 7,
   "metadata": {},
   "outputs": [],
   "source": [
    "articles=[]\n",
    "for article in gnews_data:\n",
    "    articles.append(article)"
   ]
  },
  {
   "cell_type": "code",
   "execution_count": null,
   "metadata": {},
   "outputs": [],
   "source": [
    "newsapi= NewsApiClient(api_key=os.environ[\"NEWS_API_KEY\"])\n",
    "print(type(newsapi))"
   ]
  },
  {
   "cell_type": "code",
   "execution_count": null,
   "metadata": {},
   "outputs": [],
   "source": [
    "# pull cryptocurrency news for each coin using gnews api\n",
    "start_date=\"2020-12-18\"\n",
    "end_date=\"2021-01-16\"\n",
    "newsapi_data = []\n",
    "for symbols in top_20_crypto['Symbol name']:  \n",
    "    top_headlines = newsapi.get_top_headlines(q=symbols,\n",
    "                                          category='business',\n",
    "                                          language='en',\n",
    "                                          country='us')\n",
    "    newsapi_data.append(top_headlines)"
   ]
  },
  {
   "cell_type": "code",
   "execution_count": null,
   "metadata": {},
   "outputs": [],
   "source": [
    "sources = newsapi.get_sources()\n",
    "sources"
   ]
  },
  {
   "cell_type": "code",
   "execution_count": null,
   "metadata": {},
   "outputs": [],
   "source": [
    "analyzer = SentimentIntensityAnalyzer()"
   ]
  },
  {
   "cell_type": "code",
   "execution_count": null,
   "metadata": {},
   "outputs": [],
   "source": [
    "# Create the sentiment scores DataFrame\n",
    "crypto_senti = []\n",
    "for article in crypto_articles['articles']:\n",
    "    try:\n",
    "        text = article['content']\n",
    "        senti = analyzer.polarity_scores(text)\n",
    "        compound = senti['compound']\n",
    "        pos = senti['pos']\n",
    "        neu = senti['neu']\n",
    "        neg = senti['neg']\n",
    "        crypto_senti.append({\n",
    "            'Text': text,\n",
    "            'Compound': compound,\n",
    "            'Positive': pos,\n",
    "            'Neutral': neu,\n",
    "            'Negative': neg\n",
    "        })\n",
    "    except AttributeError:\n",
    "        pass\n",
    "# DataFrame\n",
    "crypto_df = pd.DataFrame(crypto_senti)\n",
    "crypto_df.head()"
   ]
  },
  {
   "cell_type": "code",
   "execution_count": null,
   "metadata": {},
   "outputs": [],
   "source": [
    "# Function for putting articles into dataframe\n",
    "def create_df(news, language):\n",
    "    articles = []\n",
    "    for article in news:\n",
    "        try:\n",
    "            title = article[“title”]\n",
    "            description = article[“description”]\n",
    "            text = article[“content”]\n",
    "            date = article[“publishedAt”][:10]\n",
    "            articles.append({\n",
    "                “title”: title,\n",
    "                “description”: description,\n",
    "                “text”: text,\n",
    "                “date”: date,\n",
    "                “language”: language\n",
    "            })\n",
    "        except AttributeError:\n",
    "            pass\n",
    "    return pd.DataFrame(articles)"
   ]
  }
 ]
}
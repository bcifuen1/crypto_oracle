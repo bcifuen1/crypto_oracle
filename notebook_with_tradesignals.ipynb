{
 "metadata": {
  "language_info": {
   "codemirror_mode": {
    "name": "ipython",
    "version": 3
   },
   "file_extension": ".py",
   "mimetype": "text/x-python",
   "name": "python",
   "nbconvert_exporter": "python",
   "pygments_lexer": "ipython3",
   "version": "3.7.7-final"
  },
  "orig_nbformat": 2,
  "kernelspec": {
   "name": "python3",
   "display_name": "Python 3",
   "language": "python"
  }
 },
 "nbformat": 4,
 "nbformat_minor": 2,
 "cells": [
  {
   "cell_type": "code",
   "execution_count": 4,
   "metadata": {},
   "outputs": [],
   "source": [
    "import numpy as np\n",
    "import pandas as pd\n",
    "import hvplot.pandas\n",
    "from pathlib import Path"
   ]
  },
  {
   "cell_type": "code",
   "execution_count": 20,
   "metadata": {},
   "outputs": [
    {
     "output_type": "execute_result",
     "data": {
      "text/plain": [
       "            totalArticles                                  title&description  \\\n",
       "date                                                                           \n",
       "2020-12-18             18  How to invest in bitcoin: The major ways to bu...   \n",
       "2020-12-19              6  How will Bitcoin shift the power in the coffee...   \n",
       "2020-12-20             14  Tesla's Elon Musk asks about converting \"large...   \n",
       "2020-12-21             13  Ripple to face SEC suit over XRP cryptocurrenc...   \n",
       "2020-12-22             10  SEC Sues Ripple Over XRP Cryptocurrency The ag...   \n",
       "\n",
       "            Sentiment Score     open     high      low    close        volume  \\\n",
       "date                                                                            \n",
       "2020-12-18                1  22811.8  23317.1  22308.2  23130.5   6050.937552   \n",
       "2020-12-19                1  23132.8  24288.2  22800.0  23871.5   6255.127803   \n",
       "2020-12-20                1  23871.5  24297.7  23084.9  23480.7   5876.100372   \n",
       "2020-12-21                0  23480.8  24090.0  21885.6  22716.1  10783.182650   \n",
       "2020-12-22                1  22724.6  23837.0  22354.2  23828.2   5728.007668   \n",
       "\n",
       "            daily_return  volume change  ...  vol_trend_long  vol_trend_short  \\\n",
       "date                                     ...                                    \n",
       "2020-12-18      0.013331      -0.681420  ...             0.0              0.0   \n",
       "2020-12-19      0.032036       0.033745  ...             0.0             -1.0   \n",
       "2020-12-20     -0.016371      -0.060595  ...             0.0             -1.0   \n",
       "2020-12-21     -0.032563       0.835092  ...             1.0              0.0   \n",
       "2020-12-22      0.048956      -0.468802  ...             0.0             -1.0   \n",
       "\n",
       "            vol_trend_signal  bollinger_mid_band  bollinger_std  \\\n",
       "date                                                              \n",
       "2020-12-18               0.0                 NaN            NaN   \n",
       "2020-12-19              -1.0                 NaN            NaN   \n",
       "2020-12-20              -1.0                 NaN            NaN   \n",
       "2020-12-21               1.0                 NaN            NaN   \n",
       "2020-12-22              -1.0                 NaN            NaN   \n",
       "\n",
       "            bollinger_upper_band  bollinger_lower_band  bollinger_long  \\\n",
       "date                                                                     \n",
       "2020-12-18                   NaN                   NaN             0.0   \n",
       "2020-12-19                   NaN                   NaN             0.0   \n",
       "2020-12-20                   NaN                   NaN             0.0   \n",
       "2020-12-21                   NaN                   NaN             0.0   \n",
       "2020-12-22                   NaN                   NaN             0.0   \n",
       "\n",
       "            bollinger_short  bollinger_signal  \n",
       "date                                           \n",
       "2020-12-18              0.0               0.0  \n",
       "2020-12-19              0.0               0.0  \n",
       "2020-12-20              0.0               0.0  \n",
       "2020-12-21              0.0               0.0  \n",
       "2020-12-22              0.0               0.0  \n",
       "\n",
       "[5 rows x 33 columns]"
      ],
      "text/html": "<div>\n<style scoped>\n    .dataframe tbody tr th:only-of-type {\n        vertical-align: middle;\n    }\n\n    .dataframe tbody tr th {\n        vertical-align: top;\n    }\n\n    .dataframe thead th {\n        text-align: right;\n    }\n</style>\n<table border=\"1\" class=\"dataframe\">\n  <thead>\n    <tr style=\"text-align: right;\">\n      <th></th>\n      <th>totalArticles</th>\n      <th>title&amp;description</th>\n      <th>Sentiment Score</th>\n      <th>open</th>\n      <th>high</th>\n      <th>low</th>\n      <th>close</th>\n      <th>volume</th>\n      <th>daily_return</th>\n      <th>volume change</th>\n      <th>...</th>\n      <th>vol_trend_long</th>\n      <th>vol_trend_short</th>\n      <th>vol_trend_signal</th>\n      <th>bollinger_mid_band</th>\n      <th>bollinger_std</th>\n      <th>bollinger_upper_band</th>\n      <th>bollinger_lower_band</th>\n      <th>bollinger_long</th>\n      <th>bollinger_short</th>\n      <th>bollinger_signal</th>\n    </tr>\n    <tr>\n      <th>date</th>\n      <th></th>\n      <th></th>\n      <th></th>\n      <th></th>\n      <th></th>\n      <th></th>\n      <th></th>\n      <th></th>\n      <th></th>\n      <th></th>\n      <th></th>\n      <th></th>\n      <th></th>\n      <th></th>\n      <th></th>\n      <th></th>\n      <th></th>\n      <th></th>\n      <th></th>\n      <th></th>\n      <th></th>\n    </tr>\n  </thead>\n  <tbody>\n    <tr>\n      <th>2020-12-18</th>\n      <td>18</td>\n      <td>How to invest in bitcoin: The major ways to bu...</td>\n      <td>1</td>\n      <td>22811.8</td>\n      <td>23317.1</td>\n      <td>22308.2</td>\n      <td>23130.5</td>\n      <td>6050.937552</td>\n      <td>0.013331</td>\n      <td>-0.681420</td>\n      <td>...</td>\n      <td>0.0</td>\n      <td>0.0</td>\n      <td>0.0</td>\n      <td>NaN</td>\n      <td>NaN</td>\n      <td>NaN</td>\n      <td>NaN</td>\n      <td>0.0</td>\n      <td>0.0</td>\n      <td>0.0</td>\n    </tr>\n    <tr>\n      <th>2020-12-19</th>\n      <td>6</td>\n      <td>How will Bitcoin shift the power in the coffee...</td>\n      <td>1</td>\n      <td>23132.8</td>\n      <td>24288.2</td>\n      <td>22800.0</td>\n      <td>23871.5</td>\n      <td>6255.127803</td>\n      <td>0.032036</td>\n      <td>0.033745</td>\n      <td>...</td>\n      <td>0.0</td>\n      <td>-1.0</td>\n      <td>-1.0</td>\n      <td>NaN</td>\n      <td>NaN</td>\n      <td>NaN</td>\n      <td>NaN</td>\n      <td>0.0</td>\n      <td>0.0</td>\n      <td>0.0</td>\n    </tr>\n    <tr>\n      <th>2020-12-20</th>\n      <td>14</td>\n      <td>Tesla's Elon Musk asks about converting \"large...</td>\n      <td>1</td>\n      <td>23871.5</td>\n      <td>24297.7</td>\n      <td>23084.9</td>\n      <td>23480.7</td>\n      <td>5876.100372</td>\n      <td>-0.016371</td>\n      <td>-0.060595</td>\n      <td>...</td>\n      <td>0.0</td>\n      <td>-1.0</td>\n      <td>-1.0</td>\n      <td>NaN</td>\n      <td>NaN</td>\n      <td>NaN</td>\n      <td>NaN</td>\n      <td>0.0</td>\n      <td>0.0</td>\n      <td>0.0</td>\n    </tr>\n    <tr>\n      <th>2020-12-21</th>\n      <td>13</td>\n      <td>Ripple to face SEC suit over XRP cryptocurrenc...</td>\n      <td>0</td>\n      <td>23480.8</td>\n      <td>24090.0</td>\n      <td>21885.6</td>\n      <td>22716.1</td>\n      <td>10783.182650</td>\n      <td>-0.032563</td>\n      <td>0.835092</td>\n      <td>...</td>\n      <td>1.0</td>\n      <td>0.0</td>\n      <td>1.0</td>\n      <td>NaN</td>\n      <td>NaN</td>\n      <td>NaN</td>\n      <td>NaN</td>\n      <td>0.0</td>\n      <td>0.0</td>\n      <td>0.0</td>\n    </tr>\n    <tr>\n      <th>2020-12-22</th>\n      <td>10</td>\n      <td>SEC Sues Ripple Over XRP Cryptocurrency The ag...</td>\n      <td>1</td>\n      <td>22724.6</td>\n      <td>23837.0</td>\n      <td>22354.2</td>\n      <td>23828.2</td>\n      <td>5728.007668</td>\n      <td>0.048956</td>\n      <td>-0.468802</td>\n      <td>...</td>\n      <td>0.0</td>\n      <td>-1.0</td>\n      <td>-1.0</td>\n      <td>NaN</td>\n      <td>NaN</td>\n      <td>NaN</td>\n      <td>NaN</td>\n      <td>0.0</td>\n      <td>0.0</td>\n      <td>0.0</td>\n    </tr>\n  </tbody>\n</table>\n<p>5 rows × 33 columns</p>\n</div>"
     },
     "metadata": {},
     "execution_count": 20
    }
   ],
   "source": [
    "# Set path to CSV and read in CSV\n",
    "# csv_path = Path('sentiment_prices_tone_text.csv')\n",
    "# btc_df=pd.read_csv(csv_path, index_col=[0])\n",
    "btc_df.head()"
   ]
  },
  {
   "cell_type": "code",
   "execution_count": 21,
   "metadata": {},
   "outputs": [
    {
     "output_type": "execute_result",
     "data": {
      "text/plain": [
       "            totalArticles                                  title&description  \\\n",
       "date                                                                           \n",
       "2020-12-18             18  How to invest in bitcoin: The major ways to bu...   \n",
       "2020-12-19              6  How will Bitcoin shift the power in the coffee...   \n",
       "2020-12-20             14  Tesla's Elon Musk asks about converting \"large...   \n",
       "2020-12-21             13  Ripple to face SEC suit over XRP cryptocurrenc...   \n",
       "2020-12-22             10  SEC Sues Ripple Over XRP Cryptocurrency The ag...   \n",
       "\n",
       "            Sentiment Score     open     high      low    close        volume  \\\n",
       "date                                                                            \n",
       "2020-12-18                1  22811.8  23317.1  22308.2  23130.5   6050.937552   \n",
       "2020-12-19                1  23132.8  24288.2  22800.0  23871.5   6255.127803   \n",
       "2020-12-20                1  23871.5  24297.7  23084.9  23480.7   5876.100372   \n",
       "2020-12-21                0  23480.8  24090.0  21885.6  22716.1  10783.182650   \n",
       "2020-12-22                1  22724.6  23837.0  22354.2  23828.2   5728.007668   \n",
       "\n",
       "            daily_return  volume change  ...  vol_trend_long  vol_trend_short  \\\n",
       "date                                     ...                                    \n",
       "2020-12-18      0.013331      -0.681420  ...             0.0              0.0   \n",
       "2020-12-19      0.032036       0.033745  ...             0.0             -1.0   \n",
       "2020-12-20     -0.016371      -0.060595  ...             0.0             -1.0   \n",
       "2020-12-21     -0.032563       0.835092  ...             1.0              0.0   \n",
       "2020-12-22      0.048956      -0.468802  ...             0.0             -1.0   \n",
       "\n",
       "            vol_trend_signal  bollinger_mid_band  bollinger_std  \\\n",
       "date                                                              \n",
       "2020-12-18               0.0                 NaN            NaN   \n",
       "2020-12-19              -1.0                 NaN            NaN   \n",
       "2020-12-20              -1.0                 NaN            NaN   \n",
       "2020-12-21               1.0                 NaN            NaN   \n",
       "2020-12-22              -1.0                 NaN            NaN   \n",
       "\n",
       "            bollinger_upper_band  bollinger_lower_band  bollinger_long  \\\n",
       "date                                                                     \n",
       "2020-12-18                   NaN                   NaN             0.0   \n",
       "2020-12-19                   NaN                   NaN             0.0   \n",
       "2020-12-20                   NaN                   NaN             0.0   \n",
       "2020-12-21                   NaN                   NaN             0.0   \n",
       "2020-12-22                   NaN                   NaN             0.0   \n",
       "\n",
       "            bollinger_short  bollinger_signal  \n",
       "date                                           \n",
       "2020-12-18              0.0               0.0  \n",
       "2020-12-19              0.0               0.0  \n",
       "2020-12-20              0.0               0.0  \n",
       "2020-12-21              0.0               0.0  \n",
       "2020-12-22              0.0               0.0  \n",
       "\n",
       "[5 rows x 33 columns]"
      ],
      "text/html": "<div>\n<style scoped>\n    .dataframe tbody tr th:only-of-type {\n        vertical-align: middle;\n    }\n\n    .dataframe tbody tr th {\n        vertical-align: top;\n    }\n\n    .dataframe thead th {\n        text-align: right;\n    }\n</style>\n<table border=\"1\" class=\"dataframe\">\n  <thead>\n    <tr style=\"text-align: right;\">\n      <th></th>\n      <th>totalArticles</th>\n      <th>title&amp;description</th>\n      <th>Sentiment Score</th>\n      <th>open</th>\n      <th>high</th>\n      <th>low</th>\n      <th>close</th>\n      <th>volume</th>\n      <th>daily_return</th>\n      <th>volume change</th>\n      <th>...</th>\n      <th>vol_trend_long</th>\n      <th>vol_trend_short</th>\n      <th>vol_trend_signal</th>\n      <th>bollinger_mid_band</th>\n      <th>bollinger_std</th>\n      <th>bollinger_upper_band</th>\n      <th>bollinger_lower_band</th>\n      <th>bollinger_long</th>\n      <th>bollinger_short</th>\n      <th>bollinger_signal</th>\n    </tr>\n    <tr>\n      <th>date</th>\n      <th></th>\n      <th></th>\n      <th></th>\n      <th></th>\n      <th></th>\n      <th></th>\n      <th></th>\n      <th></th>\n      <th></th>\n      <th></th>\n      <th></th>\n      <th></th>\n      <th></th>\n      <th></th>\n      <th></th>\n      <th></th>\n      <th></th>\n      <th></th>\n      <th></th>\n      <th></th>\n      <th></th>\n    </tr>\n  </thead>\n  <tbody>\n    <tr>\n      <th>2020-12-18</th>\n      <td>18</td>\n      <td>How to invest in bitcoin: The major ways to bu...</td>\n      <td>1</td>\n      <td>22811.8</td>\n      <td>23317.1</td>\n      <td>22308.2</td>\n      <td>23130.5</td>\n      <td>6050.937552</td>\n      <td>0.013331</td>\n      <td>-0.681420</td>\n      <td>...</td>\n      <td>0.0</td>\n      <td>0.0</td>\n      <td>0.0</td>\n      <td>NaN</td>\n      <td>NaN</td>\n      <td>NaN</td>\n      <td>NaN</td>\n      <td>0.0</td>\n      <td>0.0</td>\n      <td>0.0</td>\n    </tr>\n    <tr>\n      <th>2020-12-19</th>\n      <td>6</td>\n      <td>How will Bitcoin shift the power in the coffee...</td>\n      <td>1</td>\n      <td>23132.8</td>\n      <td>24288.2</td>\n      <td>22800.0</td>\n      <td>23871.5</td>\n      <td>6255.127803</td>\n      <td>0.032036</td>\n      <td>0.033745</td>\n      <td>...</td>\n      <td>0.0</td>\n      <td>-1.0</td>\n      <td>-1.0</td>\n      <td>NaN</td>\n      <td>NaN</td>\n      <td>NaN</td>\n      <td>NaN</td>\n      <td>0.0</td>\n      <td>0.0</td>\n      <td>0.0</td>\n    </tr>\n    <tr>\n      <th>2020-12-20</th>\n      <td>14</td>\n      <td>Tesla's Elon Musk asks about converting \"large...</td>\n      <td>1</td>\n      <td>23871.5</td>\n      <td>24297.7</td>\n      <td>23084.9</td>\n      <td>23480.7</td>\n      <td>5876.100372</td>\n      <td>-0.016371</td>\n      <td>-0.060595</td>\n      <td>...</td>\n      <td>0.0</td>\n      <td>-1.0</td>\n      <td>-1.0</td>\n      <td>NaN</td>\n      <td>NaN</td>\n      <td>NaN</td>\n      <td>NaN</td>\n      <td>0.0</td>\n      <td>0.0</td>\n      <td>0.0</td>\n    </tr>\n    <tr>\n      <th>2020-12-21</th>\n      <td>13</td>\n      <td>Ripple to face SEC suit over XRP cryptocurrenc...</td>\n      <td>0</td>\n      <td>23480.8</td>\n      <td>24090.0</td>\n      <td>21885.6</td>\n      <td>22716.1</td>\n      <td>10783.182650</td>\n      <td>-0.032563</td>\n      <td>0.835092</td>\n      <td>...</td>\n      <td>1.0</td>\n      <td>0.0</td>\n      <td>1.0</td>\n      <td>NaN</td>\n      <td>NaN</td>\n      <td>NaN</td>\n      <td>NaN</td>\n      <td>0.0</td>\n      <td>0.0</td>\n      <td>0.0</td>\n    </tr>\n    <tr>\n      <th>2020-12-22</th>\n      <td>10</td>\n      <td>SEC Sues Ripple Over XRP Cryptocurrency The ag...</td>\n      <td>1</td>\n      <td>22724.6</td>\n      <td>23837.0</td>\n      <td>22354.2</td>\n      <td>23828.2</td>\n      <td>5728.007668</td>\n      <td>0.048956</td>\n      <td>-0.468802</td>\n      <td>...</td>\n      <td>0.0</td>\n      <td>-1.0</td>\n      <td>-1.0</td>\n      <td>NaN</td>\n      <td>NaN</td>\n      <td>NaN</td>\n      <td>NaN</td>\n      <td>0.0</td>\n      <td>0.0</td>\n      <td>0.0</td>\n    </tr>\n  </tbody>\n</table>\n<p>5 rows × 33 columns</p>\n</div>"
     },
     "metadata": {},
     "execution_count": 21
    }
   ],
   "source": [
    " # Set index as datetime object and drop extraneous columns\n",
    "btc_df.set_index(pd.to_datetime(btc_df.index, infer_datetime_format=True), inplace=True)\n",
    "# btc_df.drop(columns=['Timestamp'], inplace=True)\n",
    "btc_df.head()"
   ]
  },
  {
   "cell_type": "code",
   "execution_count": 15,
   "metadata": {},
   "outputs": [
    {
     "output_type": "execute_result",
     "data": {
      "text/plain": [
       "            totalArticles                                  title&description  \\\n",
       "date                                                                           \n",
       "2020-12-18             18  How to invest in bitcoin: The major ways to bu...   \n",
       "2020-12-19              6  How will Bitcoin shift the power in the coffee...   \n",
       "2020-12-20             14  Tesla's Elon Musk asks about converting \"large...   \n",
       "2020-12-21             13  Ripple to face SEC suit over XRP cryptocurrenc...   \n",
       "2020-12-22             10  SEC Sues Ripple Over XRP Cryptocurrency The ag...   \n",
       "\n",
       "            Sentiment Score     open     high      low    close        volume  \\\n",
       "date                                                                            \n",
       "2020-12-18                1  22811.8  23317.1  22308.2  23130.5   6050.937552   \n",
       "2020-12-19                1  23132.8  24288.2  22800.0  23871.5   6255.127803   \n",
       "2020-12-20                1  23871.5  24297.7  23084.9  23480.7   5876.100372   \n",
       "2020-12-21                0  23480.8  24090.0  21885.6  22716.1  10783.182650   \n",
       "2020-12-22                1  22724.6  23837.0  22354.2  23828.2   5728.007668   \n",
       "\n",
       "            daily_return  volume change  ...       joy      fear   sadness  \\\n",
       "date                                     ...                                 \n",
       "2020-12-18      0.013331      -0.681420  ...  0.590572  0.592034  0.534758   \n",
       "2020-12-19      0.032036       0.033745  ...  0.529512  0.000000  0.000000   \n",
       "2020-12-20     -0.016371      -0.060595  ...  0.565506  0.000000  0.508825   \n",
       "2020-12-21     -0.032563       0.835092  ...  0.589725  0.000000  0.000000   \n",
       "2020-12-22      0.048956      -0.468802  ...  0.000000  0.000000  0.578295   \n",
       "\n",
       "            tentative  analytical    fast_close    slow_close  crossover_long  \\\n",
       "date                                                                            \n",
       "2020-12-18   0.515201    0.000000  23130.500000  23130.500000             0.0   \n",
       "2020-12-19   0.682860    0.000000  23624.500000  23513.835413             1.0   \n",
       "2020-12-20   0.594668    0.000000  23542.328571  23502.016463             1.0   \n",
       "2020-12-21   0.759095    0.000000  23101.673333  23284.662448             0.0   \n",
       "2020-12-22   0.716654    0.559117  23476.654839  23408.936694             1.0   \n",
       "\n",
       "            crossover_short  crossover_signal  \n",
       "date                                           \n",
       "2020-12-18              0.0               0.0  \n",
       "2020-12-19              0.0               1.0  \n",
       "2020-12-20              0.0               1.0  \n",
       "2020-12-21             -1.0              -1.0  \n",
       "2020-12-22              0.0               1.0  \n",
       "\n",
       "[5 rows x 21 columns]"
      ],
      "text/html": "<div>\n<style scoped>\n    .dataframe tbody tr th:only-of-type {\n        vertical-align: middle;\n    }\n\n    .dataframe tbody tr th {\n        vertical-align: top;\n    }\n\n    .dataframe thead th {\n        text-align: right;\n    }\n</style>\n<table border=\"1\" class=\"dataframe\">\n  <thead>\n    <tr style=\"text-align: right;\">\n      <th></th>\n      <th>totalArticles</th>\n      <th>title&amp;description</th>\n      <th>Sentiment Score</th>\n      <th>open</th>\n      <th>high</th>\n      <th>low</th>\n      <th>close</th>\n      <th>volume</th>\n      <th>daily_return</th>\n      <th>volume change</th>\n      <th>...</th>\n      <th>joy</th>\n      <th>fear</th>\n      <th>sadness</th>\n      <th>tentative</th>\n      <th>analytical</th>\n      <th>fast_close</th>\n      <th>slow_close</th>\n      <th>crossover_long</th>\n      <th>crossover_short</th>\n      <th>crossover_signal</th>\n    </tr>\n    <tr>\n      <th>date</th>\n      <th></th>\n      <th></th>\n      <th></th>\n      <th></th>\n      <th></th>\n      <th></th>\n      <th></th>\n      <th></th>\n      <th></th>\n      <th></th>\n      <th></th>\n      <th></th>\n      <th></th>\n      <th></th>\n      <th></th>\n      <th></th>\n      <th></th>\n      <th></th>\n      <th></th>\n      <th></th>\n      <th></th>\n    </tr>\n  </thead>\n  <tbody>\n    <tr>\n      <th>2020-12-18</th>\n      <td>18</td>\n      <td>How to invest in bitcoin: The major ways to bu...</td>\n      <td>1</td>\n      <td>22811.8</td>\n      <td>23317.1</td>\n      <td>22308.2</td>\n      <td>23130.5</td>\n      <td>6050.937552</td>\n      <td>0.013331</td>\n      <td>-0.681420</td>\n      <td>...</td>\n      <td>0.590572</td>\n      <td>0.592034</td>\n      <td>0.534758</td>\n      <td>0.515201</td>\n      <td>0.000000</td>\n      <td>23130.500000</td>\n      <td>23130.500000</td>\n      <td>0.0</td>\n      <td>0.0</td>\n      <td>0.0</td>\n    </tr>\n    <tr>\n      <th>2020-12-19</th>\n      <td>6</td>\n      <td>How will Bitcoin shift the power in the coffee...</td>\n      <td>1</td>\n      <td>23132.8</td>\n      <td>24288.2</td>\n      <td>22800.0</td>\n      <td>23871.5</td>\n      <td>6255.127803</td>\n      <td>0.032036</td>\n      <td>0.033745</td>\n      <td>...</td>\n      <td>0.529512</td>\n      <td>0.000000</td>\n      <td>0.000000</td>\n      <td>0.682860</td>\n      <td>0.000000</td>\n      <td>23624.500000</td>\n      <td>23513.835413</td>\n      <td>1.0</td>\n      <td>0.0</td>\n      <td>1.0</td>\n    </tr>\n    <tr>\n      <th>2020-12-20</th>\n      <td>14</td>\n      <td>Tesla's Elon Musk asks about converting \"large...</td>\n      <td>1</td>\n      <td>23871.5</td>\n      <td>24297.7</td>\n      <td>23084.9</td>\n      <td>23480.7</td>\n      <td>5876.100372</td>\n      <td>-0.016371</td>\n      <td>-0.060595</td>\n      <td>...</td>\n      <td>0.565506</td>\n      <td>0.000000</td>\n      <td>0.508825</td>\n      <td>0.594668</td>\n      <td>0.000000</td>\n      <td>23542.328571</td>\n      <td>23502.016463</td>\n      <td>1.0</td>\n      <td>0.0</td>\n      <td>1.0</td>\n    </tr>\n    <tr>\n      <th>2020-12-21</th>\n      <td>13</td>\n      <td>Ripple to face SEC suit over XRP cryptocurrenc...</td>\n      <td>0</td>\n      <td>23480.8</td>\n      <td>24090.0</td>\n      <td>21885.6</td>\n      <td>22716.1</td>\n      <td>10783.182650</td>\n      <td>-0.032563</td>\n      <td>0.835092</td>\n      <td>...</td>\n      <td>0.589725</td>\n      <td>0.000000</td>\n      <td>0.000000</td>\n      <td>0.759095</td>\n      <td>0.000000</td>\n      <td>23101.673333</td>\n      <td>23284.662448</td>\n      <td>0.0</td>\n      <td>-1.0</td>\n      <td>-1.0</td>\n    </tr>\n    <tr>\n      <th>2020-12-22</th>\n      <td>10</td>\n      <td>SEC Sues Ripple Over XRP Cryptocurrency The ag...</td>\n      <td>1</td>\n      <td>22724.6</td>\n      <td>23837.0</td>\n      <td>22354.2</td>\n      <td>23828.2</td>\n      <td>5728.007668</td>\n      <td>0.048956</td>\n      <td>-0.468802</td>\n      <td>...</td>\n      <td>0.000000</td>\n      <td>0.000000</td>\n      <td>0.578295</td>\n      <td>0.716654</td>\n      <td>0.559117</td>\n      <td>23476.654839</td>\n      <td>23408.936694</td>\n      <td>1.0</td>\n      <td>0.0</td>\n      <td>1.0</td>\n    </tr>\n  </tbody>\n</table>\n<p>5 rows × 21 columns</p>\n</div>"
     },
     "metadata": {},
     "execution_count": 15
    }
   ],
   "source": [
    " # Set short and long windows\n",
    "short_window = 1\n",
    "long_window = 10\n",
    "\n",
    "# Construct a `Fast` and `Slow` Exponential Moving Average from short and long windows, respectively\n",
    "btc_df['fast_close'] = btc_df['close'].ewm(halflife=short_window).mean()\n",
    "btc_df['slow_close'] = btc_df['close'].ewm(halflife=long_window).mean()\n",
    "\n",
    "# Construct a crossover trading signal\n",
    "btc_df['crossover_long'] = np.where(btc_df['fast_close'] > btc_df['slow_close'], 1.0, 0.0)\n",
    "btc_df['crossover_short'] = np.where(btc_df['fast_close'] < btc_df['slow_close'], -1.0, 0.0)\n",
    "btc_df['crossover_signal'] = btc_df['crossover_long'] + btc_df['crossover_short']\n",
    "\n",
    "btc_df.head()"
   ]
  },
  {
   "cell_type": "code",
   "execution_count": null,
   "metadata": {},
   "outputs": [],
   "source": [
    "# Plot the EMA of BTC/USD closing prices\n",
    "# btc_df[['Close', 'fast_close', 'slow_close']].plot(figsize=(20,10))"
   ]
  },
  {
   "cell_type": "code",
   "execution_count": 16,
   "metadata": {},
   "outputs": [
    {
     "output_type": "execute_result",
     "data": {
      "text/plain": [
       "            totalArticles                                  title&description  \\\n",
       "date                                                                           \n",
       "2020-12-18             18  How to invest in bitcoin: The major ways to bu...   \n",
       "2020-12-19              6  How will Bitcoin shift the power in the coffee...   \n",
       "2020-12-20             14  Tesla's Elon Musk asks about converting \"large...   \n",
       "2020-12-21             13  Ripple to face SEC suit over XRP cryptocurrenc...   \n",
       "2020-12-22             10  SEC Sues Ripple Over XRP Cryptocurrency The ag...   \n",
       "\n",
       "            Sentiment Score     open     high      low    close        volume  \\\n",
       "date                                                                            \n",
       "2020-12-18                1  22811.8  23317.1  22308.2  23130.5   6050.937552   \n",
       "2020-12-19                1  23132.8  24288.2  22800.0  23871.5   6255.127803   \n",
       "2020-12-20                1  23871.5  24297.7  23084.9  23480.7   5876.100372   \n",
       "2020-12-21                0  23480.8  24090.0  21885.6  22716.1  10783.182650   \n",
       "2020-12-22                1  22724.6  23837.0  22354.2  23828.2   5728.007668   \n",
       "\n",
       "            daily_return  volume change  ...    fast_close    slow_close  \\\n",
       "date                                     ...                               \n",
       "2020-12-18      0.013331      -0.681420  ...  23130.500000  23130.500000   \n",
       "2020-12-19      0.032036       0.033745  ...  23624.500000  23513.835413   \n",
       "2020-12-20     -0.016371      -0.060595  ...  23542.328571  23502.016463   \n",
       "2020-12-21     -0.032563       0.835092  ...  23101.673333  23284.662448   \n",
       "2020-12-22      0.048956      -0.468802  ...  23476.654839  23408.936694   \n",
       "\n",
       "            crossover_long  crossover_short  crossover_signal  fast_vol  \\\n",
       "date                                                                      \n",
       "2020-12-18             0.0              0.0               0.0       NaN   \n",
       "2020-12-19             1.0              0.0               1.0  0.013226   \n",
       "2020-12-20             1.0              0.0               1.0  0.028644   \n",
       "2020-12-21             0.0             -1.0              -1.0  0.028658   \n",
       "2020-12-22             1.0              0.0               1.0  0.045227   \n",
       "\n",
       "            slow_vol  vol_trend_long  vol_trend_short  vol_trend_signal  \n",
       "date                                                                     \n",
       "2020-12-18       NaN             0.0              0.0               0.0  \n",
       "2020-12-19  0.013226             0.0             -1.0              -1.0  \n",
       "2020-12-20  0.024880             0.0             -1.0              -1.0  \n",
       "2020-12-21  0.029311             1.0              0.0               1.0  \n",
       "2020-12-22  0.034744             0.0             -1.0              -1.0  \n",
       "\n",
       "[5 rows x 26 columns]"
      ],
      "text/html": "<div>\n<style scoped>\n    .dataframe tbody tr th:only-of-type {\n        vertical-align: middle;\n    }\n\n    .dataframe tbody tr th {\n        vertical-align: top;\n    }\n\n    .dataframe thead th {\n        text-align: right;\n    }\n</style>\n<table border=\"1\" class=\"dataframe\">\n  <thead>\n    <tr style=\"text-align: right;\">\n      <th></th>\n      <th>totalArticles</th>\n      <th>title&amp;description</th>\n      <th>Sentiment Score</th>\n      <th>open</th>\n      <th>high</th>\n      <th>low</th>\n      <th>close</th>\n      <th>volume</th>\n      <th>daily_return</th>\n      <th>volume change</th>\n      <th>...</th>\n      <th>fast_close</th>\n      <th>slow_close</th>\n      <th>crossover_long</th>\n      <th>crossover_short</th>\n      <th>crossover_signal</th>\n      <th>fast_vol</th>\n      <th>slow_vol</th>\n      <th>vol_trend_long</th>\n      <th>vol_trend_short</th>\n      <th>vol_trend_signal</th>\n    </tr>\n    <tr>\n      <th>date</th>\n      <th></th>\n      <th></th>\n      <th></th>\n      <th></th>\n      <th></th>\n      <th></th>\n      <th></th>\n      <th></th>\n      <th></th>\n      <th></th>\n      <th></th>\n      <th></th>\n      <th></th>\n      <th></th>\n      <th></th>\n      <th></th>\n      <th></th>\n      <th></th>\n      <th></th>\n      <th></th>\n      <th></th>\n    </tr>\n  </thead>\n  <tbody>\n    <tr>\n      <th>2020-12-18</th>\n      <td>18</td>\n      <td>How to invest in bitcoin: The major ways to bu...</td>\n      <td>1</td>\n      <td>22811.8</td>\n      <td>23317.1</td>\n      <td>22308.2</td>\n      <td>23130.5</td>\n      <td>6050.937552</td>\n      <td>0.013331</td>\n      <td>-0.681420</td>\n      <td>...</td>\n      <td>23130.500000</td>\n      <td>23130.500000</td>\n      <td>0.0</td>\n      <td>0.0</td>\n      <td>0.0</td>\n      <td>NaN</td>\n      <td>NaN</td>\n      <td>0.0</td>\n      <td>0.0</td>\n      <td>0.0</td>\n    </tr>\n    <tr>\n      <th>2020-12-19</th>\n      <td>6</td>\n      <td>How will Bitcoin shift the power in the coffee...</td>\n      <td>1</td>\n      <td>23132.8</td>\n      <td>24288.2</td>\n      <td>22800.0</td>\n      <td>23871.5</td>\n      <td>6255.127803</td>\n      <td>0.032036</td>\n      <td>0.033745</td>\n      <td>...</td>\n      <td>23624.500000</td>\n      <td>23513.835413</td>\n      <td>1.0</td>\n      <td>0.0</td>\n      <td>1.0</td>\n      <td>0.013226</td>\n      <td>0.013226</td>\n      <td>0.0</td>\n      <td>-1.0</td>\n      <td>-1.0</td>\n    </tr>\n    <tr>\n      <th>2020-12-20</th>\n      <td>14</td>\n      <td>Tesla's Elon Musk asks about converting \"large...</td>\n      <td>1</td>\n      <td>23871.5</td>\n      <td>24297.7</td>\n      <td>23084.9</td>\n      <td>23480.7</td>\n      <td>5876.100372</td>\n      <td>-0.016371</td>\n      <td>-0.060595</td>\n      <td>...</td>\n      <td>23542.328571</td>\n      <td>23502.016463</td>\n      <td>1.0</td>\n      <td>0.0</td>\n      <td>1.0</td>\n      <td>0.028644</td>\n      <td>0.024880</td>\n      <td>0.0</td>\n      <td>-1.0</td>\n      <td>-1.0</td>\n    </tr>\n    <tr>\n      <th>2020-12-21</th>\n      <td>13</td>\n      <td>Ripple to face SEC suit over XRP cryptocurrenc...</td>\n      <td>0</td>\n      <td>23480.8</td>\n      <td>24090.0</td>\n      <td>21885.6</td>\n      <td>22716.1</td>\n      <td>10783.182650</td>\n      <td>-0.032563</td>\n      <td>0.835092</td>\n      <td>...</td>\n      <td>23101.673333</td>\n      <td>23284.662448</td>\n      <td>0.0</td>\n      <td>-1.0</td>\n      <td>-1.0</td>\n      <td>0.028658</td>\n      <td>0.029311</td>\n      <td>1.0</td>\n      <td>0.0</td>\n      <td>1.0</td>\n    </tr>\n    <tr>\n      <th>2020-12-22</th>\n      <td>10</td>\n      <td>SEC Sues Ripple Over XRP Cryptocurrency The ag...</td>\n      <td>1</td>\n      <td>22724.6</td>\n      <td>23837.0</td>\n      <td>22354.2</td>\n      <td>23828.2</td>\n      <td>5728.007668</td>\n      <td>0.048956</td>\n      <td>-0.468802</td>\n      <td>...</td>\n      <td>23476.654839</td>\n      <td>23408.936694</td>\n      <td>1.0</td>\n      <td>0.0</td>\n      <td>1.0</td>\n      <td>0.045227</td>\n      <td>0.034744</td>\n      <td>0.0</td>\n      <td>-1.0</td>\n      <td>-1.0</td>\n    </tr>\n  </tbody>\n</table>\n<p>5 rows × 26 columns</p>\n</div>"
     },
     "metadata": {},
     "execution_count": 16
    }
   ],
   "source": [
    " # Set short and long volatility windows\n",
    "short_vol_window = 1\n",
    "long_vol_window = 10\n",
    "\n",
    "# Construct a `Fast` and `Slow` Exponential Moving Average from short and long windows, respectively\n",
    "btc_df['fast_vol'] = btc_df['daily_return'].ewm(halflife=short_vol_window).std()\n",
    "btc_df['slow_vol'] = btc_df['daily_return'].ewm(halflife=long_vol_window).std()\n",
    "\n",
    "# Construct a crossover trading signal\n",
    "btc_df['vol_trend_long'] = np.where(btc_df['fast_vol'] < btc_df['slow_vol'], 1.0, 0.0)\n",
    "btc_df['vol_trend_short'] = np.where(btc_df['fast_vol'] > btc_df['slow_vol'], -1.0, 0.0) \n",
    "btc_df['vol_trend_signal'] = btc_df['vol_trend_long'] + btc_df['vol_trend_short']\n",
    "\n",
    "btc_df.head()"
   ]
  },
  {
   "cell_type": "code",
   "execution_count": null,
   "metadata": {},
   "outputs": [],
   "source": [
    " # Plot the EMA of BTC/USD daily return volatility\n",
    "# btc_df[['fast_vol', 'slow_vol']].plot(figsize=(20,10))"
   ]
  },
  {
   "cell_type": "code",
   "execution_count": 19,
   "metadata": {},
   "outputs": [
    {
     "output_type": "execute_result",
     "data": {
      "text/plain": [
       "            totalArticles                                  title&description  \\\n",
       "date                                                                           \n",
       "2020-12-18             18  How to invest in bitcoin: The major ways to bu...   \n",
       "2020-12-19              6  How will Bitcoin shift the power in the coffee...   \n",
       "2020-12-20             14  Tesla's Elon Musk asks about converting \"large...   \n",
       "2020-12-21             13  Ripple to face SEC suit over XRP cryptocurrenc...   \n",
       "2020-12-22             10  SEC Sues Ripple Over XRP Cryptocurrency The ag...   \n",
       "\n",
       "            Sentiment Score     open     high      low    close        volume  \\\n",
       "date                                                                            \n",
       "2020-12-18                1  22811.8  23317.1  22308.2  23130.5   6050.937552   \n",
       "2020-12-19                1  23132.8  24288.2  22800.0  23871.5   6255.127803   \n",
       "2020-12-20                1  23871.5  24297.7  23084.9  23480.7   5876.100372   \n",
       "2020-12-21                0  23480.8  24090.0  21885.6  22716.1  10783.182650   \n",
       "2020-12-22                1  22724.6  23837.0  22354.2  23828.2   5728.007668   \n",
       "\n",
       "            daily_return  volume change  ...  vol_trend_long  vol_trend_short  \\\n",
       "date                                     ...                                    \n",
       "2020-12-18      0.013331      -0.681420  ...             0.0              0.0   \n",
       "2020-12-19      0.032036       0.033745  ...             0.0             -1.0   \n",
       "2020-12-20     -0.016371      -0.060595  ...             0.0             -1.0   \n",
       "2020-12-21     -0.032563       0.835092  ...             1.0              0.0   \n",
       "2020-12-22      0.048956      -0.468802  ...             0.0             -1.0   \n",
       "\n",
       "            vol_trend_signal  bollinger_mid_band  bollinger_std  \\\n",
       "date                                                              \n",
       "2020-12-18               0.0                 NaN            NaN   \n",
       "2020-12-19              -1.0                 NaN            NaN   \n",
       "2020-12-20              -1.0                 NaN            NaN   \n",
       "2020-12-21               1.0                 NaN            NaN   \n",
       "2020-12-22              -1.0                 NaN            NaN   \n",
       "\n",
       "            bollinger_upper_band  bollinger_lower_band  bollinger_long  \\\n",
       "date                                                                     \n",
       "2020-12-18                   NaN                   NaN             0.0   \n",
       "2020-12-19                   NaN                   NaN             0.0   \n",
       "2020-12-20                   NaN                   NaN             0.0   \n",
       "2020-12-21                   NaN                   NaN             0.0   \n",
       "2020-12-22                   NaN                   NaN             0.0   \n",
       "\n",
       "            bollinger_short  bollinger_signal  \n",
       "date                                           \n",
       "2020-12-18              0.0               0.0  \n",
       "2020-12-19              0.0               0.0  \n",
       "2020-12-20              0.0               0.0  \n",
       "2020-12-21              0.0               0.0  \n",
       "2020-12-22              0.0               0.0  \n",
       "\n",
       "[5 rows x 33 columns]"
      ],
      "text/html": "<div>\n<style scoped>\n    .dataframe tbody tr th:only-of-type {\n        vertical-align: middle;\n    }\n\n    .dataframe tbody tr th {\n        vertical-align: top;\n    }\n\n    .dataframe thead th {\n        text-align: right;\n    }\n</style>\n<table border=\"1\" class=\"dataframe\">\n  <thead>\n    <tr style=\"text-align: right;\">\n      <th></th>\n      <th>totalArticles</th>\n      <th>title&amp;description</th>\n      <th>Sentiment Score</th>\n      <th>open</th>\n      <th>high</th>\n      <th>low</th>\n      <th>close</th>\n      <th>volume</th>\n      <th>daily_return</th>\n      <th>volume change</th>\n      <th>...</th>\n      <th>vol_trend_long</th>\n      <th>vol_trend_short</th>\n      <th>vol_trend_signal</th>\n      <th>bollinger_mid_band</th>\n      <th>bollinger_std</th>\n      <th>bollinger_upper_band</th>\n      <th>bollinger_lower_band</th>\n      <th>bollinger_long</th>\n      <th>bollinger_short</th>\n      <th>bollinger_signal</th>\n    </tr>\n    <tr>\n      <th>date</th>\n      <th></th>\n      <th></th>\n      <th></th>\n      <th></th>\n      <th></th>\n      <th></th>\n      <th></th>\n      <th></th>\n      <th></th>\n      <th></th>\n      <th></th>\n      <th></th>\n      <th></th>\n      <th></th>\n      <th></th>\n      <th></th>\n      <th></th>\n      <th></th>\n      <th></th>\n      <th></th>\n      <th></th>\n    </tr>\n  </thead>\n  <tbody>\n    <tr>\n      <th>2020-12-18</th>\n      <td>18</td>\n      <td>How to invest in bitcoin: The major ways to bu...</td>\n      <td>1</td>\n      <td>22811.8</td>\n      <td>23317.1</td>\n      <td>22308.2</td>\n      <td>23130.5</td>\n      <td>6050.937552</td>\n      <td>0.013331</td>\n      <td>-0.681420</td>\n      <td>...</td>\n      <td>0.0</td>\n      <td>0.0</td>\n      <td>0.0</td>\n      <td>NaN</td>\n      <td>NaN</td>\n      <td>NaN</td>\n      <td>NaN</td>\n      <td>0.0</td>\n      <td>0.0</td>\n      <td>0.0</td>\n    </tr>\n    <tr>\n      <th>2020-12-19</th>\n      <td>6</td>\n      <td>How will Bitcoin shift the power in the coffee...</td>\n      <td>1</td>\n      <td>23132.8</td>\n      <td>24288.2</td>\n      <td>22800.0</td>\n      <td>23871.5</td>\n      <td>6255.127803</td>\n      <td>0.032036</td>\n      <td>0.033745</td>\n      <td>...</td>\n      <td>0.0</td>\n      <td>-1.0</td>\n      <td>-1.0</td>\n      <td>NaN</td>\n      <td>NaN</td>\n      <td>NaN</td>\n      <td>NaN</td>\n      <td>0.0</td>\n      <td>0.0</td>\n      <td>0.0</td>\n    </tr>\n    <tr>\n      <th>2020-12-20</th>\n      <td>14</td>\n      <td>Tesla's Elon Musk asks about converting \"large...</td>\n      <td>1</td>\n      <td>23871.5</td>\n      <td>24297.7</td>\n      <td>23084.9</td>\n      <td>23480.7</td>\n      <td>5876.100372</td>\n      <td>-0.016371</td>\n      <td>-0.060595</td>\n      <td>...</td>\n      <td>0.0</td>\n      <td>-1.0</td>\n      <td>-1.0</td>\n      <td>NaN</td>\n      <td>NaN</td>\n      <td>NaN</td>\n      <td>NaN</td>\n      <td>0.0</td>\n      <td>0.0</td>\n      <td>0.0</td>\n    </tr>\n    <tr>\n      <th>2020-12-21</th>\n      <td>13</td>\n      <td>Ripple to face SEC suit over XRP cryptocurrenc...</td>\n      <td>0</td>\n      <td>23480.8</td>\n      <td>24090.0</td>\n      <td>21885.6</td>\n      <td>22716.1</td>\n      <td>10783.182650</td>\n      <td>-0.032563</td>\n      <td>0.835092</td>\n      <td>...</td>\n      <td>1.0</td>\n      <td>0.0</td>\n      <td>1.0</td>\n      <td>NaN</td>\n      <td>NaN</td>\n      <td>NaN</td>\n      <td>NaN</td>\n      <td>0.0</td>\n      <td>0.0</td>\n      <td>0.0</td>\n    </tr>\n    <tr>\n      <th>2020-12-22</th>\n      <td>10</td>\n      <td>SEC Sues Ripple Over XRP Cryptocurrency The ag...</td>\n      <td>1</td>\n      <td>22724.6</td>\n      <td>23837.0</td>\n      <td>22354.2</td>\n      <td>23828.2</td>\n      <td>5728.007668</td>\n      <td>0.048956</td>\n      <td>-0.468802</td>\n      <td>...</td>\n      <td>0.0</td>\n      <td>-1.0</td>\n      <td>-1.0</td>\n      <td>NaN</td>\n      <td>NaN</td>\n      <td>NaN</td>\n      <td>NaN</td>\n      <td>0.0</td>\n      <td>0.0</td>\n      <td>0.0</td>\n    </tr>\n  </tbody>\n</table>\n<p>5 rows × 33 columns</p>\n</div>"
     },
     "metadata": {},
     "execution_count": 19
    }
   ],
   "source": [
    "# Set bollinger band window\n",
    "bollinger_window = 20\n",
    "\n",
    "# Calculate rolling mean and standard deviation\n",
    "btc_df['bollinger_mid_band'] = btc_df['close'].rolling(window=bollinger_window).mean()\n",
    "btc_df['bollinger_std'] = btc_df['close'].rolling(window=20).std()\n",
    "\n",
    "# Calculate upper and lowers bands of bollinger band\n",
    "btc_df['bollinger_upper_band']  = btc_df['bollinger_mid_band'] + (btc_df['bollinger_std'] * 1)\n",
    "btc_df['bollinger_lower_band']  = btc_df['bollinger_mid_band'] - (btc_df['bollinger_std'] * 1)\n",
    "\n",
    "# Calculate bollinger band trading signal\n",
    "btc_df['bollinger_long'] = np.where(btc_df['close'] < btc_df['bollinger_lower_band'], 1.0, 0.0)\n",
    "btc_df['bollinger_short'] = np.where(btc_df['close'] > btc_df['bollinger_upper_band'], -1.0, 0.0)\n",
    "btc_df['bollinger_signal'] = btc_df['bollinger_long'] + btc_df['bollinger_short']\n",
    "\n",
    "btc_df.head()"
   ]
  },
  {
   "cell_type": "code",
   "execution_count": null,
   "metadata": {},
   "outputs": [],
   "source": [
    "# Plot the Bollinger Bands for BTC/USD closing prices\n",
    "# btc_df[['Close','bollinger_mid_band','bollinger_upper_band','bollinger_lower_band']].plot(figsize=(20,10))"
   ]
  },
  {
   "cell_type": "code",
   "execution_count": 22,
   "metadata": {},
   "outputs": [],
   "source": [
    "btc_df.to_csv('dataframe_with_tradesignals.csv')"
   ]
  },
  {
   "cell_type": "code",
   "execution_count": null,
   "metadata": {},
   "outputs": [],
   "source": []
  }
 ]
}
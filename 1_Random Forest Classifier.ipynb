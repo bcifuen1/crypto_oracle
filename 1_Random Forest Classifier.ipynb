{
 "cells": [
  {
   "cell_type": "code",
   "execution_count": 1,
   "metadata": {},
   "outputs": [],
   "source": [
    "import warnings\n",
    "\n",
    "warnings.filterwarnings('ignore')"
   ]
  },
  {
   "cell_type": "code",
   "execution_count": 2,
   "metadata": {},
   "outputs": [],
   "source": [
    "import numpy as np\n",
    "import pandas as pd\n",
    "from pathlib import Path\n",
    "from collections import Counter"
   ]
  },
  {
   "cell_type": "code",
   "execution_count": 3,
   "metadata": {},
   "outputs": [],
   "source": [
    "from sklearn.preprocessing import StandardScaler\n",
    "from sklearn.preprocessing import LabelEncoder\n",
    "\n",
    "from sklearn.metrics import balanced_accuracy_score\n",
    "from sklearn.metrics import confusion_matrix, accuracy_score, classification_report\n",
    "from sklearn.datasets import make_classification\n",
    "\n",
    "from imblearn.ensemble import BalancedRandomForestClassifier, EasyEnsembleClassifier\n",
    "from imblearn.metrics import classification_report_imbalanced"
   ]
  },
  {
   "cell_type": "code",
   "execution_count": 4,
   "metadata": {},
   "outputs": [
    {
     "data": {
      "text/html": [
       "<div>\n",
       "<style scoped>\n",
       "    .dataframe tbody tr th:only-of-type {\n",
       "        vertical-align: middle;\n",
       "    }\n",
       "\n",
       "    .dataframe tbody tr th {\n",
       "        vertical-align: top;\n",
       "    }\n",
       "\n",
       "    .dataframe thead th {\n",
       "        text-align: right;\n",
       "    }\n",
       "</style>\n",
       "<table border=\"1\" class=\"dataframe\">\n",
       "  <thead>\n",
       "    <tr style=\"text-align: right;\">\n",
       "      <th></th>\n",
       "      <th>date</th>\n",
       "      <th>totalArticles</th>\n",
       "      <th>daily_return</th>\n",
       "      <th>volume_change</th>\n",
       "      <th>spread</th>\n",
       "      <th>joy</th>\n",
       "      <th>fear</th>\n",
       "      <th>sadness</th>\n",
       "      <th>tentative</th>\n",
       "      <th>analytical</th>\n",
       "      <th>confident</th>\n",
       "      <th>anger</th>\n",
       "      <th>crossover_signal</th>\n",
       "      <th>vol_trend_signal</th>\n",
       "      <th>bollinger_signal</th>\n",
       "      <th>close</th>\n",
       "      <th>positive_return</th>\n",
       "    </tr>\n",
       "  </thead>\n",
       "  <tbody>\n",
       "    <tr>\n",
       "      <th>0</th>\n",
       "      <td>2020-10-31</td>\n",
       "      <td>5.0</td>\n",
       "      <td>0.007717</td>\n",
       "      <td>0.165422</td>\n",
       "      <td>0.041145</td>\n",
       "      <td>0.0</td>\n",
       "      <td>0.0</td>\n",
       "      <td>0.000000</td>\n",
       "      <td>0.668336</td>\n",
       "      <td>0.000000</td>\n",
       "      <td>0.0</td>\n",
       "      <td>0.0</td>\n",
       "      <td>1.0</td>\n",
       "      <td>-1.0</td>\n",
       "      <td>-1.0</td>\n",
       "      <td>13567.0</td>\n",
       "      <td>1.0</td>\n",
       "    </tr>\n",
       "    <tr>\n",
       "      <th>1</th>\n",
       "      <td>2020-11-01</td>\n",
       "      <td>1.0</td>\n",
       "      <td>0.017845</td>\n",
       "      <td>-0.183336</td>\n",
       "      <td>0.048242</td>\n",
       "      <td>0.0</td>\n",
       "      <td>0.0</td>\n",
       "      <td>0.576203</td>\n",
       "      <td>0.000000</td>\n",
       "      <td>0.000000</td>\n",
       "      <td>0.0</td>\n",
       "      <td>0.0</td>\n",
       "      <td>1.0</td>\n",
       "      <td>1.0</td>\n",
       "      <td>-1.0</td>\n",
       "      <td>13809.1</td>\n",
       "      <td>0.0</td>\n",
       "    </tr>\n",
       "    <tr>\n",
       "      <th>2</th>\n",
       "      <td>2020-11-02</td>\n",
       "      <td>1.0</td>\n",
       "      <td>-0.003375</td>\n",
       "      <td>-0.564168</td>\n",
       "      <td>0.019277</td>\n",
       "      <td>0.0</td>\n",
       "      <td>0.0</td>\n",
       "      <td>0.000000</td>\n",
       "      <td>0.672523</td>\n",
       "      <td>0.000000</td>\n",
       "      <td>0.0</td>\n",
       "      <td>0.0</td>\n",
       "      <td>1.0</td>\n",
       "      <td>1.0</td>\n",
       "      <td>-1.0</td>\n",
       "      <td>13762.5</td>\n",
       "      <td>0.0</td>\n",
       "    </tr>\n",
       "    <tr>\n",
       "      <th>3</th>\n",
       "      <td>2020-11-03</td>\n",
       "      <td>2.0</td>\n",
       "      <td>-0.014292</td>\n",
       "      <td>1.237562</td>\n",
       "      <td>0.045173</td>\n",
       "      <td>0.0</td>\n",
       "      <td>0.0</td>\n",
       "      <td>0.000000</td>\n",
       "      <td>0.000000</td>\n",
       "      <td>0.000000</td>\n",
       "      <td>0.0</td>\n",
       "      <td>0.0</td>\n",
       "      <td>1.0</td>\n",
       "      <td>1.0</td>\n",
       "      <td>-1.0</td>\n",
       "      <td>13565.8</td>\n",
       "      <td>1.0</td>\n",
       "    </tr>\n",
       "    <tr>\n",
       "      <th>4</th>\n",
       "      <td>2020-11-04</td>\n",
       "      <td>1.0</td>\n",
       "      <td>0.033614</td>\n",
       "      <td>-0.021746</td>\n",
       "      <td>0.055851</td>\n",
       "      <td>0.0</td>\n",
       "      <td>0.0</td>\n",
       "      <td>0.000000</td>\n",
       "      <td>0.000000</td>\n",
       "      <td>0.822162</td>\n",
       "      <td>0.0</td>\n",
       "      <td>0.0</td>\n",
       "      <td>1.0</td>\n",
       "      <td>-1.0</td>\n",
       "      <td>-1.0</td>\n",
       "      <td>14021.8</td>\n",
       "      <td>1.0</td>\n",
       "    </tr>\n",
       "  </tbody>\n",
       "</table>\n",
       "</div>"
      ],
      "text/plain": [
       "         date  totalArticles  daily_return  volume_change    spread  joy  \\\n",
       "0  2020-10-31            5.0      0.007717       0.165422  0.041145  0.0   \n",
       "1  2020-11-01            1.0      0.017845      -0.183336  0.048242  0.0   \n",
       "2  2020-11-02            1.0     -0.003375      -0.564168  0.019277  0.0   \n",
       "3  2020-11-03            2.0     -0.014292       1.237562  0.045173  0.0   \n",
       "4  2020-11-04            1.0      0.033614      -0.021746  0.055851  0.0   \n",
       "\n",
       "   fear   sadness  tentative  analytical  confident  anger  crossover_signal  \\\n",
       "0   0.0  0.000000   0.668336    0.000000        0.0    0.0               1.0   \n",
       "1   0.0  0.576203   0.000000    0.000000        0.0    0.0               1.0   \n",
       "2   0.0  0.000000   0.672523    0.000000        0.0    0.0               1.0   \n",
       "3   0.0  0.000000   0.000000    0.000000        0.0    0.0               1.0   \n",
       "4   0.0  0.000000   0.000000    0.822162        0.0    0.0               1.0   \n",
       "\n",
       "   vol_trend_signal  bollinger_signal    close  positive_return  \n",
       "0              -1.0              -1.0  13567.0              1.0  \n",
       "1               1.0              -1.0  13809.1              0.0  \n",
       "2               1.0              -1.0  13762.5              0.0  \n",
       "3               1.0              -1.0  13565.8              1.0  \n",
       "4              -1.0              -1.0  14021.8              1.0  "
      ]
     },
     "execution_count": 4,
     "metadata": {},
     "output_type": "execute_result"
    }
   ],
   "source": [
    "file_path = Path('Resources/data.csv')\n",
    "data = pd.read_csv(file_path)\n",
    "data.head()"
   ]
  },
  {
   "cell_type": "code",
   "execution_count": 5,
   "metadata": {},
   "outputs": [
    {
     "data": {
      "text/plain": [
       "Index(['date', 'totalArticles', 'daily_return', 'volume_change', 'spread',\n",
       "       'joy', 'fear', 'sadness', 'tentative', 'analytical', 'confident',\n",
       "       'anger', 'crossover_signal', 'vol_trend_signal', 'bollinger_signal',\n",
       "       'close', 'positive_return'],\n",
       "      dtype='object')"
      ]
     },
     "execution_count": 5,
     "metadata": {},
     "output_type": "execute_result"
    }
   ],
   "source": [
    "data.columns"
   ]
  },
  {
   "cell_type": "code",
   "execution_count": 6,
   "metadata": {},
   "outputs": [
    {
     "name": "stdout",
     "output_type": "stream",
     "text": [
      "1.0     17\n",
      "3.0      8\n",
      "12.0     5\n",
      "5.0      4\n",
      "14.0     4\n",
      "29.0     4\n",
      "2.0      4\n",
      "10.0     3\n",
      "6.0      3\n",
      "4.0      3\n",
      "16.0     3\n",
      "20.0     2\n",
      "9.0      2\n",
      "35.0     2\n",
      "8.0      2\n",
      "42.0     2\n",
      "7.0      2\n",
      "15.0     1\n",
      "21.0     1\n",
      "46.0     1\n",
      "25.0     1\n",
      "52.0     1\n",
      "30.0     1\n",
      "72.0     1\n",
      "59.0     1\n",
      "18.0     1\n",
      "13.0     1\n",
      "27.0     1\n",
      "23.0     1\n",
      "22.0     1\n",
      "57.0     1\n",
      "24.0     1\n",
      "51.0     1\n",
      "53.0     1\n",
      "61.0     1\n",
      "38.0     1\n",
      "Name: totalArticles, dtype: int64\n"
     ]
    }
   ],
   "source": [
    "for i in ['totalArticles']:\n",
    "    print(data[i].value_counts())"
   ]
  },
  {
   "cell_type": "code",
   "execution_count": 7,
   "metadata": {},
   "outputs": [
    {
     "name": "stdout",
     "output_type": "stream",
     "text": [
      "0.000000    85\n",
      "0.592034     1\n",
      "0.542028     1\n",
      "0.600483     1\n",
      "0.561904     1\n",
      "Name: fear, dtype: int64\n"
     ]
    }
   ],
   "source": [
    "for i in ['fear']:\n",
    "    print(data[i].value_counts())"
   ]
  },
  {
   "cell_type": "code",
   "execution_count": 8,
   "metadata": {},
   "outputs": [
    {
     "data": {
      "text/html": [
       "<div>\n",
       "<style scoped>\n",
       "    .dataframe tbody tr th:only-of-type {\n",
       "        vertical-align: middle;\n",
       "    }\n",
       "\n",
       "    .dataframe tbody tr th {\n",
       "        vertical-align: top;\n",
       "    }\n",
       "\n",
       "    .dataframe thead th {\n",
       "        text-align: right;\n",
       "    }\n",
       "</style>\n",
       "<table border=\"1\" class=\"dataframe\">\n",
       "  <thead>\n",
       "    <tr style=\"text-align: right;\">\n",
       "      <th></th>\n",
       "      <th>totalArticles</th>\n",
       "      <th>daily_return</th>\n",
       "      <th>volume_change</th>\n",
       "      <th>spread</th>\n",
       "      <th>joy</th>\n",
       "      <th>fear</th>\n",
       "      <th>sadness</th>\n",
       "      <th>tentative</th>\n",
       "      <th>analytical</th>\n",
       "      <th>confident</th>\n",
       "      <th>anger</th>\n",
       "      <th>crossover_signal</th>\n",
       "      <th>vol_trend_signal</th>\n",
       "      <th>bollinger_signal</th>\n",
       "      <th>close</th>\n",
       "      <th>positive_return</th>\n",
       "    </tr>\n",
       "    <tr>\n",
       "      <th>date</th>\n",
       "      <th></th>\n",
       "      <th></th>\n",
       "      <th></th>\n",
       "      <th></th>\n",
       "      <th></th>\n",
       "      <th></th>\n",
       "      <th></th>\n",
       "      <th></th>\n",
       "      <th></th>\n",
       "      <th></th>\n",
       "      <th></th>\n",
       "      <th></th>\n",
       "      <th></th>\n",
       "      <th></th>\n",
       "      <th></th>\n",
       "      <th></th>\n",
       "    </tr>\n",
       "  </thead>\n",
       "  <tbody>\n",
       "    <tr>\n",
       "      <th>2020-10-31</th>\n",
       "      <td>5.0</td>\n",
       "      <td>0.007717</td>\n",
       "      <td>0.165422</td>\n",
       "      <td>0.041145</td>\n",
       "      <td>0.0</td>\n",
       "      <td>0.0</td>\n",
       "      <td>0.000000</td>\n",
       "      <td>0.668336</td>\n",
       "      <td>0.000000</td>\n",
       "      <td>0.0</td>\n",
       "      <td>0.0</td>\n",
       "      <td>1.0</td>\n",
       "      <td>-1.0</td>\n",
       "      <td>-1.0</td>\n",
       "      <td>13567.0</td>\n",
       "      <td>1.0</td>\n",
       "    </tr>\n",
       "    <tr>\n",
       "      <th>2020-11-01</th>\n",
       "      <td>1.0</td>\n",
       "      <td>0.017845</td>\n",
       "      <td>-0.183336</td>\n",
       "      <td>0.048242</td>\n",
       "      <td>0.0</td>\n",
       "      <td>0.0</td>\n",
       "      <td>0.576203</td>\n",
       "      <td>0.000000</td>\n",
       "      <td>0.000000</td>\n",
       "      <td>0.0</td>\n",
       "      <td>0.0</td>\n",
       "      <td>1.0</td>\n",
       "      <td>1.0</td>\n",
       "      <td>-1.0</td>\n",
       "      <td>13809.1</td>\n",
       "      <td>0.0</td>\n",
       "    </tr>\n",
       "    <tr>\n",
       "      <th>2020-11-02</th>\n",
       "      <td>1.0</td>\n",
       "      <td>-0.003375</td>\n",
       "      <td>-0.564168</td>\n",
       "      <td>0.019277</td>\n",
       "      <td>0.0</td>\n",
       "      <td>0.0</td>\n",
       "      <td>0.000000</td>\n",
       "      <td>0.672523</td>\n",
       "      <td>0.000000</td>\n",
       "      <td>0.0</td>\n",
       "      <td>0.0</td>\n",
       "      <td>1.0</td>\n",
       "      <td>1.0</td>\n",
       "      <td>-1.0</td>\n",
       "      <td>13762.5</td>\n",
       "      <td>0.0</td>\n",
       "    </tr>\n",
       "    <tr>\n",
       "      <th>2020-11-03</th>\n",
       "      <td>2.0</td>\n",
       "      <td>-0.014292</td>\n",
       "      <td>1.237562</td>\n",
       "      <td>0.045173</td>\n",
       "      <td>0.0</td>\n",
       "      <td>0.0</td>\n",
       "      <td>0.000000</td>\n",
       "      <td>0.000000</td>\n",
       "      <td>0.000000</td>\n",
       "      <td>0.0</td>\n",
       "      <td>0.0</td>\n",
       "      <td>1.0</td>\n",
       "      <td>1.0</td>\n",
       "      <td>-1.0</td>\n",
       "      <td>13565.8</td>\n",
       "      <td>1.0</td>\n",
       "    </tr>\n",
       "    <tr>\n",
       "      <th>2020-11-04</th>\n",
       "      <td>1.0</td>\n",
       "      <td>0.033614</td>\n",
       "      <td>-0.021746</td>\n",
       "      <td>0.055851</td>\n",
       "      <td>0.0</td>\n",
       "      <td>0.0</td>\n",
       "      <td>0.000000</td>\n",
       "      <td>0.000000</td>\n",
       "      <td>0.822162</td>\n",
       "      <td>0.0</td>\n",
       "      <td>0.0</td>\n",
       "      <td>1.0</td>\n",
       "      <td>-1.0</td>\n",
       "      <td>-1.0</td>\n",
       "      <td>14021.8</td>\n",
       "      <td>1.0</td>\n",
       "    </tr>\n",
       "  </tbody>\n",
       "</table>\n",
       "</div>"
      ],
      "text/plain": [
       "            totalArticles  daily_return  volume_change    spread  joy  fear  \\\n",
       "date                                                                          \n",
       "2020-10-31            5.0      0.007717       0.165422  0.041145  0.0   0.0   \n",
       "2020-11-01            1.0      0.017845      -0.183336  0.048242  0.0   0.0   \n",
       "2020-11-02            1.0     -0.003375      -0.564168  0.019277  0.0   0.0   \n",
       "2020-11-03            2.0     -0.014292       1.237562  0.045173  0.0   0.0   \n",
       "2020-11-04            1.0      0.033614      -0.021746  0.055851  0.0   0.0   \n",
       "\n",
       "             sadness  tentative  analytical  confident  anger  \\\n",
       "date                                                            \n",
       "2020-10-31  0.000000   0.668336    0.000000        0.0    0.0   \n",
       "2020-11-01  0.576203   0.000000    0.000000        0.0    0.0   \n",
       "2020-11-02  0.000000   0.672523    0.000000        0.0    0.0   \n",
       "2020-11-03  0.000000   0.000000    0.000000        0.0    0.0   \n",
       "2020-11-04  0.000000   0.000000    0.822162        0.0    0.0   \n",
       "\n",
       "            crossover_signal  vol_trend_signal  bollinger_signal    close  \\\n",
       "date                                                                        \n",
       "2020-10-31               1.0              -1.0              -1.0  13567.0   \n",
       "2020-11-01               1.0               1.0              -1.0  13809.1   \n",
       "2020-11-02               1.0               1.0              -1.0  13762.5   \n",
       "2020-11-03               1.0               1.0              -1.0  13565.8   \n",
       "2020-11-04               1.0              -1.0              -1.0  14021.8   \n",
       "\n",
       "            positive_return  \n",
       "date                         \n",
       "2020-10-31              1.0  \n",
       "2020-11-01              0.0  \n",
       "2020-11-02              0.0  \n",
       "2020-11-03              1.0  \n",
       "2020-11-04              1.0  "
      ]
     },
     "execution_count": 8,
     "metadata": {},
     "output_type": "execute_result"
    }
   ],
   "source": [
    "data = data.set_index(\"date\")\n",
    "data.head()"
   ]
  },
  {
   "cell_type": "code",
   "execution_count": 9,
   "metadata": {},
   "outputs": [],
   "source": [
    "X = data.drop(columns= \"positive_return\")\n",
    "\n",
    "# target\n",
    "y = data[\"positive_return\"]"
   ]
  },
  {
   "cell_type": "code",
   "execution_count": 10,
   "metadata": {},
   "outputs": [],
   "source": [
    "from sklearn.model_selection import train_test_split\n",
    "\n",
    "X_train, X_test, y_train, y_test = train_test_split(X, \n",
    "                                                   y, \n",
    "                                                random_state=1, \n",
    "                                                   stratify=y) \n",
    "                                                   "
   ]
  },
  {
   "cell_type": "code",
   "execution_count": 11,
   "metadata": {},
   "outputs": [],
   "source": [
    "scaler = StandardScaler()"
   ]
  },
  {
   "cell_type": "code",
   "execution_count": 12,
   "metadata": {},
   "outputs": [],
   "source": [
    "X_scaler = scaler.fit(X_train)"
   ]
  },
  {
   "cell_type": "code",
   "execution_count": 13,
   "metadata": {},
   "outputs": [],
   "source": [
    "X_train_scaled = X_scaler.transform(X_train)\n",
    "X_test_scaled = X_scaler.transform(X_test)"
   ]
  },
  {
   "cell_type": "code",
   "execution_count": null,
   "metadata": {},
   "outputs": [],
   "source": []
  },
  {
   "cell_type": "code",
   "execution_count": 14,
   "metadata": {},
   "outputs": [],
   "source": [
    "brf = BalancedRandomForestClassifier(n_estimators=100,random_state=1)\n",
    "brf_model = brf.fit(X_train_scaled,y_train)"
   ]
  },
  {
   "cell_type": "code",
   "execution_count": null,
   "metadata": {},
   "outputs": [],
   "source": []
  },
  {
   "cell_type": "code",
   "execution_count": 15,
   "metadata": {},
   "outputs": [
    {
     "name": "stdout",
     "output_type": "stream",
     "text": [
      "Accuracy Score : 60.86956521739131%\n"
     ]
    }
   ],
   "source": [
    "predictions_brf = brf_model.predict(X_test_scaled)\n",
    "acc_score_brf = accuracy_score(y_test, predictions_brf)\n",
    "print(f\"Accuracy Score : {acc_score_brf *100}%\")"
   ]
  },
  {
   "cell_type": "code",
   "execution_count": 16,
   "metadata": {},
   "outputs": [
    {
     "name": "stdout",
     "output_type": "stream",
     "text": [
      "Confusion Matrix -->\n"
     ]
    },
    {
     "data": {
      "text/html": [
       "<div>\n",
       "<style scoped>\n",
       "    .dataframe tbody tr th:only-of-type {\n",
       "        vertical-align: middle;\n",
       "    }\n",
       "\n",
       "    .dataframe tbody tr th {\n",
       "        vertical-align: top;\n",
       "    }\n",
       "\n",
       "    .dataframe thead th {\n",
       "        text-align: right;\n",
       "    }\n",
       "</style>\n",
       "<table border=\"1\" class=\"dataframe\">\n",
       "  <thead>\n",
       "    <tr style=\"text-align: right;\">\n",
       "      <th></th>\n",
       "      <th>Predicted 0</th>\n",
       "      <th>Predicted 1</th>\n",
       "    </tr>\n",
       "  </thead>\n",
       "  <tbody>\n",
       "    <tr>\n",
       "      <th>Actual 0</th>\n",
       "      <td>4</td>\n",
       "      <td>5</td>\n",
       "    </tr>\n",
       "    <tr>\n",
       "      <th>Actual 1</th>\n",
       "      <td>4</td>\n",
       "      <td>10</td>\n",
       "    </tr>\n",
       "  </tbody>\n",
       "</table>\n",
       "</div>"
      ],
      "text/plain": [
       "          Predicted 0  Predicted 1\n",
       "Actual 0            4            5\n",
       "Actual 1            4           10"
      ]
     },
     "metadata": {},
     "output_type": "display_data"
    }
   ],
   "source": [
    "cm_brf = confusion_matrix(y_test, predictions_brf)\n",
    "cm_df_brf = pd.DataFrame(\n",
    "    cm_brf, index=[\"Actual 0\", \"Actual 1\"], columns=[\"Predicted 0\", \"Predicted 1\"]\n",
    ")\n",
    "\n",
    "print(\"Confusion Matrix -->\")\n",
    "display(cm_df_brf)"
   ]
  },
  {
   "cell_type": "code",
   "execution_count": 17,
   "metadata": {},
   "outputs": [
    {
     "name": "stdout",
     "output_type": "stream",
     "text": [
      "Classification Report -->\n",
      "              precision    recall  f1-score   support\n",
      "\n",
      "         0.0       0.50      0.44      0.47         9\n",
      "         1.0       0.67      0.71      0.69        14\n",
      "\n",
      "    accuracy                           0.61        23\n",
      "   macro avg       0.58      0.58      0.58        23\n",
      "weighted avg       0.60      0.61      0.60        23\n",
      "\n"
     ]
    }
   ],
   "source": [
    "print(\"Classification Report -->\")\n",
    "print(classification_report(y_test, predictions_brf))"
   ]
  },
  {
   "cell_type": "code",
   "execution_count": 18,
   "metadata": {},
   "outputs": [
    {
     "data": {
      "text/plain": [
       "[(0.14854834805611974, 'volume_change'),\n",
       " (0.1398797669383557, 'daily_return'),\n",
       " (0.1386346838803821, 'totalArticles'),\n",
       " (0.13827528578993875, 'spread'),\n",
       " (0.12024555909406914, 'close'),\n",
       " (0.08264820222051127, 'tentative'),\n",
       " (0.07739767439769599, 'joy'),\n",
       " (0.06010070361345401, 'sadness'),\n",
       " (0.043338356905703306, 'analytical'),\n",
       " (0.02499361161231822, 'bollinger_signal'),\n",
       " (0.018192923716115257, 'vol_trend_signal'),\n",
       " (0.007744883775336504, 'fear'),\n",
       " (0.0, 'crossover_signal'),\n",
       " (0.0, 'confident'),\n",
       " (0.0, 'anger')]"
      ]
     },
     "execution_count": 18,
     "metadata": {},
     "output_type": "execute_result"
    }
   ],
   "source": [
    "importances = brf_model.feature_importances_\n",
    "sorted(zip(brf_model.feature_importances_, X.columns), reverse=True)"
   ]
  },
  {
   "cell_type": "code",
   "execution_count": 19,
   "metadata": {},
   "outputs": [
    {
     "name": "stderr",
     "output_type": "stream",
     "text": [
      "\n",
      "Bad key savefig.frameon in file /Users/bencifuentes/opt/anaconda3/envs/pyvizenv/lib/python3.7/site-packages/matplotlib/mpl-data/stylelib/_classic_test.mplstyle, line 421 ('savefig.frameon : True')\n",
      "You probably need to get an updated matplotlibrc file from\n",
      "https://github.com/matplotlib/matplotlib/blob/v3.3.1/matplotlibrc.template\n",
      "or from the matplotlib source distribution\n",
      "\n",
      "Bad key verbose.level in file /Users/bencifuentes/opt/anaconda3/envs/pyvizenv/lib/python3.7/site-packages/matplotlib/mpl-data/stylelib/_classic_test.mplstyle, line 472 ('verbose.level  : silent      # one of silent, helpful, debug, debug-annoying')\n",
      "You probably need to get an updated matplotlibrc file from\n",
      "https://github.com/matplotlib/matplotlib/blob/v3.3.1/matplotlibrc.template\n",
      "or from the matplotlib source distribution\n",
      "\n",
      "Bad key verbose.fileo in file /Users/bencifuentes/opt/anaconda3/envs/pyvizenv/lib/python3.7/site-packages/matplotlib/mpl-data/stylelib/_classic_test.mplstyle, line 473 ('verbose.fileo  : sys.stdout  # a log filename, sys.stdout or sys.stderr')\n",
      "You probably need to get an updated matplotlibrc file from\n",
      "https://github.com/matplotlib/matplotlib/blob/v3.3.1/matplotlibrc.template\n",
      "or from the matplotlib source distribution\n"
     ]
    },
    {
     "data": {
      "text/plain": [
       "<AxesSubplot:>"
      ]
     },
     "execution_count": 19,
     "metadata": {},
     "output_type": "execute_result"
    },
    {
     "data": {
      "image/png": "[encoded data removed]",
      "text/plain": [
       "<Figure size 432x288 with 1 Axes>"
      ]
     },
     "metadata": {
      "needs_background": "light"
     },
     "output_type": "display_data"
    }
   ],
   "source": [
    "feat_importances = pd.Series(brf_model.feature_importances_, index=X.columns)\n",
    "feat_importances.nlargest(15).plot(kind='barh')"
   ]
  },
  {
   "cell_type": "code",
   "execution_count": 20,
   "metadata": {},
   "outputs": [
    {
     "data": {
      "text/html": [
       "<div>\n",
       "<style scoped>\n",
       "    .dataframe tbody tr th:only-of-type {\n",
       "        vertical-align: middle;\n",
       "    }\n",
       "\n",
       "    .dataframe tbody tr th {\n",
       "        vertical-align: top;\n",
       "    }\n",
       "\n",
       "    .dataframe thead th {\n",
       "        text-align: right;\n",
       "    }\n",
       "</style>\n",
       "<table border=\"1\" class=\"dataframe\">\n",
       "  <thead>\n",
       "    <tr style=\"text-align: right;\">\n",
       "      <th></th>\n",
       "      <th>totalArticles</th>\n",
       "      <th>daily_return</th>\n",
       "      <th>volume_change</th>\n",
       "      <th>spread</th>\n",
       "      <th>positive_return</th>\n",
       "    </tr>\n",
       "    <tr>\n",
       "      <th>date</th>\n",
       "      <th></th>\n",
       "      <th></th>\n",
       "      <th></th>\n",
       "      <th></th>\n",
       "      <th></th>\n",
       "    </tr>\n",
       "  </thead>\n",
       "  <tbody>\n",
       "    <tr>\n",
       "      <th>2020-10-31</th>\n",
       "      <td>5.0</td>\n",
       "      <td>0.007717</td>\n",
       "      <td>0.165422</td>\n",
       "      <td>0.041145</td>\n",
       "      <td>1.0</td>\n",
       "    </tr>\n",
       "    <tr>\n",
       "      <th>2020-11-01</th>\n",
       "      <td>1.0</td>\n",
       "      <td>0.017845</td>\n",
       "      <td>-0.183336</td>\n",
       "      <td>0.048242</td>\n",
       "      <td>0.0</td>\n",
       "    </tr>\n",
       "    <tr>\n",
       "      <th>2020-11-02</th>\n",
       "      <td>1.0</td>\n",
       "      <td>-0.003375</td>\n",
       "      <td>-0.564168</td>\n",
       "      <td>0.019277</td>\n",
       "      <td>0.0</td>\n",
       "    </tr>\n",
       "    <tr>\n",
       "      <th>2020-11-03</th>\n",
       "      <td>2.0</td>\n",
       "      <td>-0.014292</td>\n",
       "      <td>1.237562</td>\n",
       "      <td>0.045173</td>\n",
       "      <td>1.0</td>\n",
       "    </tr>\n",
       "    <tr>\n",
       "      <th>2020-11-04</th>\n",
       "      <td>1.0</td>\n",
       "      <td>0.033614</td>\n",
       "      <td>-0.021746</td>\n",
       "      <td>0.055851</td>\n",
       "      <td>1.0</td>\n",
       "    </tr>\n",
       "  </tbody>\n",
       "</table>\n",
       "</div>"
      ],
      "text/plain": [
       "            totalArticles  daily_return  volume_change    spread  \\\n",
       "date                                                               \n",
       "2020-10-31            5.0      0.007717       0.165422  0.041145   \n",
       "2020-11-01            1.0      0.017845      -0.183336  0.048242   \n",
       "2020-11-02            1.0     -0.003375      -0.564168  0.019277   \n",
       "2020-11-03            2.0     -0.014292       1.237562  0.045173   \n",
       "2020-11-04            1.0      0.033614      -0.021746  0.055851   \n",
       "\n",
       "            positive_return  \n",
       "date                         \n",
       "2020-10-31              1.0  \n",
       "2020-11-01              0.0  \n",
       "2020-11-02              0.0  \n",
       "2020-11-03              1.0  \n",
       "2020-11-04              1.0  "
      ]
     },
     "execution_count": 20,
     "metadata": {},
     "output_type": "execute_result"
    }
   ],
   "source": [
    "data2 = data.drop(columns=\n",
    "                  [\"tentative\", \n",
    "                  \"joy\", \n",
    "                  \"sadness\", \n",
    "                  \"analytical\", \n",
    "                  \"bollinger_signal\", \n",
    "                  \"vol_trend_signal\", \n",
    "                  \"fear\", \n",
    "                  \"crossover_signal\", \n",
    "                  \"confident\", \n",
    "                  \"anger\", \n",
    "                  \"close\"], axis = 1)\n",
    "\n",
    "data2.head()"
   ]
  },
  {
   "cell_type": "code",
   "execution_count": 21,
   "metadata": {},
   "outputs": [],
   "source": [
    "X_2 = data2.drop(columns= \"positive_return\")\n",
    "\n",
    "# target\n",
    "y_2 = data2[\"positive_return\"]"
   ]
  },
  {
   "cell_type": "code",
   "execution_count": 22,
   "metadata": {},
   "outputs": [],
   "source": [
    "from sklearn.model_selection import train_test_split\n",
    "\n",
    "X_train_2, X_test_2, y_train_2, y_test_2 = train_test_split(X_2, \n",
    "                                                   y_2, \n",
    "                                                random_state=1, \n",
    "                                                   stratify=y) \n",
    "                                                   "
   ]
  },
  {
   "cell_type": "code",
   "execution_count": 23,
   "metadata": {},
   "outputs": [],
   "source": [
    "scaler_2 = StandardScaler()"
   ]
  },
  {
   "cell_type": "code",
   "execution_count": 24,
   "metadata": {},
   "outputs": [],
   "source": [
    "X_scaler_2 = scaler_2.fit(X_train_2)"
   ]
  },
  {
   "cell_type": "code",
   "execution_count": 25,
   "metadata": {},
   "outputs": [],
   "source": [
    "X_train_scaled_2 = X_scaler.transform(X_train)\n",
    "X_test_scaled_2 = X_scaler.transform(X_test)"
   ]
  },
  {
   "cell_type": "code",
   "execution_count": 26,
   "metadata": {},
   "outputs": [],
   "source": [
    "brf_2 = BalancedRandomForestClassifier(n_estimators=100,random_state=1)\n",
    "brf_model_2 = brf_2.fit(X_train_scaled_2,y_train_2)"
   ]
  },
  {
   "cell_type": "code",
   "execution_count": 27,
   "metadata": {},
   "outputs": [
    {
     "name": "stdout",
     "output_type": "stream",
     "text": [
      "Accuracy Score : 60.86956521739131%\n"
     ]
    }
   ],
   "source": [
    "predictions_brf_2 = brf_model_2.predict(X_test_scaled_2)\n",
    "acc_score_brf_2 = accuracy_score(y_test_2, predictions_brf_2)\n",
    "print(f\"Accuracy Score : {acc_score_brf_2 *100}%\")"
   ]
  },
  {
   "cell_type": "code",
   "execution_count": 28,
   "metadata": {},
   "outputs": [
    {
     "name": "stdout",
     "output_type": "stream",
     "text": [
      "Confusion Matrix -->\n"
     ]
    },
    {
     "data": {
      "text/html": [
       "<div>\n",
       "<style scoped>\n",
       "    .dataframe tbody tr th:only-of-type {\n",
       "        vertical-align: middle;\n",
       "    }\n",
       "\n",
       "    .dataframe tbody tr th {\n",
       "        vertical-align: top;\n",
       "    }\n",
       "\n",
       "    .dataframe thead th {\n",
       "        text-align: right;\n",
       "    }\n",
       "</style>\n",
       "<table border=\"1\" class=\"dataframe\">\n",
       "  <thead>\n",
       "    <tr style=\"text-align: right;\">\n",
       "      <th></th>\n",
       "      <th>Predicted 0</th>\n",
       "      <th>Predicted 1</th>\n",
       "    </tr>\n",
       "  </thead>\n",
       "  <tbody>\n",
       "    <tr>\n",
       "      <th>Actual 0</th>\n",
       "      <td>4</td>\n",
       "      <td>5</td>\n",
       "    </tr>\n",
       "    <tr>\n",
       "      <th>Actual 1</th>\n",
       "      <td>4</td>\n",
       "      <td>10</td>\n",
       "    </tr>\n",
       "  </tbody>\n",
       "</table>\n",
       "</div>"
      ],
      "text/plain": [
       "          Predicted 0  Predicted 1\n",
       "Actual 0            4            5\n",
       "Actual 1            4           10"
      ]
     },
     "metadata": {},
     "output_type": "display_data"
    }
   ],
   "source": [
    "cm_brf_2 = confusion_matrix(y_test_2, predictions_brf_2)\n",
    "cm_df_brf_2 = pd.DataFrame(\n",
    "    cm_brf_2, index=[\"Actual 0\", \"Actual 1\"], columns=[\"Predicted 0\", \"Predicted 1\"]\n",
    ")\n",
    "\n",
    "print(\"Confusion Matrix -->\")\n",
    "display(cm_df_brf_2)"
   ]
  },
  {
   "cell_type": "code",
   "execution_count": 29,
   "metadata": {},
   "outputs": [
    {
     "name": "stdout",
     "output_type": "stream",
     "text": [
      "Classification Report -->\n",
      "              precision    recall  f1-score   support\n",
      "\n",
      "         0.0       0.50      0.44      0.47         9\n",
      "         1.0       0.67      0.71      0.69        14\n",
      "\n",
      "    accuracy                           0.61        23\n",
      "   macro avg       0.58      0.58      0.58        23\n",
      "weighted avg       0.60      0.61      0.60        23\n",
      "\n"
     ]
    }
   ],
   "source": [
    "print(\"Classification Report -->\")\n",
    "print(classification_report(y_test_2, predictions_brf_2))"
   ]
  },
  {
   "cell_type": "code",
   "execution_count": 30,
   "metadata": {},
   "outputs": [
    {
     "data": {
      "text/plain": [
       "[(0.14854834805611974, 'volume_change'),\n",
       " (0.1398797669383557, 'daily_return'),\n",
       " (0.1386346838803821, 'totalArticles'),\n",
       " (0.13827528578993875, 'spread')]"
      ]
     },
     "execution_count": 30,
     "metadata": {},
     "output_type": "execute_result"
    }
   ],
   "source": [
    "importances = brf_model_2.feature_importances_\n",
    "sorted(zip(brf_model_2.feature_importances_, X_2.columns), reverse=True)"
   ]
  },
  {
   "cell_type": "code",
   "execution_count": 31,
   "metadata": {},
   "outputs": [],
   "source": [
    "#data2.to_csv(\"data2.csv\")"
   ]
  },
  {
   "cell_type": "code",
   "execution_count": null,
   "metadata": {},
   "outputs": [],
   "source": []
  }
 ],
 "metadata": {
  "kernelspec": {
   "display_name": "Python 3",
   "language": "python",
   "name": "python3"
  },
  "language_info": {
   "codemirror_mode": {
    "name": "ipython",
    "version": 3
   },
   "file_extension": ".py",
   "mimetype": "text/x-python",
   "name": "python",
   "nbconvert_exporter": "python",
   "pygments_lexer": "ipython3",
   "version": "3.7.7"
  }
 },
 "nbformat": 4,
 "nbformat_minor": 4
}

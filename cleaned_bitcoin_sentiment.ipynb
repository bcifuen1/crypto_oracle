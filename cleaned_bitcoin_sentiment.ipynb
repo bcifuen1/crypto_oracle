{
 "metadata": {
  "language_info": {
   "codemirror_mode": {
    "name": "ipython",
    "version": 3
   },
   "file_extension": ".py",
   "mimetype": "text/x-python",
   "name": "python",
   "nbconvert_exporter": "python",
   "pygments_lexer": "ipython3",
   "version": "3.7.7-final"
  },
  "orig_nbformat": 2,
  "kernelspec": {
   "name": "python3",
   "display_name": "Python 3",
   "language": "python"
  }
 },
 "nbformat": 4,
 "nbformat_minor": 2,
 "cells": [
  {
   "cell_type": "code",
   "execution_count": 1,
   "metadata": {},
   "outputs": [],
   "source": [
    "import os\n",
    "import json\n",
    "import time\n",
    "import datetime\n",
    "import requests\n",
    "import pandas as pd\n",
    "from dotenv import load_dotenv"
   ]
  },
  {
   "cell_type": "code",
   "execution_count": 2,
   "metadata": {},
   "outputs": [
    {
     "output_type": "execute_result",
     "data": {
      "text/plain": [
       "True"
      ]
     },
     "metadata": {},
     "execution_count": 2
    }
   ],
   "source": [
    "load_dotenv()"
   ]
  },
  {
   "cell_type": "code",
   "execution_count": 3,
   "metadata": {},
   "outputs": [],
   "source": [
    "# use while-loop to iterate through a range of dates in a url to pull articles from each day. Use time.sleep to pause the loop every 4 seconds due api restrictions, api only allows a request for every 3 seconds.\n",
    "start_date = datetime.date(2020, 12, 18)\n",
    "end_date = datetime.date(2021, 1, 18)\n",
    "delta = datetime.timedelta(days=1)\n",
    "articles=[]\n",
    "while start_date <= end_date:\n",
    "    # print(start_date)\n",
    "    gnews_api = os.environ[\"gnews_api\"]\n",
    "    gnews_url =f\"https://gnews.io/api/v4/search?q=bitcoin&in=cryptocurrency&from={start_date}T00:01:36Z&to={start_date}T23:59:36Z&lang=en&token={gnews_api}\"\n",
    "    response = requests.get(gnews_url)\n",
    "    data = response.json()\n",
    "    articles.append(data)\n",
    "    start_date += delta\n",
    "    time.sleep(4)"
   ]
  },
  {
   "cell_type": "code",
   "execution_count": 17,
   "metadata": {},
   "outputs": [
    {
     "output_type": "execute_result",
     "data": {
      "text/plain": [
       "                   date                                  title&description  \\\n",
       "0  2020-12-18T23:55:00Z  How to invest in bitcoin: The major ways to bu...   \n",
       "1  2020-12-18T22:30:35Z  Which Bitcoin Fund Should You Buy? Bitcoin is ...   \n",
       "2  2020-12-18T17:52:00Z  Bitcoin's market cap could hit $1 trillion in ...   \n",
       "3  2020-12-18T16:58:10Z  New bitcoin investors buying $20 million or mo...   \n",
       "4  2020-12-18T16:35:13Z  Forget Gold and Bitcoin. I’d Use the Stock Mar...   \n",
       "\n",
       "  totalArticles  \n",
       "0            18  \n",
       "1            18  \n",
       "2            18  \n",
       "3            18  \n",
       "4            18  "
      ],
      "text/html": "<div>\n<style scoped>\n    .dataframe tbody tr th:only-of-type {\n        vertical-align: middle;\n    }\n\n    .dataframe tbody tr th {\n        vertical-align: top;\n    }\n\n    .dataframe thead th {\n        text-align: right;\n    }\n</style>\n<table border=\"1\" class=\"dataframe\">\n  <thead>\n    <tr style=\"text-align: right;\">\n      <th></th>\n      <th>date</th>\n      <th>title&amp;description</th>\n      <th>totalArticles</th>\n    </tr>\n  </thead>\n  <tbody>\n    <tr>\n      <th>0</th>\n      <td>2020-12-18T23:55:00Z</td>\n      <td>How to invest in bitcoin: The major ways to bu...</td>\n      <td>18</td>\n    </tr>\n    <tr>\n      <th>1</th>\n      <td>2020-12-18T22:30:35Z</td>\n      <td>Which Bitcoin Fund Should You Buy? Bitcoin is ...</td>\n      <td>18</td>\n    </tr>\n    <tr>\n      <th>2</th>\n      <td>2020-12-18T17:52:00Z</td>\n      <td>Bitcoin's market cap could hit $1 trillion in ...</td>\n      <td>18</td>\n    </tr>\n    <tr>\n      <th>3</th>\n      <td>2020-12-18T16:58:10Z</td>\n      <td>New bitcoin investors buying $20 million or mo...</td>\n      <td>18</td>\n    </tr>\n    <tr>\n      <th>4</th>\n      <td>2020-12-18T16:35:13Z</td>\n      <td>Forget Gold and Bitcoin. I’d Use the Stock Mar...</td>\n      <td>18</td>\n    </tr>\n  </tbody>\n</table>\n</div>"
     },
     "metadata": {},
     "execution_count": 17
    }
   ],
   "source": [
    "# convert json to dataframe pulling only \"publishAt\", \"title\", \"description\", and \"content\"\n",
    "articles_df = pd.json_normalize(articles, record_path=['articles'], meta='totalArticles')\n",
    "articles_df['title&description']= articles_df['title']+ \" \" +articles_df['description']\n",
    "articles_df = articles_df[['publishedAt', 'title&description', 'totalArticles']]\n",
    "articles_df.rename(columns={'publishedAt':'date'}, inplace=True)\n",
    "articles_df.head()"
   ]
  },
  {
   "cell_type": "code",
   "execution_count": 18,
   "metadata": {},
   "outputs": [
    {
     "output_type": "execute_result",
     "data": {
      "text/plain": [
       "                                                          title&description\n",
       "date       totalArticles                                                   \n",
       "2020-12-18 18             How to invest in bitcoin: The major ways to bu...\n",
       "2020-12-19 6              How will Bitcoin shift the power in the coffee...\n",
       "2020-12-20 14             Tesla's Elon Musk asks about converting \"large...\n",
       "2020-12-21 13             Ripple to face SEC suit over XRP cryptocurrenc...\n",
       "2020-12-22 10             SEC Sues Ripple Over XRP Cryptocurrency The ag..."
      ],
      "text/html": "<div>\n<style scoped>\n    .dataframe tbody tr th:only-of-type {\n        vertical-align: middle;\n    }\n\n    .dataframe tbody tr th {\n        vertical-align: top;\n    }\n\n    .dataframe thead th {\n        text-align: right;\n    }\n</style>\n<table border=\"1\" class=\"dataframe\">\n  <thead>\n    <tr style=\"text-align: right;\">\n      <th></th>\n      <th></th>\n      <th>title&amp;description</th>\n    </tr>\n    <tr>\n      <th>date</th>\n      <th>totalArticles</th>\n      <th></th>\n    </tr>\n  </thead>\n  <tbody>\n    <tr>\n      <th>2020-12-18</th>\n      <th>18</th>\n      <td>How to invest in bitcoin: The major ways to bu...</td>\n    </tr>\n    <tr>\n      <th>2020-12-19</th>\n      <th>6</th>\n      <td>How will Bitcoin shift the power in the coffee...</td>\n    </tr>\n    <tr>\n      <th>2020-12-20</th>\n      <th>14</th>\n      <td>Tesla's Elon Musk asks about converting \"large...</td>\n    </tr>\n    <tr>\n      <th>2020-12-21</th>\n      <th>13</th>\n      <td>Ripple to face SEC suit over XRP cryptocurrenc...</td>\n    </tr>\n    <tr>\n      <th>2020-12-22</th>\n      <th>10</th>\n      <td>SEC Sues Ripple Over XRP Cryptocurrency The ag...</td>\n    </tr>\n  </tbody>\n</table>\n</div>"
     },
     "metadata": {},
     "execution_count": 18
    }
   ],
   "source": [
    "# clean dataframe and add a column that is composed of \"title\" and \"description\". Also group dataframe by \"publish date\"\n",
    "articles_df['date']=pd.to_datetime(articles_df['date'], infer_datetime_format=True).dt.date\n",
    "bitcoin_articles= articles_df.groupby(by=[\"date\",'totalArticles']).sum()\n",
    "bitcoin_articles.head()"
   ]
  },
  {
   "cell_type": "code",
   "execution_count": 7,
   "metadata": {},
   "outputs": [
    {
     "output_type": "stream",
     "name": "stderr",
     "text": [
      "[nltk_data] Downloading package vader_lexicon to\n[nltk_data]     /Users/alhamduliallah/nltk_data...\n[nltk_data]   Package vader_lexicon is already up-to-date!\n"
     ]
    },
    {
     "output_type": "execute_result",
     "data": {
      "text/plain": [
       "True"
      ]
     },
     "metadata": {},
     "execution_count": 7
    }
   ],
   "source": [
    "# Import the libraries for sentiment scoring using Vader\n",
    "import nltk\n",
    "from nltk.sentiment.vader import SentimentIntensityAnalyzer\n",
    "# Initialize the VADER sentiment analyzer\n",
    "analyzer = SentimentIntensityAnalyzer()\n",
    "# Download/Update the VADER Lexicon\n",
    "nltk.download('vader_lexicon')"
   ]
  },
  {
   "cell_type": "code",
   "execution_count": 9,
   "metadata": {},
   "outputs": [],
   "source": [
    "# Define two lists to store vader sentiment scoring\n",
    "y_vader_pred = []\n",
    "y_vader_prob = []"
   ]
  },
  {
   "cell_type": "code",
   "execution_count": 10,
   "metadata": {},
   "outputs": [],
   "source": [
    "# Score sentiment of test set using Vader\n",
    "for text in bitcoin_articles[\"title&description\"]:\n",
    "    y_vader_prob.append(analyzer.polarity_scores(text)[\"pos\"])\n",
    "    sentiment_score = analyzer.polarity_scores(text)[\"compound\"]\n",
    "    if sentiment_score >= 0.1:\n",
    "        y_vader_pred.append(1)\n",
    "    else:\n",
    "        y_vader_pred.append(0)"
   ]
  },
  {
   "cell_type": "code",
   "execution_count": 19,
   "metadata": {},
   "outputs": [
    {
     "output_type": "execute_result",
     "data": {
      "text/plain": [
       "                                                          title&description  \\\n",
       "date       totalArticles                                                      \n",
       "2020-12-18 18             How to invest in bitcoin: The major ways to bu...   \n",
       "2020-12-19 6              How will Bitcoin shift the power in the coffee...   \n",
       "2020-12-20 14             Tesla's Elon Musk asks about converting \"large...   \n",
       "2020-12-21 13             Ripple to face SEC suit over XRP cryptocurrenc...   \n",
       "2020-12-22 10             SEC Sues Ripple Over XRP Cryptocurrency The ag...   \n",
       "\n",
       "                          Sentiment Score  \n",
       "date       totalArticles                   \n",
       "2020-12-18 18                           1  \n",
       "2020-12-19 6                            1  \n",
       "2020-12-20 14                           1  \n",
       "2020-12-21 13                           0  \n",
       "2020-12-22 10                           1  "
      ],
      "text/html": "<div>\n<style scoped>\n    .dataframe tbody tr th:only-of-type {\n        vertical-align: middle;\n    }\n\n    .dataframe tbody tr th {\n        vertical-align: top;\n    }\n\n    .dataframe thead th {\n        text-align: right;\n    }\n</style>\n<table border=\"1\" class=\"dataframe\">\n  <thead>\n    <tr style=\"text-align: right;\">\n      <th></th>\n      <th></th>\n      <th>title&amp;description</th>\n      <th>Sentiment Score</th>\n    </tr>\n    <tr>\n      <th>date</th>\n      <th>totalArticles</th>\n      <th></th>\n      <th></th>\n    </tr>\n  </thead>\n  <tbody>\n    <tr>\n      <th>2020-12-18</th>\n      <th>18</th>\n      <td>How to invest in bitcoin: The major ways to bu...</td>\n      <td>1</td>\n    </tr>\n    <tr>\n      <th>2020-12-19</th>\n      <th>6</th>\n      <td>How will Bitcoin shift the power in the coffee...</td>\n      <td>1</td>\n    </tr>\n    <tr>\n      <th>2020-12-20</th>\n      <th>14</th>\n      <td>Tesla's Elon Musk asks about converting \"large...</td>\n      <td>1</td>\n    </tr>\n    <tr>\n      <th>2020-12-21</th>\n      <th>13</th>\n      <td>Ripple to face SEC suit over XRP cryptocurrenc...</td>\n      <td>0</td>\n    </tr>\n    <tr>\n      <th>2020-12-22</th>\n      <th>10</th>\n      <td>SEC Sues Ripple Over XRP Cryptocurrency The ag...</td>\n      <td>1</td>\n    </tr>\n  </tbody>\n</table>\n</div>"
     },
     "metadata": {},
     "execution_count": 19
    }
   ],
   "source": [
    "# add sentiment score to bitcoin_articles dataframe\n",
    "bitcoin_articles[\"Sentiment Score\"]=y_vader_pred\n",
    "bitcoin_articles.head()"
   ]
  },
  {
   "cell_type": "code",
   "execution_count": 12,
   "metadata": {},
   "outputs": [],
   "source": [
    "# import ccxt SDK and get bitcoin historical prices from kraken\n",
    "import ccxt\n",
    "kraken_public_key = os.getenv(\"KRAKEN_PUBLIC_KEY\")\n",
    "kraken_secret_key = os.getenv(\"KRAKEN_SECRET_KEY\")\n",
    "kraken = ccxt.kraken({\"apiKey\": kraken_public_key, \"secret\": kraken_secret_key})\n",
    "\n",
    "historical_prices = kraken.fetch_ohlcv(\"BTC/USD\",\"1d\")"
   ]
  },
  {
   "cell_type": "code",
   "execution_count": 13,
   "metadata": {},
   "outputs": [
    {
     "output_type": "execute_result",
     "data": {
      "text/plain": [
       "              open    high     low   close       volume\n",
       "date                                                   \n",
       "2019-02-04  3416.6  3437.8  3396.9  3413.9  1359.629904\n",
       "2019-02-05  3411.0  3433.7  3397.8  3429.5  1429.386854\n",
       "2019-02-06  3430.0  3445.0  3337.0  3367.4  2289.491212\n",
       "2019-02-07  3367.2  3382.4  3348.1  3357.1  1512.883808\n",
       "2019-02-08  3359.5  3704.9  3341.4  3622.1  4231.506468"
      ],
      "text/html": "<div>\n<style scoped>\n    .dataframe tbody tr th:only-of-type {\n        vertical-align: middle;\n    }\n\n    .dataframe tbody tr th {\n        vertical-align: top;\n    }\n\n    .dataframe thead th {\n        text-align: right;\n    }\n</style>\n<table border=\"1\" class=\"dataframe\">\n  <thead>\n    <tr style=\"text-align: right;\">\n      <th></th>\n      <th>open</th>\n      <th>high</th>\n      <th>low</th>\n      <th>close</th>\n      <th>volume</th>\n    </tr>\n    <tr>\n      <th>date</th>\n      <th></th>\n      <th></th>\n      <th></th>\n      <th></th>\n      <th></th>\n    </tr>\n  </thead>\n  <tbody>\n    <tr>\n      <th>2019-02-04</th>\n      <td>3416.6</td>\n      <td>3437.8</td>\n      <td>3396.9</td>\n      <td>3413.9</td>\n      <td>1359.629904</td>\n    </tr>\n    <tr>\n      <th>2019-02-05</th>\n      <td>3411.0</td>\n      <td>3433.7</td>\n      <td>3397.8</td>\n      <td>3429.5</td>\n      <td>1429.386854</td>\n    </tr>\n    <tr>\n      <th>2019-02-06</th>\n      <td>3430.0</td>\n      <td>3445.0</td>\n      <td>3337.0</td>\n      <td>3367.4</td>\n      <td>2289.491212</td>\n    </tr>\n    <tr>\n      <th>2019-02-07</th>\n      <td>3367.2</td>\n      <td>3382.4</td>\n      <td>3348.1</td>\n      <td>3357.1</td>\n      <td>1512.883808</td>\n    </tr>\n    <tr>\n      <th>2019-02-08</th>\n      <td>3359.5</td>\n      <td>3704.9</td>\n      <td>3341.4</td>\n      <td>3622.1</td>\n      <td>4231.506468</td>\n    </tr>\n  </tbody>\n</table>\n</div>"
     },
     "metadata": {},
     "execution_count": 13
    }
   ],
   "source": [
    "historical_prices_df = pd.DataFrame(historical_prices, columns=[\"date\", \"open\", \"high\", \"low\", \"close\", \"volume\"])\n",
    "historical_prices_df[\"date\"] = pd.to_datetime(\n",
    "    historical_prices_df[\"date\"], unit=\"ms\"\n",
    ")\n",
    "historical_prices_df.set_index(\"date\",inplace=True)\n",
    "historical_prices_df.head()"
   ]
  },
  {
   "cell_type": "code",
   "execution_count": 14,
   "metadata": {},
   "outputs": [
    {
     "output_type": "execute_result",
     "data": {
      "text/plain": [
       "               open     high      low    close        volume  daily_return  \\\n",
       "date                                                                         \n",
       "2021-01-19  36622.5  37860.0  35900.0  35925.6   6298.676377     -0.019029   \n",
       "2021-01-20  35925.5  36396.7  33374.0  35511.8   9170.190746     -0.011518   \n",
       "2021-01-21  35511.8  35614.1  30056.1  30832.6  19513.432956     -0.131765   \n",
       "2021-01-22  30832.5  33850.0  28800.0  33000.0  15251.549792      0.070296   \n",
       "2021-01-23  33000.1  33496.4  31350.0  32069.4   4710.182129     -0.028200   \n",
       "\n",
       "            volume change    spread  \n",
       "date                                 \n",
       "2021-01-19      -0.156197  0.053519  \n",
       "2021-01-20       0.455892  0.084138  \n",
       "2021-01-21       1.127920  0.156511  \n",
       "2021-01-22      -0.218408  0.163788  \n",
       "2021-01-23      -0.691167  0.065042  "
      ],
      "text/html": "<div>\n<style scoped>\n    .dataframe tbody tr th:only-of-type {\n        vertical-align: middle;\n    }\n\n    .dataframe tbody tr th {\n        vertical-align: top;\n    }\n\n    .dataframe thead th {\n        text-align: right;\n    }\n</style>\n<table border=\"1\" class=\"dataframe\">\n  <thead>\n    <tr style=\"text-align: right;\">\n      <th></th>\n      <th>open</th>\n      <th>high</th>\n      <th>low</th>\n      <th>close</th>\n      <th>volume</th>\n      <th>daily_return</th>\n      <th>volume change</th>\n      <th>spread</th>\n    </tr>\n    <tr>\n      <th>date</th>\n      <th></th>\n      <th></th>\n      <th></th>\n      <th></th>\n      <th></th>\n      <th></th>\n      <th></th>\n      <th></th>\n    </tr>\n  </thead>\n  <tbody>\n    <tr>\n      <th>2021-01-19</th>\n      <td>36622.5</td>\n      <td>37860.0</td>\n      <td>35900.0</td>\n      <td>35925.6</td>\n      <td>6298.676377</td>\n      <td>-0.019029</td>\n      <td>-0.156197</td>\n      <td>0.053519</td>\n    </tr>\n    <tr>\n      <th>2021-01-20</th>\n      <td>35925.5</td>\n      <td>36396.7</td>\n      <td>33374.0</td>\n      <td>35511.8</td>\n      <td>9170.190746</td>\n      <td>-0.011518</td>\n      <td>0.455892</td>\n      <td>0.084138</td>\n    </tr>\n    <tr>\n      <th>2021-01-21</th>\n      <td>35511.8</td>\n      <td>35614.1</td>\n      <td>30056.1</td>\n      <td>30832.6</td>\n      <td>19513.432956</td>\n      <td>-0.131765</td>\n      <td>1.127920</td>\n      <td>0.156511</td>\n    </tr>\n    <tr>\n      <th>2021-01-22</th>\n      <td>30832.5</td>\n      <td>33850.0</td>\n      <td>28800.0</td>\n      <td>33000.0</td>\n      <td>15251.549792</td>\n      <td>0.070296</td>\n      <td>-0.218408</td>\n      <td>0.163788</td>\n    </tr>\n    <tr>\n      <th>2021-01-23</th>\n      <td>33000.1</td>\n      <td>33496.4</td>\n      <td>31350.0</td>\n      <td>32069.4</td>\n      <td>4710.182129</td>\n      <td>-0.028200</td>\n      <td>-0.691167</td>\n      <td>0.065042</td>\n    </tr>\n  </tbody>\n</table>\n</div>"
     },
     "metadata": {},
     "execution_count": 14
    }
   ],
   "source": [
    "# Drop NAs and calculate daily percent return\n",
    "historical_prices_df['daily_return'] = historical_prices_df['close'].dropna().pct_change()\n",
    "historical_prices_df['volume change'] = historical_prices_df['volume'].pct_change()\n",
    "historical_prices_df['spread'] = (historical_prices_df['high'] - historical_prices_df['low'])/historical_prices_df['open']\n",
    "historical_prices_df.tail()"
   ]
  },
  {
   "cell_type": "code",
   "execution_count": 20,
   "metadata": {},
   "outputs": [
    {
     "output_type": "execute_result",
     "data": {
      "text/plain": [
       "                                                          title&description  \\\n",
       "date       totalArticles                                                      \n",
       "2020-12-18 18             How to invest in bitcoin: The major ways to bu...   \n",
       "2020-12-19 6              How will Bitcoin shift the power in the coffee...   \n",
       "2020-12-20 14             Tesla's Elon Musk asks about converting \"large...   \n",
       "2020-12-21 13             Ripple to face SEC suit over XRP cryptocurrenc...   \n",
       "2020-12-22 10             SEC Sues Ripple Over XRP Cryptocurrency The ag...   \n",
       "\n",
       "                          Sentiment Score     open     high      low    close  \\\n",
       "date       totalArticles                                                        \n",
       "2020-12-18 18                           1  22811.8  23317.1  22308.2  23130.5   \n",
       "2020-12-19 6                            1  23132.8  24288.2  22800.0  23871.5   \n",
       "2020-12-20 14                           1  23871.5  24297.7  23084.9  23480.7   \n",
       "2020-12-21 13                           0  23480.8  24090.0  21885.6  22716.1   \n",
       "2020-12-22 10                           1  22724.6  23837.0  22354.2  23828.2   \n",
       "\n",
       "                                volume  daily_return  volume change    spread  \n",
       "date       totalArticles                                                       \n",
       "2020-12-18 18              6050.937552      0.013331      -0.681420  0.044227  \n",
       "2020-12-19 6               6255.127803      0.032036       0.033745  0.064333  \n",
       "2020-12-20 14              5876.100372     -0.016371      -0.060595  0.050805  \n",
       "2020-12-21 13             10783.182650     -0.032563       0.835092  0.093881  \n",
       "2020-12-22 10              5728.007668      0.048956      -0.468802  0.065251  "
      ],
      "text/html": "<div>\n<style scoped>\n    .dataframe tbody tr th:only-of-type {\n        vertical-align: middle;\n    }\n\n    .dataframe tbody tr th {\n        vertical-align: top;\n    }\n\n    .dataframe thead th {\n        text-align: right;\n    }\n</style>\n<table border=\"1\" class=\"dataframe\">\n  <thead>\n    <tr style=\"text-align: right;\">\n      <th></th>\n      <th></th>\n      <th>title&amp;description</th>\n      <th>Sentiment Score</th>\n      <th>open</th>\n      <th>high</th>\n      <th>low</th>\n      <th>close</th>\n      <th>volume</th>\n      <th>daily_return</th>\n      <th>volume change</th>\n      <th>spread</th>\n    </tr>\n    <tr>\n      <th>date</th>\n      <th>totalArticles</th>\n      <th></th>\n      <th></th>\n      <th></th>\n      <th></th>\n      <th></th>\n      <th></th>\n      <th></th>\n      <th></th>\n      <th></th>\n      <th></th>\n    </tr>\n  </thead>\n  <tbody>\n    <tr>\n      <th>2020-12-18</th>\n      <th>18</th>\n      <td>How to invest in bitcoin: The major ways to bu...</td>\n      <td>1</td>\n      <td>22811.8</td>\n      <td>23317.1</td>\n      <td>22308.2</td>\n      <td>23130.5</td>\n      <td>6050.937552</td>\n      <td>0.013331</td>\n      <td>-0.681420</td>\n      <td>0.044227</td>\n    </tr>\n    <tr>\n      <th>2020-12-19</th>\n      <th>6</th>\n      <td>How will Bitcoin shift the power in the coffee...</td>\n      <td>1</td>\n      <td>23132.8</td>\n      <td>24288.2</td>\n      <td>22800.0</td>\n      <td>23871.5</td>\n      <td>6255.127803</td>\n      <td>0.032036</td>\n      <td>0.033745</td>\n      <td>0.064333</td>\n    </tr>\n    <tr>\n      <th>2020-12-20</th>\n      <th>14</th>\n      <td>Tesla's Elon Musk asks about converting \"large...</td>\n      <td>1</td>\n      <td>23871.5</td>\n      <td>24297.7</td>\n      <td>23084.9</td>\n      <td>23480.7</td>\n      <td>5876.100372</td>\n      <td>-0.016371</td>\n      <td>-0.060595</td>\n      <td>0.050805</td>\n    </tr>\n    <tr>\n      <th>2020-12-21</th>\n      <th>13</th>\n      <td>Ripple to face SEC suit over XRP cryptocurrenc...</td>\n      <td>0</td>\n      <td>23480.8</td>\n      <td>24090.0</td>\n      <td>21885.6</td>\n      <td>22716.1</td>\n      <td>10783.182650</td>\n      <td>-0.032563</td>\n      <td>0.835092</td>\n      <td>0.093881</td>\n    </tr>\n    <tr>\n      <th>2020-12-22</th>\n      <th>10</th>\n      <td>SEC Sues Ripple Over XRP Cryptocurrency The ag...</td>\n      <td>1</td>\n      <td>22724.6</td>\n      <td>23837.0</td>\n      <td>22354.2</td>\n      <td>23828.2</td>\n      <td>5728.007668</td>\n      <td>0.048956</td>\n      <td>-0.468802</td>\n      <td>0.065251</td>\n    </tr>\n  </tbody>\n</table>\n</div>"
     },
     "metadata": {},
     "execution_count": 20
    }
   ],
   "source": [
    "combined_df = bitcoin_articles.join(historical_prices_df)\n",
    "# combined_df['articles'].shift(periods=1) code for shifting articles by 1 day. Hasn't been done yet.\n",
    "combined_df.head()"
   ]
  },
  {
   "cell_type": "code",
   "execution_count": 21,
   "metadata": {},
   "outputs": [],
   "source": [
    "# analyzing tone of bitcoin articles with ibm_watson tone analyzer SDK\n",
    "from ibm_watson import ToneAnalyzerV3\n",
    "from ibm_cloud_sdk_core.authenticators import IAMAuthenticator\n",
    "\n",
    "ibm_key = os.getenv(\"ibm_key\")\n",
    "authenticator = IAMAuthenticator(ibm_key)\n",
    "tone_analyzer = ToneAnalyzerV3(\n",
    "    version='2017-09-21',\n",
    "    authenticator=authenticator\n",
    ")\n",
    "\n",
    "tone_analyzer.set_service_url('https://api.us-east.tone-analyzer.watson.cloud.ibm.com')\n",
    "tone_analyzer.set_disable_ssl_verification(True)"
   ]
  },
  {
   "cell_type": "code",
   "execution_count": 22,
   "metadata": {},
   "outputs": [],
   "source": [
    "tone_analyzed = []\n",
    "for text in combined_df[\"title&description\"]:\n",
    "    tone_analysis = tone_analyzer.tone(\n",
    "    {'text': text},\n",
    "    content_type='application/json').get_result()\n",
    "    tone_analyzed.append(tone_analysis)"
   ]
  },
  {
   "cell_type": "code",
   "execution_count": 23,
   "metadata": {},
   "outputs": [
    {
     "output_type": "execute_result",
     "data": {
      "text/plain": [
       "        joy      fear   sadness  tentative  analytical\n",
       "0  0.590572  0.592034  0.534758   0.515201    0.000000\n",
       "1  0.529512  0.000000  0.000000   0.682860    0.000000\n",
       "2  0.565506  0.000000  0.508825   0.594668    0.000000\n",
       "3  0.589725  0.000000  0.000000   0.759095    0.000000\n",
       "4  0.000000  0.000000  0.578295   0.716654    0.559117"
      ],
      "text/html": "<div>\n<style scoped>\n    .dataframe tbody tr th:only-of-type {\n        vertical-align: middle;\n    }\n\n    .dataframe tbody tr th {\n        vertical-align: top;\n    }\n\n    .dataframe thead th {\n        text-align: right;\n    }\n</style>\n<table border=\"1\" class=\"dataframe\">\n  <thead>\n    <tr style=\"text-align: right;\">\n      <th></th>\n      <th>joy</th>\n      <th>fear</th>\n      <th>sadness</th>\n      <th>tentative</th>\n      <th>analytical</th>\n    </tr>\n  </thead>\n  <tbody>\n    <tr>\n      <th>0</th>\n      <td>0.590572</td>\n      <td>0.592034</td>\n      <td>0.534758</td>\n      <td>0.515201</td>\n      <td>0.000000</td>\n    </tr>\n    <tr>\n      <th>1</th>\n      <td>0.529512</td>\n      <td>0.000000</td>\n      <td>0.000000</td>\n      <td>0.682860</td>\n      <td>0.000000</td>\n    </tr>\n    <tr>\n      <th>2</th>\n      <td>0.565506</td>\n      <td>0.000000</td>\n      <td>0.508825</td>\n      <td>0.594668</td>\n      <td>0.000000</td>\n    </tr>\n    <tr>\n      <th>3</th>\n      <td>0.589725</td>\n      <td>0.000000</td>\n      <td>0.000000</td>\n      <td>0.759095</td>\n      <td>0.000000</td>\n    </tr>\n    <tr>\n      <th>4</th>\n      <td>0.000000</td>\n      <td>0.000000</td>\n      <td>0.578295</td>\n      <td>0.716654</td>\n      <td>0.559117</td>\n    </tr>\n  </tbody>\n</table>\n</div>"
     },
     "metadata": {},
     "execution_count": 23
    }
   ],
   "source": [
    "# working on figuring out how to convert tone_analyzed into sparse matrix that will be merged with combined_df so we evaluate extra features.\n",
    "tone=[]\n",
    "for text in tone_analyzed:\n",
    "    dic={}\n",
    "    tone.append(dic)\n",
    "    for emotions in text[\"document_tone\"][\"tones\"]:\n",
    "        dic.update({emotions['tone_id']:emotions['score']})\n",
    "data = pd.DataFrame(tone)\n",
    "data.fillna(0,inplace=True)\n",
    "data.head()\n"
   ]
  },
  {
   "cell_type": "code",
   "execution_count": 24,
   "metadata": {},
   "outputs": [],
   "source": [
    "combined_df.reset_index(inplace=True)\n",
    "all_df = combined_df.join(data)\n",
    "all_df.set_index(\"date\",inplace=True)\n"
   ]
  },
  {
   "cell_type": "code",
   "execution_count": 27,
   "metadata": {},
   "outputs": [
    {
     "output_type": "execute_result",
     "data": {
      "text/plain": [
       "            totalArticles                                  title&description  \\\n",
       "date                                                                           \n",
       "2020-12-18             18  How to invest in bitcoin: The major ways to bu...   \n",
       "2020-12-19              6  How will Bitcoin shift the power in the coffee...   \n",
       "2020-12-20             14  Tesla's Elon Musk asks about converting \"large...   \n",
       "2020-12-21             13  Ripple to face SEC suit over XRP cryptocurrenc...   \n",
       "2020-12-22             10  SEC Sues Ripple Over XRP Cryptocurrency The ag...   \n",
       "\n",
       "            Sentiment Score     open     high      low    close        volume  \\\n",
       "date                                                                            \n",
       "2020-12-18                1  22811.8  23317.1  22308.2  23130.5   6050.937552   \n",
       "2020-12-19                1  23132.8  24288.2  22800.0  23871.5   6255.127803   \n",
       "2020-12-20                1  23871.5  24297.7  23084.9  23480.7   5876.100372   \n",
       "2020-12-21                0  23480.8  24090.0  21885.6  22716.1  10783.182650   \n",
       "2020-12-22                1  22724.6  23837.0  22354.2  23828.2   5728.007668   \n",
       "\n",
       "            daily_return  volume change    spread       joy      fear  \\\n",
       "date                                                                    \n",
       "2020-12-18      0.013331      -0.681420  0.044227  0.590572  0.592034   \n",
       "2020-12-19      0.032036       0.033745  0.064333  0.529512  0.000000   \n",
       "2020-12-20     -0.016371      -0.060595  0.050805  0.565506  0.000000   \n",
       "2020-12-21     -0.032563       0.835092  0.093881  0.589725  0.000000   \n",
       "2020-12-22      0.048956      -0.468802  0.065251  0.000000  0.000000   \n",
       "\n",
       "             sadness  tentative  analytical  \n",
       "date                                         \n",
       "2020-12-18  0.534758   0.515201    0.000000  \n",
       "2020-12-19  0.000000   0.682860    0.000000  \n",
       "2020-12-20  0.508825   0.594668    0.000000  \n",
       "2020-12-21  0.000000   0.759095    0.000000  \n",
       "2020-12-22  0.578295   0.716654    0.559117  "
      ],
      "text/html": "<div>\n<style scoped>\n    .dataframe tbody tr th:only-of-type {\n        vertical-align: middle;\n    }\n\n    .dataframe tbody tr th {\n        vertical-align: top;\n    }\n\n    .dataframe thead th {\n        text-align: right;\n    }\n</style>\n<table border=\"1\" class=\"dataframe\">\n  <thead>\n    <tr style=\"text-align: right;\">\n      <th></th>\n      <th>totalArticles</th>\n      <th>title&amp;description</th>\n      <th>Sentiment Score</th>\n      <th>open</th>\n      <th>high</th>\n      <th>low</th>\n      <th>close</th>\n      <th>volume</th>\n      <th>daily_return</th>\n      <th>volume change</th>\n      <th>spread</th>\n      <th>joy</th>\n      <th>fear</th>\n      <th>sadness</th>\n      <th>tentative</th>\n      <th>analytical</th>\n    </tr>\n    <tr>\n      <th>date</th>\n      <th></th>\n      <th></th>\n      <th></th>\n      <th></th>\n      <th></th>\n      <th></th>\n      <th></th>\n      <th></th>\n      <th></th>\n      <th></th>\n      <th></th>\n      <th></th>\n      <th></th>\n      <th></th>\n      <th></th>\n      <th></th>\n    </tr>\n  </thead>\n  <tbody>\n    <tr>\n      <th>2020-12-18</th>\n      <td>18</td>\n      <td>How to invest in bitcoin: The major ways to bu...</td>\n      <td>1</td>\n      <td>22811.8</td>\n      <td>23317.1</td>\n      <td>22308.2</td>\n      <td>23130.5</td>\n      <td>6050.937552</td>\n      <td>0.013331</td>\n      <td>-0.681420</td>\n      <td>0.044227</td>\n      <td>0.590572</td>\n      <td>0.592034</td>\n      <td>0.534758</td>\n      <td>0.515201</td>\n      <td>0.000000</td>\n    </tr>\n    <tr>\n      <th>2020-12-19</th>\n      <td>6</td>\n      <td>How will Bitcoin shift the power in the coffee...</td>\n      <td>1</td>\n      <td>23132.8</td>\n      <td>24288.2</td>\n      <td>22800.0</td>\n      <td>23871.5</td>\n      <td>6255.127803</td>\n      <td>0.032036</td>\n      <td>0.033745</td>\n      <td>0.064333</td>\n      <td>0.529512</td>\n      <td>0.000000</td>\n      <td>0.000000</td>\n      <td>0.682860</td>\n      <td>0.000000</td>\n    </tr>\n    <tr>\n      <th>2020-12-20</th>\n      <td>14</td>\n      <td>Tesla's Elon Musk asks about converting \"large...</td>\n      <td>1</td>\n      <td>23871.5</td>\n      <td>24297.7</td>\n      <td>23084.9</td>\n      <td>23480.7</td>\n      <td>5876.100372</td>\n      <td>-0.016371</td>\n      <td>-0.060595</td>\n      <td>0.050805</td>\n      <td>0.565506</td>\n      <td>0.000000</td>\n      <td>0.508825</td>\n      <td>0.594668</td>\n      <td>0.000000</td>\n    </tr>\n    <tr>\n      <th>2020-12-21</th>\n      <td>13</td>\n      <td>Ripple to face SEC suit over XRP cryptocurrenc...</td>\n      <td>0</td>\n      <td>23480.8</td>\n      <td>24090.0</td>\n      <td>21885.6</td>\n      <td>22716.1</td>\n      <td>10783.182650</td>\n      <td>-0.032563</td>\n      <td>0.835092</td>\n      <td>0.093881</td>\n      <td>0.589725</td>\n      <td>0.000000</td>\n      <td>0.000000</td>\n      <td>0.759095</td>\n      <td>0.000000</td>\n    </tr>\n    <tr>\n      <th>2020-12-22</th>\n      <td>10</td>\n      <td>SEC Sues Ripple Over XRP Cryptocurrency The ag...</td>\n      <td>1</td>\n      <td>22724.6</td>\n      <td>23837.0</td>\n      <td>22354.2</td>\n      <td>23828.2</td>\n      <td>5728.007668</td>\n      <td>0.048956</td>\n      <td>-0.468802</td>\n      <td>0.065251</td>\n      <td>0.000000</td>\n      <td>0.000000</td>\n      <td>0.578295</td>\n      <td>0.716654</td>\n      <td>0.559117</td>\n    </tr>\n  </tbody>\n</table>\n</div>"
     },
     "metadata": {},
     "execution_count": 27
    }
   ],
   "source": [
    "all_df.head()"
   ]
  },
  {
   "cell_type": "code",
   "execution_count": 28,
   "metadata": {},
   "outputs": [],
   "source": [
    "all_df.to_csv('sentiment_prices_tone_text.csv')"
   ]
  },
  {
   "cell_type": "code",
   "execution_count": null,
   "metadata": {},
   "outputs": [],
   "source": []
  }
 ]
}
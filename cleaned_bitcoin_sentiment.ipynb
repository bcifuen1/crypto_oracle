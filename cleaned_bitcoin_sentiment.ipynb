{
 "metadata": {
  "language_info": {
   "codemirror_mode": {
    "name": "ipython",
    "version": 3
   },
   "file_extension": ".py",
   "mimetype": "text/x-python",
   "name": "python",
   "nbconvert_exporter": "python",
   "pygments_lexer": "ipython3",
   "version": "3.7.7-final"
  },
  "orig_nbformat": 2,
  "kernelspec": {
   "name": "python3",
   "display_name": "Python 3",
   "language": "python"
  }
 },
 "nbformat": 4,
 "nbformat_minor": 2,
 "cells": [
  {
   "cell_type": "code",
   "execution_count": 1,
   "metadata": {},
   "outputs": [],
   "source": [
    "import os\n",
    "import json\n",
    "import time\n",
    "import datetime\n",
    "import requests\n",
    "import pandas as pd\n",
    "from dotenv import load_dotenv"
   ]
  },
  {
   "cell_type": "code",
   "execution_count": 2,
   "metadata": {},
   "outputs": [
    {
     "output_type": "execute_result",
     "data": {
      "text/plain": [
       "True"
      ]
     },
     "metadata": {},
     "execution_count": 2
    }
   ],
   "source": [
    "load_dotenv()"
   ]
  },
  {
   "cell_type": "code",
   "execution_count": 3,
   "metadata": {},
   "outputs": [],
   "source": [
    "# use while-loop to iterate through a range of dates in a url to pull articles from each day. Use time.sleep to pause the loop every 4 seconds due api restrictions, api only allows a request for every 3 seconds.\n",
    "start_date = datetime.date(2020, 12, 18)\n",
    "end_date = datetime.date(2021, 1, 18)\n",
    "delta = datetime.timedelta(days=1)\n",
    "articles=[]\n",
    "while start_date <= end_date:\n",
    "    # print(start_date)\n",
    "    gnews_api = os.environ[\"gnews_api\"]\n",
    "    gnews_url =f\"https://gnews.io/api/v4/search?q=bitcoin&in=cryptocurrency&from={start_date}T00:01:36Z&to={start_date}T23:59:36Z&lang=en&token={gnews_api}\"\n",
    "    response = requests.get(gnews_url)\n",
    "    data = response.json()\n",
    "    articles.append(data)\n",
    "    start_date += delta\n",
    "    time.sleep(4)"
   ]
  },
  {
   "cell_type": "code",
   "execution_count": 20,
   "metadata": {},
   "outputs": [
    {
     "output_type": "execute_result",
     "data": {
      "text/plain": [
       "                   date                                  title&description  \\\n",
       "0  2020-12-18T23:55:00Z  How to invest in bitcoin: The major ways to bu...   \n",
       "1  2020-12-18T22:30:35Z  Which Bitcoin Fund Should You Buy? Bitcoin is ...   \n",
       "2  2020-12-18T17:52:00Z  Bitcoin's market cap could hit $1 trillion in ...   \n",
       "3  2020-12-18T16:58:10Z  New bitcoin investors buying $20 million or mo...   \n",
       "4  2020-12-18T16:35:13Z  Forget Gold and Bitcoin. I’d Use the Stock Mar...   \n",
       "\n",
       "  totalArticles  \n",
       "0            18  \n",
       "1            18  \n",
       "2            18  \n",
       "3            18  \n",
       "4            18  "
      ],
      "text/html": "<div>\n<style scoped>\n    .dataframe tbody tr th:only-of-type {\n        vertical-align: middle;\n    }\n\n    .dataframe tbody tr th {\n        vertical-align: top;\n    }\n\n    .dataframe thead th {\n        text-align: right;\n    }\n</style>\n<table border=\"1\" class=\"dataframe\">\n  <thead>\n    <tr style=\"text-align: right;\">\n      <th></th>\n      <th>date</th>\n      <th>title&amp;description</th>\n      <th>totalArticles</th>\n    </tr>\n  </thead>\n  <tbody>\n    <tr>\n      <th>0</th>\n      <td>2020-12-18T23:55:00Z</td>\n      <td>How to invest in bitcoin: The major ways to bu...</td>\n      <td>18</td>\n    </tr>\n    <tr>\n      <th>1</th>\n      <td>2020-12-18T22:30:35Z</td>\n      <td>Which Bitcoin Fund Should You Buy? Bitcoin is ...</td>\n      <td>18</td>\n    </tr>\n    <tr>\n      <th>2</th>\n      <td>2020-12-18T17:52:00Z</td>\n      <td>Bitcoin's market cap could hit $1 trillion in ...</td>\n      <td>18</td>\n    </tr>\n    <tr>\n      <th>3</th>\n      <td>2020-12-18T16:58:10Z</td>\n      <td>New bitcoin investors buying $20 million or mo...</td>\n      <td>18</td>\n    </tr>\n    <tr>\n      <th>4</th>\n      <td>2020-12-18T16:35:13Z</td>\n      <td>Forget Gold and Bitcoin. I’d Use the Stock Mar...</td>\n      <td>18</td>\n    </tr>\n  </tbody>\n</table>\n</div>"
     },
     "metadata": {},
     "execution_count": 20
    }
   ],
   "source": [
    "# convert json to dataframe pulling only \"publishAt\", \"title\", \"description\", and \"content\"\n",
    "articles_df = pd.json_normalize(articles, record_path=['articles'], meta='totalArticles')\n",
    "articles_df['title&description']= articles_df['title']+ \" \" +articles_df['description']\n",
    "articles_df = articles_df[['publishedAt', 'title&description', 'totalArticles']]\n",
    "articles_df.rename(columns={'publishedAt':'date'}, inplace=True)\n",
    "articles_df.head()"
   ]
  },
  {
   "cell_type": "code",
   "execution_count": 32,
   "metadata": {},
   "outputs": [
    {
     "output_type": "execute_result",
     "data": {
      "text/plain": [
       "                                                          title&description\n",
       "date       totalArticles                                                   \n",
       "2020-12-18 18             How to invest in bitcoin: The major ways to bu...\n",
       "2020-12-19 6              How will Bitcoin shift the power in the coffee...\n",
       "2020-12-20 14             Tesla's Elon Musk asks about converting \"large...\n",
       "2020-12-21 13             Ripple to face SEC suit over XRP cryptocurrenc...\n",
       "2020-12-22 10             SEC Sues Ripple Over XRP Cryptocurrency The ag..."
      ],
      "text/html": "<div>\n<style scoped>\n    .dataframe tbody tr th:only-of-type {\n        vertical-align: middle;\n    }\n\n    .dataframe tbody tr th {\n        vertical-align: top;\n    }\n\n    .dataframe thead th {\n        text-align: right;\n    }\n</style>\n<table border=\"1\" class=\"dataframe\">\n  <thead>\n    <tr style=\"text-align: right;\">\n      <th></th>\n      <th></th>\n      <th>title&amp;description</th>\n    </tr>\n    <tr>\n      <th>date</th>\n      <th>totalArticles</th>\n      <th></th>\n    </tr>\n  </thead>\n  <tbody>\n    <tr>\n      <th>2020-12-18</th>\n      <th>18</th>\n      <td>How to invest in bitcoin: The major ways to bu...</td>\n    </tr>\n    <tr>\n      <th>2020-12-19</th>\n      <th>6</th>\n      <td>How will Bitcoin shift the power in the coffee...</td>\n    </tr>\n    <tr>\n      <th>2020-12-20</th>\n      <th>14</th>\n      <td>Tesla's Elon Musk asks about converting \"large...</td>\n    </tr>\n    <tr>\n      <th>2020-12-21</th>\n      <th>13</th>\n      <td>Ripple to face SEC suit over XRP cryptocurrenc...</td>\n    </tr>\n    <tr>\n      <th>2020-12-22</th>\n      <th>10</th>\n      <td>SEC Sues Ripple Over XRP Cryptocurrency The ag...</td>\n    </tr>\n  </tbody>\n</table>\n</div>"
     },
     "metadata": {},
     "execution_count": 32
    }
   ],
   "source": [
    "# clean dataframe and add a column that is composed of \"title\" and \"description\". Also group dataframe by \"publish date\"\n",
    "articles_df['date']=pd.to_datetime(articles_df['date'], infer_datetime_format=True).dt.date\n",
    "bitcoin_articles= articles_df.groupby(by=[\"date\",'totalArticles']).sum()\n",
    "bitcoin_articles.head()"
   ]
  },
  {
   "cell_type": "code",
   "execution_count": 6,
   "metadata": {},
   "outputs": [
    {
     "output_type": "stream",
     "name": "stderr",
     "text": [
      "[nltk_data] Downloading package vader_lexicon to\n[nltk_data]     /Users/alhamduliallah/nltk_data...\n[nltk_data]   Package vader_lexicon is already up-to-date!\n"
     ]
    },
    {
     "output_type": "execute_result",
     "data": {
      "text/plain": [
       "True"
      ]
     },
     "metadata": {},
     "execution_count": 6
    }
   ],
   "source": [
    "# Import the libraries for sentiment scoring using Vader\n",
    "import nltk\n",
    "from nltk.sentiment.vader import SentimentIntensityAnalyzer\n",
    "# Initialize the VADER sentiment analyzer\n",
    "analyzer = SentimentIntensityAnalyzer()\n",
    "# Download/Update the VADER Lexicon\n",
    "nltk.download('vader_lexicon')"
   ]
  },
  {
   "cell_type": "code",
   "execution_count": 7,
   "metadata": {},
   "outputs": [],
   "source": [
    "# Define two lists to store vader sentiment scoring\n",
    "y_vader_pred = []\n",
    "y_vader_prob = []"
   ]
  },
  {
   "cell_type": "code",
   "execution_count": 9,
   "metadata": {},
   "outputs": [],
   "source": [
    "# Score sentiment of test set using Vader\n",
    "for text in bitcoin_articles[\"title&description\"]:\n",
    "    y_vader_prob.append(analyzer.polarity_scores(text)[\"pos\"])\n",
    "    sentiment_score = analyzer.polarity_scores(text)[\"compound\"]\n",
    "    if sentiment_score >= 0.1:\n",
    "        y_vader_pred.append(1)\n",
    "    else:\n",
    "        y_vader_pred.append(0)"
   ]
  },
  {
   "cell_type": "code",
   "execution_count": 22,
   "metadata": {},
   "outputs": [
    {
     "output_type": "execute_result",
     "data": {
      "text/plain": [
       "                                                          title&description  \\\n",
       "date       totalArticles                                                      \n",
       "2020-12-18 18             How to invest in bitcoin: The major ways to bu...   \n",
       "2020-12-19 6              How will Bitcoin shift the power in the coffee...   \n",
       "2020-12-20 14             Tesla's Elon Musk asks about converting \"large...   \n",
       "2020-12-21 13             Ripple to face SEC suit over XRP cryptocurrenc...   \n",
       "2020-12-22 10             SEC Sues Ripple Over XRP Cryptocurrency The ag...   \n",
       "\n",
       "                          Sentiment Score  \n",
       "date       totalArticles                   \n",
       "2020-12-18 18                           1  \n",
       "2020-12-19 6                            1  \n",
       "2020-12-20 14                           1  \n",
       "2020-12-21 13                           0  \n",
       "2020-12-22 10                           1  "
      ],
      "text/html": "<div>\n<style scoped>\n    .dataframe tbody tr th:only-of-type {\n        vertical-align: middle;\n    }\n\n    .dataframe tbody tr th {\n        vertical-align: top;\n    }\n\n    .dataframe thead th {\n        text-align: right;\n    }\n</style>\n<table border=\"1\" class=\"dataframe\">\n  <thead>\n    <tr style=\"text-align: right;\">\n      <th></th>\n      <th></th>\n      <th>title&amp;description</th>\n      <th>Sentiment Score</th>\n    </tr>\n    <tr>\n      <th>date</th>\n      <th>totalArticles</th>\n      <th></th>\n      <th></th>\n    </tr>\n  </thead>\n  <tbody>\n    <tr>\n      <th>2020-12-18</th>\n      <th>18</th>\n      <td>How to invest in bitcoin: The major ways to bu...</td>\n      <td>1</td>\n    </tr>\n    <tr>\n      <th>2020-12-19</th>\n      <th>6</th>\n      <td>How will Bitcoin shift the power in the coffee...</td>\n      <td>1</td>\n    </tr>\n    <tr>\n      <th>2020-12-20</th>\n      <th>14</th>\n      <td>Tesla's Elon Musk asks about converting \"large...</td>\n      <td>1</td>\n    </tr>\n    <tr>\n      <th>2020-12-21</th>\n      <th>13</th>\n      <td>Ripple to face SEC suit over XRP cryptocurrenc...</td>\n      <td>0</td>\n    </tr>\n    <tr>\n      <th>2020-12-22</th>\n      <th>10</th>\n      <td>SEC Sues Ripple Over XRP Cryptocurrency The ag...</td>\n      <td>1</td>\n    </tr>\n  </tbody>\n</table>\n</div>"
     },
     "metadata": {},
     "execution_count": 22
    }
   ],
   "source": [
    "# add sentiment score to bitcoin_articles dataframe\n",
    "bitcoin_articles[\"Sentiment Score\"]=y_vader_pred\n",
    "bitcoin_articles['number of articles']= \n",
    "bitcoin_articles.head()"
   ]
  },
  {
   "cell_type": "code",
   "execution_count": 11,
   "metadata": {},
   "outputs": [],
   "source": [
    "# import ccxt SDK and get bitcoin historical prices from kraken\n",
    "import ccxt\n",
    "kraken_public_key = os.getenv(\"KRAKEN_PUBLIC_KEY\")\n",
    "kraken_secret_key = os.getenv(\"KRAKEN_SECRET_KEY\")\n",
    "kraken = ccxt.kraken({\"apiKey\": kraken_public_key, \"secret\": kraken_secret_key})\n",
    "\n",
    "historical_prices = kraken.fetch_ohlcv(\"BTC/USD\",\"1d\")"
   ]
  },
  {
   "cell_type": "code",
   "execution_count": 23,
   "metadata": {},
   "outputs": [
    {
     "output_type": "execute_result",
     "data": {
      "text/plain": [
       "              open    high     low   close       volume\n",
       "date                                                   \n",
       "2019-02-03  3467.7  3472.9  3388.6  3415.2  1300.828880\n",
       "2019-02-04  3416.6  3437.8  3396.9  3413.9  1359.629904\n",
       "2019-02-05  3411.0  3433.7  3397.8  3429.5  1429.386854\n",
       "2019-02-06  3430.0  3445.0  3337.0  3367.4  2289.491212\n",
       "2019-02-07  3367.2  3382.4  3348.1  3357.1  1512.883808"
      ],
      "text/html": "<div>\n<style scoped>\n    .dataframe tbody tr th:only-of-type {\n        vertical-align: middle;\n    }\n\n    .dataframe tbody tr th {\n        vertical-align: top;\n    }\n\n    .dataframe thead th {\n        text-align: right;\n    }\n</style>\n<table border=\"1\" class=\"dataframe\">\n  <thead>\n    <tr style=\"text-align: right;\">\n      <th></th>\n      <th>open</th>\n      <th>high</th>\n      <th>low</th>\n      <th>close</th>\n      <th>volume</th>\n    </tr>\n    <tr>\n      <th>date</th>\n      <th></th>\n      <th></th>\n      <th></th>\n      <th></th>\n      <th></th>\n    </tr>\n  </thead>\n  <tbody>\n    <tr>\n      <th>2019-02-03</th>\n      <td>3467.7</td>\n      <td>3472.9</td>\n      <td>3388.6</td>\n      <td>3415.2</td>\n      <td>1300.828880</td>\n    </tr>\n    <tr>\n      <th>2019-02-04</th>\n      <td>3416.6</td>\n      <td>3437.8</td>\n      <td>3396.9</td>\n      <td>3413.9</td>\n      <td>1359.629904</td>\n    </tr>\n    <tr>\n      <th>2019-02-05</th>\n      <td>3411.0</td>\n      <td>3433.7</td>\n      <td>3397.8</td>\n      <td>3429.5</td>\n      <td>1429.386854</td>\n    </tr>\n    <tr>\n      <th>2019-02-06</th>\n      <td>3430.0</td>\n      <td>3445.0</td>\n      <td>3337.0</td>\n      <td>3367.4</td>\n      <td>2289.491212</td>\n    </tr>\n    <tr>\n      <th>2019-02-07</th>\n      <td>3367.2</td>\n      <td>3382.4</td>\n      <td>3348.1</td>\n      <td>3357.1</td>\n      <td>1512.883808</td>\n    </tr>\n  </tbody>\n</table>\n</div>"
     },
     "metadata": {},
     "execution_count": 23
    }
   ],
   "source": [
    "historical_prices_df = pd.DataFrame(historical_prices, columns=[\"date\", \"open\", \"high\", \"low\", \"close\", \"volume\"])\n",
    "historical_prices_df[\"date\"] = pd.to_datetime(\n",
    "    historical_prices_df[\"date\"], unit=\"ms\"\n",
    ")\n",
    "historical_prices_df.set_index(\"date\",inplace=True)\n",
    "historical_prices_df.head()"
   ]
  },
  {
   "cell_type": "code",
   "execution_count": 24,
   "metadata": {},
   "outputs": [
    {
     "output_type": "execute_result",
     "data": {
      "text/plain": [
       "               open     high      low    close        volume  daily_return  \\\n",
       "date                                                                         \n",
       "2021-01-18  35815.6  37400.0  34754.5  36622.5   7464.626338      0.022506   \n",
       "2021-01-19  36622.5  37860.0  35900.0  35925.6   6298.676377     -0.019029   \n",
       "2021-01-20  35925.5  36396.7  33374.0  35511.8   9170.190746     -0.011518   \n",
       "2021-01-21  35511.8  35614.1  30056.1  30832.6  19513.432956     -0.131765   \n",
       "2021-01-22  30832.5  32844.7  28800.0  32377.7  11897.779434      0.050113   \n",
       "\n",
       "            volume change    spread  \n",
       "date                                 \n",
       "2021-01-18      -0.172243  0.073864  \n",
       "2021-01-19      -0.156197  0.053519  \n",
       "2021-01-20       0.455892  0.084138  \n",
       "2021-01-21       1.127920  0.156511  \n",
       "2021-01-22      -0.390277  0.131183  "
      ],
      "text/html": "<div>\n<style scoped>\n    .dataframe tbody tr th:only-of-type {\n        vertical-align: middle;\n    }\n\n    .dataframe tbody tr th {\n        vertical-align: top;\n    }\n\n    .dataframe thead th {\n        text-align: right;\n    }\n</style>\n<table border=\"1\" class=\"dataframe\">\n  <thead>\n    <tr style=\"text-align: right;\">\n      <th></th>\n      <th>open</th>\n      <th>high</th>\n      <th>low</th>\n      <th>close</th>\n      <th>volume</th>\n      <th>daily_return</th>\n      <th>volume change</th>\n      <th>spread</th>\n    </tr>\n    <tr>\n      <th>date</th>\n      <th></th>\n      <th></th>\n      <th></th>\n      <th></th>\n      <th></th>\n      <th></th>\n      <th></th>\n      <th></th>\n    </tr>\n  </thead>\n  <tbody>\n    <tr>\n      <th>2021-01-18</th>\n      <td>35815.6</td>\n      <td>37400.0</td>\n      <td>34754.5</td>\n      <td>36622.5</td>\n      <td>7464.626338</td>\n      <td>0.022506</td>\n      <td>-0.172243</td>\n      <td>0.073864</td>\n    </tr>\n    <tr>\n      <th>2021-01-19</th>\n      <td>36622.5</td>\n      <td>37860.0</td>\n      <td>35900.0</td>\n      <td>35925.6</td>\n      <td>6298.676377</td>\n      <td>-0.019029</td>\n      <td>-0.156197</td>\n      <td>0.053519</td>\n    </tr>\n    <tr>\n      <th>2021-01-20</th>\n      <td>35925.5</td>\n      <td>36396.7</td>\n      <td>33374.0</td>\n      <td>35511.8</td>\n      <td>9170.190746</td>\n      <td>-0.011518</td>\n      <td>0.455892</td>\n      <td>0.084138</td>\n    </tr>\n    <tr>\n      <th>2021-01-21</th>\n      <td>35511.8</td>\n      <td>35614.1</td>\n      <td>30056.1</td>\n      <td>30832.6</td>\n      <td>19513.432956</td>\n      <td>-0.131765</td>\n      <td>1.127920</td>\n      <td>0.156511</td>\n    </tr>\n    <tr>\n      <th>2021-01-22</th>\n      <td>30832.5</td>\n      <td>32844.7</td>\n      <td>28800.0</td>\n      <td>32377.7</td>\n      <td>11897.779434</td>\n      <td>0.050113</td>\n      <td>-0.390277</td>\n      <td>0.131183</td>\n    </tr>\n  </tbody>\n</table>\n</div>"
     },
     "metadata": {},
     "execution_count": 24
    }
   ],
   "source": [
    "# Drop NAs and calculate daily percent return\n",
    "historical_prices_df['daily_return'] = historical_prices_df['close'].dropna().pct_change()\n",
    "historical_prices_df['volume change'] = historical_prices_df['volume'].pct_change()\n",
    "historical_prices_df['spread'] = (historical_prices_df['high'] - historical_prices_df['low'])/historical_prices_df['open']\n",
    "historical_prices_df.tail()"
   ]
  },
  {
   "cell_type": "code",
   "execution_count": 37,
   "metadata": {},
   "outputs": [
    {
     "output_type": "execute_result",
     "data": {
      "text/plain": [
       "                                                          title&description  \\\n",
       "date       totalArticles                                                      \n",
       "2020-12-18 18             How to invest in bitcoin: The major ways to bu...   \n",
       "2020-12-19 6              How will Bitcoin shift the power in the coffee...   \n",
       "2020-12-20 14             Tesla's Elon Musk asks about converting \"large...   \n",
       "2020-12-21 13             Ripple to face SEC suit over XRP cryptocurrenc...   \n",
       "2020-12-22 10             SEC Sues Ripple Over XRP Cryptocurrency The ag...   \n",
       "\n",
       "                             open     high      low    close        volume  \\\n",
       "date       totalArticles                                                     \n",
       "2020-12-18 18             22811.8  23317.1  22308.2  23130.5   6050.937552   \n",
       "2020-12-19 6              23132.8  24288.2  22800.0  23871.5   6255.127803   \n",
       "2020-12-20 14             23871.5  24297.7  23084.9  23480.7   5876.100372   \n",
       "2020-12-21 13             23480.8  24090.0  21885.6  22716.1  10783.182650   \n",
       "2020-12-22 10             22724.6  23837.0  22354.2  23828.2   5728.007668   \n",
       "\n",
       "                          daily_return  volume change    spread  \n",
       "date       totalArticles                                         \n",
       "2020-12-18 18                 0.013331      -0.681420  0.044227  \n",
       "2020-12-19 6                  0.032036       0.033745  0.064333  \n",
       "2020-12-20 14                -0.016371      -0.060595  0.050805  \n",
       "2020-12-21 13                -0.032563       0.835092  0.093881  \n",
       "2020-12-22 10                 0.048956      -0.468802  0.065251  "
      ],
      "text/html": "<div>\n<style scoped>\n    .dataframe tbody tr th:only-of-type {\n        vertical-align: middle;\n    }\n\n    .dataframe tbody tr th {\n        vertical-align: top;\n    }\n\n    .dataframe thead th {\n        text-align: right;\n    }\n</style>\n<table border=\"1\" class=\"dataframe\">\n  <thead>\n    <tr style=\"text-align: right;\">\n      <th></th>\n      <th></th>\n      <th>title&amp;description</th>\n      <th>open</th>\n      <th>high</th>\n      <th>low</th>\n      <th>close</th>\n      <th>volume</th>\n      <th>daily_return</th>\n      <th>volume change</th>\n      <th>spread</th>\n    </tr>\n    <tr>\n      <th>date</th>\n      <th>totalArticles</th>\n      <th></th>\n      <th></th>\n      <th></th>\n      <th></th>\n      <th></th>\n      <th></th>\n      <th></th>\n      <th></th>\n      <th></th>\n    </tr>\n  </thead>\n  <tbody>\n    <tr>\n      <th>2020-12-18</th>\n      <th>18</th>\n      <td>How to invest in bitcoin: The major ways to bu...</td>\n      <td>22811.8</td>\n      <td>23317.1</td>\n      <td>22308.2</td>\n      <td>23130.5</td>\n      <td>6050.937552</td>\n      <td>0.013331</td>\n      <td>-0.681420</td>\n      <td>0.044227</td>\n    </tr>\n    <tr>\n      <th>2020-12-19</th>\n      <th>6</th>\n      <td>How will Bitcoin shift the power in the coffee...</td>\n      <td>23132.8</td>\n      <td>24288.2</td>\n      <td>22800.0</td>\n      <td>23871.5</td>\n      <td>6255.127803</td>\n      <td>0.032036</td>\n      <td>0.033745</td>\n      <td>0.064333</td>\n    </tr>\n    <tr>\n      <th>2020-12-20</th>\n      <th>14</th>\n      <td>Tesla's Elon Musk asks about converting \"large...</td>\n      <td>23871.5</td>\n      <td>24297.7</td>\n      <td>23084.9</td>\n      <td>23480.7</td>\n      <td>5876.100372</td>\n      <td>-0.016371</td>\n      <td>-0.060595</td>\n      <td>0.050805</td>\n    </tr>\n    <tr>\n      <th>2020-12-21</th>\n      <th>13</th>\n      <td>Ripple to face SEC suit over XRP cryptocurrenc...</td>\n      <td>23480.8</td>\n      <td>24090.0</td>\n      <td>21885.6</td>\n      <td>22716.1</td>\n      <td>10783.182650</td>\n      <td>-0.032563</td>\n      <td>0.835092</td>\n      <td>0.093881</td>\n    </tr>\n    <tr>\n      <th>2020-12-22</th>\n      <th>10</th>\n      <td>SEC Sues Ripple Over XRP Cryptocurrency The ag...</td>\n      <td>22724.6</td>\n      <td>23837.0</td>\n      <td>22354.2</td>\n      <td>23828.2</td>\n      <td>5728.007668</td>\n      <td>0.048956</td>\n      <td>-0.468802</td>\n      <td>0.065251</td>\n    </tr>\n  </tbody>\n</table>\n</div>"
     },
     "metadata": {},
     "execution_count": 37
    }
   ],
   "source": [
    "combined_df = bitcoin_articles.join(historical_prices_df)\n",
    "# combined_df['articles'].shift(periods=1) code for shifting articles by 1 day. Hasn't been done yet.\n",
    "combined_df.head()"
   ]
  },
  {
   "cell_type": "code",
   "execution_count": null,
   "metadata": {},
   "outputs": [],
   "source": [
    "# analyzing tone of bitcoin articles with ibm_watson tone analyzer SDK\n",
    "from ibm_watson import ToneAnalyzerV3\n",
    "from ibm_cloud_sdk_core.authenticators import IAMAuthenticator\n",
    "\n",
    "ibm_key = os.getenv(\"ibm_key\")\n",
    "authenticator = IAMAuthenticator(ibm_key)\n",
    "tone_analyzer = ToneAnalyzerV3(\n",
    "    version='2017-09-21',\n",
    "    authenticator=authenticator\n",
    ")\n",
    "\n",
    "tone_analyzer.set_service_url('https://api.us-east.tone-analyzer.watson.cloud.ibm.com')\n",
    "tone_analyzer.set_disable_ssl_verification(True)"
   ]
  },
  {
   "cell_type": "code",
   "execution_count": null,
   "metadata": {},
   "outputs": [],
   "source": [
    "tone_analyzed = []\n",
    "for text in combined_df[\"Title & Description\"]:\n",
    "    tone_analysis = tone_analyzer.tone(\n",
    "    {'text': text},\n",
    "    content_type='application/json',\n",
    "    sentences=False).get_result()\n",
    "    tone_analyzed.append(tone_analysis)"
   ]
  },
  {
   "cell_type": "code",
   "execution_count": null,
   "metadata": {},
   "outputs": [],
   "source": [
    "# working on figuring out how to convert tone_analyzed into sparse matrix that will be merged with combined_df so we evaluate extra features."
   ]
  }
 ]
}
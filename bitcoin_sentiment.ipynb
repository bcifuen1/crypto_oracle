{
 "metadata": {
  "language_info": {
   "codemirror_mode": {
    "name": "ipython",
    "version": 3
   },
   "file_extension": ".py",
   "mimetype": "text/x-python",
   "name": "python",
   "nbconvert_exporter": "python",
   "pygments_lexer": "ipython3",
   "version": "3.7.7-final"
  },
  "orig_nbformat": 2,
  "kernelspec": {
   "name": "python3",
   "display_name": "Python 3",
   "language": "python"
  }
 },
 "nbformat": 4,
 "nbformat_minor": 2,
 "cells": [
  {
   "cell_type": "code",
   "execution_count": 5,
   "metadata": {},
   "outputs": [],
   "source": [
    "import os\n",
    "import json\n",
    "import time\n",
    "import datetime\n",
    "import requests\n",
    "import pandas as pd\n",
    "from dotenv import load_dotenv"
   ]
  },
  {
   "cell_type": "code",
   "execution_count": 2,
   "metadata": {},
   "outputs": [
    {
     "output_type": "execute_result",
     "data": {
      "text/plain": [
       "True"
      ]
     },
     "metadata": {},
     "execution_count": 2
    }
   ],
   "source": [
    "load_dotenv()"
   ]
  },
  {
   "cell_type": "code",
   "execution_count": 43,
   "metadata": {},
   "outputs": [
    {
     "output_type": "stream",
     "name": "stdout",
     "text": [
      "2020-12-18\n",
      "2020-12-19\n",
      "2020-12-20\n",
      "2020-12-21\n",
      "2020-12-22\n",
      "2020-12-23\n",
      "2020-12-24\n",
      "2020-12-25\n",
      "2020-12-26\n",
      "2020-12-27\n",
      "2020-12-28\n",
      "2020-12-29\n",
      "2020-12-30\n",
      "2020-12-31\n",
      "2021-01-01\n",
      "2021-01-02\n",
      "2021-01-03\n",
      "2021-01-04\n",
      "2021-01-05\n",
      "2021-01-06\n",
      "2021-01-07\n",
      "2021-01-08\n",
      "2021-01-09\n",
      "2021-01-10\n",
      "2021-01-11\n",
      "2021-01-12\n",
      "2021-01-13\n",
      "2021-01-14\n",
      "2021-01-15\n",
      "2021-01-16\n",
      "2021-01-17\n",
      "2021-01-18\n"
     ]
    }
   ],
   "source": [
    "start_date = datetime.date(2020, 12, 18)\n",
    "end_date = datetime.date(2021, 1, 18)\n",
    "delta = datetime.timedelta(days=1)\n",
    "articles=[]\n",
    "while start_date <= end_date:\n",
    "    print(start_date)\n",
    "    gnews_api = os.environ[\"gnews_api\"]\n",
    "    gnews_url =f\"https://gnews.io/api/v4/search?q=bitcoin&in=cryptocurrency&from={start_date}T00:01:36Z&to={start_date}T23:59:36Z&lang=en&token={gnews_api}\"\n",
    "    response = requests.get(gnews_url)\n",
    "    data = response.json()\n",
    "    articles.append(data)\n",
    "    start_date += delta\n",
    "    time.sleep(4)"
   ]
  },
  {
   "cell_type": "code",
   "execution_count": 46,
   "metadata": {},
   "outputs": [],
   "source": [
    "with open('articles_1.txt', 'w') as outfile:\n",
    "    json.dump(articles, outfile)"
   ]
  },
  {
   "cell_type": "code",
   "execution_count": 54,
   "metadata": {},
   "outputs": [],
   "source": [
    "df = pd.DataFrame({\"Publish Date\": [], \"title\": [], \"description\": [], \"text\": []})\n",
    "for x in articles:\n",
    "    for article in x['articles']:\n",
    "        df = df.append({'Publish Date':article[\"publishedAt\"],\n",
    "                     'title': article[\"title\"], \n",
    "                     'description': article[\"description\"], \n",
    "                     'text': article[\"content\"]}, \n",
    "                     ignore_index=True)"
   ]
  },
  {
   "cell_type": "code",
   "execution_count": 70,
   "metadata": {},
   "outputs": [],
   "source": [
    "df['Publish Date']=pd.to_datetime(df['Publish Date'], infer_datetime_format=True).dt.date\n",
    "df[\"All Text\"]= df['title'] + \" \" + df['description'] + \" \" + df['text']\n",
    "bitcoin_news= df.groupby(by=\"Publish Date\").sum()"
   ]
  },
  {
   "cell_type": "code",
   "execution_count": null,
   "metadata": {},
   "outputs": [],
   "source": [
    "import re\n",
    "import nltk\n",
    "from nltk.corpus import stopwords, reuters\n",
    "from nltk.tokenize import word_tokenize\n",
    "from nltk.stem import WordNetLemmatizer"
   ]
  },
  {
   "cell_type": "code",
   "execution_count": null,
   "metadata": {},
   "outputs": [],
   "source": [
    "nltk.download('reuters')\n",
    "nltk.download('wordnet')\n",
    "nltk.download('stopwords')\n",
    "nltk.download('punkt')\n",
    "\n",
    "lemmatizer = WordNetLemmatizer()"
   ]
  },
  {
   "cell_type": "code",
   "execution_count": 100,
   "metadata": {},
   "outputs": [],
   "source": [
    "# Import the libraries for sentiment scoring using Vader\n",
    "from nltk.sentiment.vader import SentimentIntensityAnalyzer"
   ]
  },
  {
   "cell_type": "code",
   "execution_count": 101,
   "metadata": {},
   "outputs": [
    {
     "output_type": "stream",
     "name": "stderr",
     "text": [
      "[nltk_data] Downloading package vader_lexicon to\n[nltk_data]     /Users/alhamduliallah/nltk_data...\n[nltk_data]   Package vader_lexicon is already up-to-date!\n"
     ]
    },
    {
     "output_type": "execute_result",
     "data": {
      "text/plain": [
       "True"
      ]
     },
     "metadata": {},
     "execution_count": 101
    }
   ],
   "source": [
    "# Download/Update the VADER Lexicon\n",
    "nltk.download('vader_lexicon')"
   ]
  },
  {
   "cell_type": "code",
   "execution_count": 102,
   "metadata": {},
   "outputs": [],
   "source": [
    "# Initialize the VADER sentiment analyzer\n",
    "analyzer = SentimentIntensityAnalyzer()"
   ]
  },
  {
   "cell_type": "code",
   "execution_count": 103,
   "metadata": {},
   "outputs": [],
   "source": [
    "# Define two lists to store vader sentiment scoring\n",
    "y_vader_pred = []\n",
    "y_vader_prob = []"
   ]
  },
  {
   "cell_type": "code",
   "execution_count": 106,
   "metadata": {},
   "outputs": [],
   "source": [
    "# Score sentiment of test set using Vader\n",
    "for comment in bitcoin_news[\"All Text\"]:\n",
    "    y_vader_prob.append(analyzer.polarity_scores(comment)[\"pos\"])\n",
    "    sentiment_score = analyzer.polarity_scores(comment)[\"compound\"]\n",
    "    if sentiment_score >= 0.1:\n",
    "        y_vader_pred.append(1)\n",
    "    else:\n",
    "        y_vader_pred.append(0)"
   ]
  },
  {
   "cell_type": "code",
   "execution_count": 114,
   "metadata": {},
   "outputs": [
    {
     "output_type": "execute_result",
     "data": {
      "text/plain": [
       "                                                       All Text  \\\n",
       "Publish Date                                                      \n",
       "2020-12-18    How to invest in bitcoin: The major ways to bu...   \n",
       "2020-12-19    How will Bitcoin shift the power in the coffee...   \n",
       "2020-12-20    Tesla's Elon Musk asks about converting \"large...   \n",
       "2020-12-21    Ripple to face SEC suit over XRP cryptocurrenc...   \n",
       "2020-12-22    SEC Sues Ripple Over XRP Cryptocurrency The ag...   \n",
       "\n",
       "              Sentiment Score  Polarity Score  \n",
       "Publish Date                                   \n",
       "2020-12-18                  1           0.092  \n",
       "2020-12-19                  0           0.049  \n",
       "2020-12-20                  1           0.050  \n",
       "2020-12-21                  1           0.056  \n",
       "2020-12-22                  1           0.075  "
      ],
      "text/html": "<div>\n<style scoped>\n    .dataframe tbody tr th:only-of-type {\n        vertical-align: middle;\n    }\n\n    .dataframe tbody tr th {\n        vertical-align: top;\n    }\n\n    .dataframe thead th {\n        text-align: right;\n    }\n</style>\n<table border=\"1\" class=\"dataframe\">\n  <thead>\n    <tr style=\"text-align: right;\">\n      <th></th>\n      <th>All Text</th>\n      <th>Sentiment Score</th>\n      <th>Polarity Score</th>\n    </tr>\n    <tr>\n      <th>Publish Date</th>\n      <th></th>\n      <th></th>\n      <th></th>\n    </tr>\n  </thead>\n  <tbody>\n    <tr>\n      <th>2020-12-18</th>\n      <td>How to invest in bitcoin: The major ways to bu...</td>\n      <td>1</td>\n      <td>0.092</td>\n    </tr>\n    <tr>\n      <th>2020-12-19</th>\n      <td>How will Bitcoin shift the power in the coffee...</td>\n      <td>0</td>\n      <td>0.049</td>\n    </tr>\n    <tr>\n      <th>2020-12-20</th>\n      <td>Tesla's Elon Musk asks about converting \"large...</td>\n      <td>1</td>\n      <td>0.050</td>\n    </tr>\n    <tr>\n      <th>2020-12-21</th>\n      <td>Ripple to face SEC suit over XRP cryptocurrenc...</td>\n      <td>1</td>\n      <td>0.056</td>\n    </tr>\n    <tr>\n      <th>2020-12-22</th>\n      <td>SEC Sues Ripple Over XRP Cryptocurrency The ag...</td>\n      <td>1</td>\n      <td>0.075</td>\n    </tr>\n  </tbody>\n</table>\n</div>"
     },
     "metadata": {},
     "execution_count": 114
    }
   ],
   "source": [
    "bitcoin_sentiment = bitcoin_news.drop([\"title\", \"description\", \"Title & Description\", \"text\"], axis=1)\n",
    "bitcoin_sentiment[\"Sentiment Score\"]=y_vader_pred\n",
    "bitcoin_sentiment[\"Polarity Score\"]=y_vader_prob\n",
    "bitcoin_sentiment.head()"
   ]
  },
  {
   "cell_type": "code",
   "execution_count": null,
   "metadata": {},
   "outputs": [],
   "source": [
    "# Need to clean text, text was not cleaned prior to getting scores! So clean before rescoring."
   ]
  }
 ]
}
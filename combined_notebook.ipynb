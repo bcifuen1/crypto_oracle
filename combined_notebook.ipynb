{
 "cells": [
  {
   "cell_type": "code",
   "execution_count": 5,
   "metadata": {},
   "outputs": [],
   "source": [
    "# Import all necessary libraries\n",
    "import os\n",
    "import json\n",
    "import time\n",
    "import datetime\n",
    "import requests\n",
    "from dotenv import load_dotenv\n",
    "\n",
    "import numpy as np\n",
    "import pandas as pd\n",
    "import hvplot.pandas\n",
    "from pathlib import Path"
   ]
  },
  {
   "cell_type": "markdown",
   "metadata": {},
   "source": [
    "\n",
    "\n",
    "# **Data Collection & Cleaning**\n",
    "\n",
    "1. Bitcoin articles collection and analysis\n",
    "2. Bitcoin historical prices collection and manipulation\n",
    "3. Analyze tones in Bitcoin articles\n",
    "\n"
   ]
  },
  {
   "cell_type": "code",
   "execution_count": 2,
   "metadata": {},
   "outputs": [
    {
     "data": {
      "text/plain": [
       "True"
      ]
     },
     "execution_count": 2,
     "metadata": {},
     "output_type": "execute_result"
    }
   ],
   "source": [
    "load_dotenv()"
   ]
  },
  {
   "cell_type": "markdown",
   "metadata": {},
   "source": [
    "## 1.1 Bitcoin Articles\n",
    "\n",
    "Collect Bitcoin articles using GNews API\n"
   ]
  },
  {
   "cell_type": "code",
   "execution_count": 6,
   "metadata": {},
   "outputs": [
    {
     "ename": "KeyError",
     "evalue": "'gnews_api'",
     "output_type": "error",
     "traceback": [
      "\u001b[1;31m---------------------------------------------------------------------------\u001b[0m",
      "\u001b[1;31mKeyError\u001b[0m                                  Traceback (most recent call last)",
      "\u001b[1;32m<ipython-input-6-f27f6d045380>\u001b[0m in \u001b[0;36m<module>\u001b[1;34m\u001b[0m\n\u001b[0;32m      8\u001b[0m \u001b[1;33m\u001b[0m\u001b[0m\n\u001b[0;32m      9\u001b[0m     \u001b[1;31m# print(start_date)\u001b[0m\u001b[1;33m\u001b[0m\u001b[1;33m\u001b[0m\u001b[1;33m\u001b[0m\u001b[0m\n\u001b[1;32m---> 10\u001b[1;33m     \u001b[0mgnews_api\u001b[0m \u001b[1;33m=\u001b[0m \u001b[0mos\u001b[0m\u001b[1;33m.\u001b[0m\u001b[0menviron\u001b[0m\u001b[1;33m[\u001b[0m\u001b[1;34m\"gnews_api\"\u001b[0m\u001b[1;33m]\u001b[0m\u001b[1;33m\u001b[0m\u001b[1;33m\u001b[0m\u001b[0m\n\u001b[0m\u001b[0;32m     11\u001b[0m     \u001b[0mgnews_url\u001b[0m \u001b[1;33m=\u001b[0m\u001b[1;34mf\"https://gnews.io/api/v4/search?q=bitcoin&in=cryptocurrency&from={start_date}T00:01:36Z&to={start_date}T23:59:36Z&lang=en&token={gnews_api}\"\u001b[0m\u001b[1;33m\u001b[0m\u001b[1;33m\u001b[0m\u001b[0m\n\u001b[0;32m     12\u001b[0m     \u001b[0mresponse\u001b[0m \u001b[1;33m=\u001b[0m \u001b[0mrequests\u001b[0m\u001b[1;33m.\u001b[0m\u001b[0mget\u001b[0m\u001b[1;33m(\u001b[0m\u001b[0mgnews_url\u001b[0m\u001b[1;33m)\u001b[0m\u001b[1;33m\u001b[0m\u001b[1;33m\u001b[0m\u001b[0m\n",
      "\u001b[1;32m~\\anaconda3\\envs\\pyvizenv\\lib\\os.py\u001b[0m in \u001b[0;36m__getitem__\u001b[1;34m(self, key)\u001b[0m\n\u001b[0;32m    679\u001b[0m         \u001b[1;32mexcept\u001b[0m \u001b[0mKeyError\u001b[0m\u001b[1;33m:\u001b[0m\u001b[1;33m\u001b[0m\u001b[1;33m\u001b[0m\u001b[0m\n\u001b[0;32m    680\u001b[0m             \u001b[1;31m# raise KeyError with the original key value\u001b[0m\u001b[1;33m\u001b[0m\u001b[1;33m\u001b[0m\u001b[1;33m\u001b[0m\u001b[0m\n\u001b[1;32m--> 681\u001b[1;33m             \u001b[1;32mraise\u001b[0m \u001b[0mKeyError\u001b[0m\u001b[1;33m(\u001b[0m\u001b[0mkey\u001b[0m\u001b[1;33m)\u001b[0m \u001b[1;32mfrom\u001b[0m \u001b[1;32mNone\u001b[0m\u001b[1;33m\u001b[0m\u001b[1;33m\u001b[0m\u001b[0m\n\u001b[0m\u001b[0;32m    682\u001b[0m         \u001b[1;32mreturn\u001b[0m \u001b[0mself\u001b[0m\u001b[1;33m.\u001b[0m\u001b[0mdecodevalue\u001b[0m\u001b[1;33m(\u001b[0m\u001b[0mvalue\u001b[0m\u001b[1;33m)\u001b[0m\u001b[1;33m\u001b[0m\u001b[1;33m\u001b[0m\u001b[0m\n\u001b[0;32m    683\u001b[0m \u001b[1;33m\u001b[0m\u001b[0m\n",
      "\u001b[1;31mKeyError\u001b[0m: 'gnews_api'"
     ]
    }
   ],
   "source": [
    "# Use while-loop to iterate through a range of dates in a url to pull articles from each day\n",
    "start_date = datetime.date(2020, 12, 18)\n",
    "end_date = datetime.date(2021, 1, 18)\n",
    "delta = datetime.timedelta(days=1)\n",
    "articles = []\n",
    "while start_date <= end_date:\n",
    "    \n",
    "    # Print(start_date)\n",
    "    gnews_api = os.environ[\"gnews_api\"]\n",
    "    gnews_url = f\"https://gnews.io/api/v4/search?q=bitcoin&in=cryptocurrency&from={start_date}T00:01:36Z&to={start_date}T23:59:36Z&lang=en&token={gnews_api}\"\n",
    "    response = requests.get(gnews_url)\n",
    "    data = response.json()\n",
    "    articles.append(data)\n",
    "    start_date += delta\n",
    "    \n",
    "    # Use time.sleep to pause the loop every 4 seconds due api restrictions, api only allows a request for every 3 seconds\n",
    "    time.sleep(4)"
   ]
  },
  {
   "cell_type": "code",
   "execution_count": 3,
   "metadata": {},
   "outputs": [
    {
     "ename": "AttributeError",
     "evalue": "module 'pandas' has no attribute 'json_normalize'",
     "output_type": "error",
     "traceback": [
      "\u001b[1;31m---------------------------------------------------------------------------\u001b[0m",
      "\u001b[1;31mAttributeError\u001b[0m                            Traceback (most recent call last)",
      "\u001b[1;32m<ipython-input-3-55556ecf5fac>\u001b[0m in \u001b[0;36m<module>\u001b[1;34m\u001b[0m\n\u001b[0;32m      1\u001b[0m \u001b[1;31m# convert json to dataframe pulling only \"publishAt\", \"title\", \"description\", and \"content\"\u001b[0m\u001b[1;33m\u001b[0m\u001b[1;33m\u001b[0m\u001b[1;33m\u001b[0m\u001b[0m\n\u001b[0;32m      2\u001b[0m \u001b[1;33m\u001b[0m\u001b[0m\n\u001b[1;32m----> 3\u001b[1;33m \u001b[0marticles_df\u001b[0m \u001b[1;33m=\u001b[0m \u001b[0mpd\u001b[0m\u001b[1;33m.\u001b[0m\u001b[0mjson_normalize\u001b[0m\u001b[1;33m(\u001b[0m\u001b[0marticles\u001b[0m\u001b[1;33m,\u001b[0m \u001b[0mrecord_path\u001b[0m\u001b[1;33m=\u001b[0m\u001b[1;33m[\u001b[0m\u001b[1;34m'articles'\u001b[0m\u001b[1;33m]\u001b[0m\u001b[1;33m,\u001b[0m \u001b[0mmeta\u001b[0m\u001b[1;33m=\u001b[0m\u001b[1;34m'totalArticles'\u001b[0m\u001b[1;33m)\u001b[0m\u001b[1;33m\u001b[0m\u001b[1;33m\u001b[0m\u001b[0m\n\u001b[0m\u001b[0;32m      4\u001b[0m \u001b[0marticles_df\u001b[0m\u001b[1;33m[\u001b[0m\u001b[1;34m'title&description'\u001b[0m\u001b[1;33m]\u001b[0m\u001b[1;33m=\u001b[0m \u001b[0marticles_df\u001b[0m\u001b[1;33m[\u001b[0m\u001b[1;34m'title'\u001b[0m\u001b[1;33m]\u001b[0m\u001b[1;33m+\u001b[0m \u001b[1;34m\" \"\u001b[0m \u001b[1;33m+\u001b[0m\u001b[0marticles_df\u001b[0m\u001b[1;33m[\u001b[0m\u001b[1;34m'description'\u001b[0m\u001b[1;33m]\u001b[0m\u001b[1;33m\u001b[0m\u001b[1;33m\u001b[0m\u001b[0m\n\u001b[0;32m      5\u001b[0m \u001b[0marticles_df\u001b[0m \u001b[1;33m=\u001b[0m \u001b[0marticles_df\u001b[0m\u001b[1;33m[\u001b[0m\u001b[1;33m[\u001b[0m\u001b[1;34m'publishedAt'\u001b[0m\u001b[1;33m,\u001b[0m \u001b[1;34m'title&description'\u001b[0m\u001b[1;33m,\u001b[0m \u001b[1;34m'totalArticles'\u001b[0m\u001b[1;33m]\u001b[0m\u001b[1;33m]\u001b[0m\u001b[1;33m\u001b[0m\u001b[1;33m\u001b[0m\u001b[0m\n",
      "\u001b[1;31mAttributeError\u001b[0m: module 'pandas' has no attribute 'json_normalize'"
     ]
    }
   ],
   "source": [
    "# Convert json to dataframe pulling only \"publishAt\", \"title\", \"description\", and \"content\"\n",
    "articles_df = pd.json_normalize(articles, record_path=['articles'], meta='totalArticles')\n",
    "articles_df['title&description'] = articles_df['title'] + \" \" + articles_df['description']\n",
    "articles_df = articles_df[['publishedAt', 'title&description', 'totalArticles']]\n",
    "articles_df.rename(columns={'publishedAt':'date'}, inplace=True)\n",
    "articles_df.head()"
   ]
  },
  {
   "cell_type": "code",
   "execution_count": 3,
   "metadata": {},
   "outputs": [
    {
     "ename": "NameError",
     "evalue": "name 'articles_df' is not defined",
     "output_type": "error",
     "traceback": [
      "\u001b[1;31m---------------------------------------------------------------------------\u001b[0m",
      "\u001b[1;31mNameError\u001b[0m                                 Traceback (most recent call last)",
      "\u001b[1;32m<ipython-input-3-45a17fdd3fbb>\u001b[0m in \u001b[0;36m<module>\u001b[1;34m\u001b[0m\n\u001b[0;32m      1\u001b[0m \u001b[1;31m# clean dataframe and add a column that is composed of \"title\" and \"description\". Also group dataframe by \"publish date\"\u001b[0m\u001b[1;33m\u001b[0m\u001b[1;33m\u001b[0m\u001b[1;33m\u001b[0m\u001b[0m\n\u001b[1;32m----> 2\u001b[1;33m \u001b[0marticles_df\u001b[0m\u001b[1;33m[\u001b[0m\u001b[1;34m'date'\u001b[0m\u001b[1;33m]\u001b[0m\u001b[1;33m=\u001b[0m\u001b[0mpd\u001b[0m\u001b[1;33m.\u001b[0m\u001b[0mto_datetime\u001b[0m\u001b[1;33m(\u001b[0m\u001b[0marticles_df\u001b[0m\u001b[1;33m[\u001b[0m\u001b[1;34m'date'\u001b[0m\u001b[1;33m]\u001b[0m\u001b[1;33m,\u001b[0m \u001b[0minfer_datetime_format\u001b[0m\u001b[1;33m=\u001b[0m\u001b[1;32mTrue\u001b[0m\u001b[1;33m)\u001b[0m\u001b[1;33m.\u001b[0m\u001b[0mdt\u001b[0m\u001b[1;33m.\u001b[0m\u001b[0mdate\u001b[0m\u001b[1;33m\u001b[0m\u001b[1;33m\u001b[0m\u001b[0m\n\u001b[0m\u001b[0;32m      3\u001b[0m \u001b[0mbitcoin_articles\u001b[0m\u001b[1;33m=\u001b[0m \u001b[0marticles_df\u001b[0m\u001b[1;33m.\u001b[0m\u001b[0mgroupby\u001b[0m\u001b[1;33m(\u001b[0m\u001b[0mby\u001b[0m\u001b[1;33m=\u001b[0m\u001b[1;33m[\u001b[0m\u001b[1;34m\"date\"\u001b[0m\u001b[1;33m,\u001b[0m\u001b[1;34m'totalArticles'\u001b[0m\u001b[1;33m]\u001b[0m\u001b[1;33m)\u001b[0m\u001b[1;33m.\u001b[0m\u001b[0msum\u001b[0m\u001b[1;33m(\u001b[0m\u001b[1;33m)\u001b[0m\u001b[1;33m\u001b[0m\u001b[1;33m\u001b[0m\u001b[0m\n\u001b[0;32m      4\u001b[0m \u001b[0mbitcoin_articles\u001b[0m\u001b[1;33m.\u001b[0m\u001b[0mhead\u001b[0m\u001b[1;33m(\u001b[0m\u001b[1;33m)\u001b[0m\u001b[1;33m\u001b[0m\u001b[1;33m\u001b[0m\u001b[0m\n",
      "\u001b[1;31mNameError\u001b[0m: name 'articles_df' is not defined"
     ]
    }
   ],
   "source": [
    "# Clean dataframe and add a column that is composed of \"title\" and \"description\"\n",
    "articles_df['date'] = pd.to_datetime(articles_df['date'], infer_datetime_format=True).dt.date\n",
    "\n",
    "# Group dataframe by \"publish date\"\n",
    "bitcoin_articles = articles_df.groupby(by=[\"date\",'totalArticles']).sum()\n",
    "bitcoin_articles.head()"
   ]
  },
  {
   "cell_type": "markdown",
   "metadata": {},
   "source": [
    "## 1.2. Bitcoin Articles\n",
    "\n",
    "Analyze Bitcoin articles using SentimentIntensityAnalyzer"
   ]
  },
  {
   "cell_type": "code",
   "execution_count": 7,
   "metadata": {},
   "outputs": [
    {
     "name": "stderr",
     "output_type": "stream",
     "text": [
      "[nltk_data] Downloading package vader_lexicon to\n",
      "[nltk_data]     /Users/alhamduliallah/nltk_data...\n",
      "[nltk_data]   Package vader_lexicon is already up-to-date!\n"
     ]
    },
    {
     "data": {
      "text/plain": [
       "True"
      ]
     },
     "execution_count": 7,
     "metadata": {},
     "output_type": "execute_result"
    }
   ],
   "source": [
    "# Import the libraries for sentiment scoring using Vader\n",
    "import nltk\n",
    "from nltk.sentiment.vader import SentimentIntensityAnalyzer\n",
    "\n",
    "# Initialize the VADER sentiment analyzer\n",
    "analyzer = SentimentIntensityAnalyzer()\n",
    "\n",
    "# Download/Update the VADER Lexicon\n",
    "nltk.download('vader_lexicon')"
   ]
  },
  {
   "cell_type": "code",
   "execution_count": 9,
   "metadata": {},
   "outputs": [],
   "source": [
    "# Define two lists to store vader sentiment scoring\n",
    "y_vader_pred = []\n",
    "y_vader_prob = []"
   ]
  },
  {
   "cell_type": "code",
   "execution_count": 10,
   "metadata": {},
   "outputs": [],
   "source": [
    "# Score sentiment of test set using Vader\n",
    "for text in bitcoin_articles[\"title&description\"]:\n",
    "    y_vader_prob.append(analyzer.polarity_scores(text)[\"pos\"])\n",
    "    sentiment_score = analyzer.polarity_scores(text)[\"compound\"]\n",
    "    if sentiment_score >= 0.1:\n",
    "        y_vader_pred.append(1)\n",
    "    else:\n",
    "        y_vader_pred.append(0)"
   ]
  },
  {
   "cell_type": "code",
   "execution_count": 19,
   "metadata": {},
   "outputs": [
    {
     "data": {
      "text/html": [
       "<div>\n",
       "<style scoped>\n",
       "    .dataframe tbody tr th:only-of-type {\n",
       "        vertical-align: middle;\n",
       "    }\n",
       "\n",
       "    .dataframe tbody tr th {\n",
       "        vertical-align: top;\n",
       "    }\n",
       "\n",
       "    .dataframe thead th {\n",
       "        text-align: right;\n",
       "    }\n",
       "</style>\n",
       "<table border=\"1\" class=\"dataframe\">\n",
       "  <thead>\n",
       "    <tr style=\"text-align: right;\">\n",
       "      <th></th>\n",
       "      <th></th>\n",
       "      <th>title&amp;description</th>\n",
       "      <th>Sentiment Score</th>\n",
       "    </tr>\n",
       "    <tr>\n",
       "      <th>date</th>\n",
       "      <th>totalArticles</th>\n",
       "      <th></th>\n",
       "      <th></th>\n",
       "    </tr>\n",
       "  </thead>\n",
       "  <tbody>\n",
       "    <tr>\n",
       "      <th>2020-12-18</th>\n",
       "      <th>18</th>\n",
       "      <td>How to invest in bitcoin: The major ways to bu...</td>\n",
       "      <td>1</td>\n",
       "    </tr>\n",
       "    <tr>\n",
       "      <th>2020-12-19</th>\n",
       "      <th>6</th>\n",
       "      <td>How will Bitcoin shift the power in the coffee...</td>\n",
       "      <td>1</td>\n",
       "    </tr>\n",
       "    <tr>\n",
       "      <th>2020-12-20</th>\n",
       "      <th>14</th>\n",
       "      <td>Tesla's Elon Musk asks about converting \"large...</td>\n",
       "      <td>1</td>\n",
       "    </tr>\n",
       "    <tr>\n",
       "      <th>2020-12-21</th>\n",
       "      <th>13</th>\n",
       "      <td>Ripple to face SEC suit over XRP cryptocurrenc...</td>\n",
       "      <td>0</td>\n",
       "    </tr>\n",
       "    <tr>\n",
       "      <th>2020-12-22</th>\n",
       "      <th>10</th>\n",
       "      <td>SEC Sues Ripple Over XRP Cryptocurrency The ag...</td>\n",
       "      <td>1</td>\n",
       "    </tr>\n",
       "  </tbody>\n",
       "</table>\n",
       "</div>"
      ],
      "text/plain": [
       "                                                          title&description  \\\n",
       "date       totalArticles                                                      \n",
       "2020-12-18 18             How to invest in bitcoin: The major ways to bu...   \n",
       "2020-12-19 6              How will Bitcoin shift the power in the coffee...   \n",
       "2020-12-20 14             Tesla's Elon Musk asks about converting \"large...   \n",
       "2020-12-21 13             Ripple to face SEC suit over XRP cryptocurrenc...   \n",
       "2020-12-22 10             SEC Sues Ripple Over XRP Cryptocurrency The ag...   \n",
       "\n",
       "                          Sentiment Score  \n",
       "date       totalArticles                   \n",
       "2020-12-18 18                           1  \n",
       "2020-12-19 6                            1  \n",
       "2020-12-20 14                           1  \n",
       "2020-12-21 13                           0  \n",
       "2020-12-22 10                           1  "
      ]
     },
     "execution_count": 19,
     "metadata": {},
     "output_type": "execute_result"
    }
   ],
   "source": [
    "# Add sentiment score to bitcoin_articles dataframe\n",
    "bitcoin_articles[\"Sentiment Score\"] = y_vader_pred\n",
    "bitcoin_articles.head()"
   ]
  },
  {
   "cell_type": "markdown",
   "metadata": {},
   "source": [
    "## 2.1. Bitcoin Historical Prices\n",
    "\n",
    "Collect Bitcoin historical prices data from Kraken"
   ]
  },
  {
   "cell_type": "code",
   "execution_count": 12,
   "metadata": {},
   "outputs": [],
   "source": [
    "# Import\n",
    "import ccxt\n",
    "\n",
    "# Get bitcoin historical prices from kraken\n",
    "kraken_public_key = os.getenv(\"KRAKEN_PUBLIC_KEY\")\n",
    "kraken_secret_key = os.getenv(\"KRAKEN_SECRET_KEY\")\n",
    "kraken = ccxt.kraken({\"apiKey\": kraken_public_key, \"secret\": kraken_secret_key})\n",
    "\n",
    "historical_prices = kraken.fetch_ohlcv(\"BTC/USD\",\"1d\")"
   ]
  },
  {
   "cell_type": "code",
   "execution_count": 13,
   "metadata": {},
   "outputs": [
    {
     "data": {
      "text/html": [
       "<div>\n",
       "<style scoped>\n",
       "    .dataframe tbody tr th:only-of-type {\n",
       "        vertical-align: middle;\n",
       "    }\n",
       "\n",
       "    .dataframe tbody tr th {\n",
       "        vertical-align: top;\n",
       "    }\n",
       "\n",
       "    .dataframe thead th {\n",
       "        text-align: right;\n",
       "    }\n",
       "</style>\n",
       "<table border=\"1\" class=\"dataframe\">\n",
       "  <thead>\n",
       "    <tr style=\"text-align: right;\">\n",
       "      <th></th>\n",
       "      <th>open</th>\n",
       "      <th>high</th>\n",
       "      <th>low</th>\n",
       "      <th>close</th>\n",
       "      <th>volume</th>\n",
       "    </tr>\n",
       "    <tr>\n",
       "      <th>date</th>\n",
       "      <th></th>\n",
       "      <th></th>\n",
       "      <th></th>\n",
       "      <th></th>\n",
       "      <th></th>\n",
       "    </tr>\n",
       "  </thead>\n",
       "  <tbody>\n",
       "    <tr>\n",
       "      <th>2019-02-04</th>\n",
       "      <td>3416.6</td>\n",
       "      <td>3437.8</td>\n",
       "      <td>3396.9</td>\n",
       "      <td>3413.9</td>\n",
       "      <td>1359.629904</td>\n",
       "    </tr>\n",
       "    <tr>\n",
       "      <th>2019-02-05</th>\n",
       "      <td>3411.0</td>\n",
       "      <td>3433.7</td>\n",
       "      <td>3397.8</td>\n",
       "      <td>3429.5</td>\n",
       "      <td>1429.386854</td>\n",
       "    </tr>\n",
       "    <tr>\n",
       "      <th>2019-02-06</th>\n",
       "      <td>3430.0</td>\n",
       "      <td>3445.0</td>\n",
       "      <td>3337.0</td>\n",
       "      <td>3367.4</td>\n",
       "      <td>2289.491212</td>\n",
       "    </tr>\n",
       "    <tr>\n",
       "      <th>2019-02-07</th>\n",
       "      <td>3367.2</td>\n",
       "      <td>3382.4</td>\n",
       "      <td>3348.1</td>\n",
       "      <td>3357.1</td>\n",
       "      <td>1512.883808</td>\n",
       "    </tr>\n",
       "    <tr>\n",
       "      <th>2019-02-08</th>\n",
       "      <td>3359.5</td>\n",
       "      <td>3704.9</td>\n",
       "      <td>3341.4</td>\n",
       "      <td>3622.1</td>\n",
       "      <td>4231.506468</td>\n",
       "    </tr>\n",
       "  </tbody>\n",
       "</table>\n",
       "</div>"
      ],
      "text/plain": [
       "              open    high     low   close       volume\n",
       "date                                                   \n",
       "2019-02-04  3416.6  3437.8  3396.9  3413.9  1359.629904\n",
       "2019-02-05  3411.0  3433.7  3397.8  3429.5  1429.386854\n",
       "2019-02-06  3430.0  3445.0  3337.0  3367.4  2289.491212\n",
       "2019-02-07  3367.2  3382.4  3348.1  3357.1  1512.883808\n",
       "2019-02-08  3359.5  3704.9  3341.4  3622.1  4231.506468"
      ]
     },
     "execution_count": 13,
     "metadata": {},
     "output_type": "execute_result"
    }
   ],
   "source": [
    "# Create a dataframe for historical prices\n",
    "historical_prices_df = pd.DataFrame(historical_prices, columns=[\"date\", \"open\", \"high\", \"low\", \"close\", \"volume\"])\n",
    "historical_prices_df[\"date\"] = pd.to_datetime(historical_prices_df[\"date\"], unit=\"ms\")\n",
    "historical_prices_df.set_index(\"date\",inplace=True)\n",
    "historical_prices_df.head()"
   ]
  },
  {
   "cell_type": "markdown",
   "metadata": {},
   "source": [
    "## 2.2. Bitcoin Historical Prices\n",
    "\n",
    "Analyzing Bitcoin historical prices using daily return, changes in volumn, and spread"
   ]
  },
  {
   "cell_type": "code",
   "execution_count": 14,
   "metadata": {},
   "outputs": [
    {
     "data": {
      "text/html": [
       "<div>\n",
       "<style scoped>\n",
       "    .dataframe tbody tr th:only-of-type {\n",
       "        vertical-align: middle;\n",
       "    }\n",
       "\n",
       "    .dataframe tbody tr th {\n",
       "        vertical-align: top;\n",
       "    }\n",
       "\n",
       "    .dataframe thead th {\n",
       "        text-align: right;\n",
       "    }\n",
       "</style>\n",
       "<table border=\"1\" class=\"dataframe\">\n",
       "  <thead>\n",
       "    <tr style=\"text-align: right;\">\n",
       "      <th></th>\n",
       "      <th>open</th>\n",
       "      <th>high</th>\n",
       "      <th>low</th>\n",
       "      <th>close</th>\n",
       "      <th>volume</th>\n",
       "      <th>daily_return</th>\n",
       "      <th>volume change</th>\n",
       "      <th>spread</th>\n",
       "    </tr>\n",
       "    <tr>\n",
       "      <th>date</th>\n",
       "      <th></th>\n",
       "      <th></th>\n",
       "      <th></th>\n",
       "      <th></th>\n",
       "      <th></th>\n",
       "      <th></th>\n",
       "      <th></th>\n",
       "      <th></th>\n",
       "    </tr>\n",
       "  </thead>\n",
       "  <tbody>\n",
       "    <tr>\n",
       "      <th>2021-01-19</th>\n",
       "      <td>36622.5</td>\n",
       "      <td>37860.0</td>\n",
       "      <td>35900.0</td>\n",
       "      <td>35925.6</td>\n",
       "      <td>6298.676377</td>\n",
       "      <td>-0.019029</td>\n",
       "      <td>-0.156197</td>\n",
       "      <td>0.053519</td>\n",
       "    </tr>\n",
       "    <tr>\n",
       "      <th>2021-01-20</th>\n",
       "      <td>35925.5</td>\n",
       "      <td>36396.7</td>\n",
       "      <td>33374.0</td>\n",
       "      <td>35511.8</td>\n",
       "      <td>9170.190746</td>\n",
       "      <td>-0.011518</td>\n",
       "      <td>0.455892</td>\n",
       "      <td>0.084138</td>\n",
       "    </tr>\n",
       "    <tr>\n",
       "      <th>2021-01-21</th>\n",
       "      <td>35511.8</td>\n",
       "      <td>35614.1</td>\n",
       "      <td>30056.1</td>\n",
       "      <td>30832.6</td>\n",
       "      <td>19513.432956</td>\n",
       "      <td>-0.131765</td>\n",
       "      <td>1.127920</td>\n",
       "      <td>0.156511</td>\n",
       "    </tr>\n",
       "    <tr>\n",
       "      <th>2021-01-22</th>\n",
       "      <td>30832.5</td>\n",
       "      <td>33850.0</td>\n",
       "      <td>28800.0</td>\n",
       "      <td>33000.0</td>\n",
       "      <td>15251.549792</td>\n",
       "      <td>0.070296</td>\n",
       "      <td>-0.218408</td>\n",
       "      <td>0.163788</td>\n",
       "    </tr>\n",
       "    <tr>\n",
       "      <th>2021-01-23</th>\n",
       "      <td>33000.1</td>\n",
       "      <td>33496.4</td>\n",
       "      <td>31350.0</td>\n",
       "      <td>32069.4</td>\n",
       "      <td>4710.182129</td>\n",
       "      <td>-0.028200</td>\n",
       "      <td>-0.691167</td>\n",
       "      <td>0.065042</td>\n",
       "    </tr>\n",
       "  </tbody>\n",
       "</table>\n",
       "</div>"
      ],
      "text/plain": [
       "               open     high      low    close        volume  daily_return  \\\n",
       "date                                                                         \n",
       "2021-01-19  36622.5  37860.0  35900.0  35925.6   6298.676377     -0.019029   \n",
       "2021-01-20  35925.5  36396.7  33374.0  35511.8   9170.190746     -0.011518   \n",
       "2021-01-21  35511.8  35614.1  30056.1  30832.6  19513.432956     -0.131765   \n",
       "2021-01-22  30832.5  33850.0  28800.0  33000.0  15251.549792      0.070296   \n",
       "2021-01-23  33000.1  33496.4  31350.0  32069.4   4710.182129     -0.028200   \n",
       "\n",
       "            volume change    spread  \n",
       "date                                 \n",
       "2021-01-19      -0.156197  0.053519  \n",
       "2021-01-20       0.455892  0.084138  \n",
       "2021-01-21       1.127920  0.156511  \n",
       "2021-01-22      -0.218408  0.163788  \n",
       "2021-01-23      -0.691167  0.065042  "
      ]
     },
     "execution_count": 14,
     "metadata": {},
     "output_type": "execute_result"
    }
   ],
   "source": [
    "# Drop NAs and calculate daily percent return\n",
    "historical_prices_df['daily_return'] = historical_prices_df['close'].dropna().pct_change()\n",
    "historical_prices_df['volume change'] = historical_prices_df['volume'].pct_change().shift(-1)\n",
    "historical_prices_df['spread'] = (historical_prices_df['high'] - historical_prices_df['low']) / historical_prices_df['open']\n",
    "historical_prices_df.head()"
   ]
  },
  {
   "cell_type": "code",
   "execution_count": 20,
   "metadata": {},
   "outputs": [
    {
     "data": {
      "text/html": [
       "<div>\n",
       "<style scoped>\n",
       "    .dataframe tbody tr th:only-of-type {\n",
       "        vertical-align: middle;\n",
       "    }\n",
       "\n",
       "    .dataframe tbody tr th {\n",
       "        vertical-align: top;\n",
       "    }\n",
       "\n",
       "    .dataframe thead th {\n",
       "        text-align: right;\n",
       "    }\n",
       "</style>\n",
       "<table border=\"1\" class=\"dataframe\">\n",
       "  <thead>\n",
       "    <tr style=\"text-align: right;\">\n",
       "      <th></th>\n",
       "      <th></th>\n",
       "      <th>title&amp;description</th>\n",
       "      <th>Sentiment Score</th>\n",
       "      <th>open</th>\n",
       "      <th>high</th>\n",
       "      <th>low</th>\n",
       "      <th>close</th>\n",
       "      <th>volume</th>\n",
       "      <th>daily_return</th>\n",
       "      <th>volume change</th>\n",
       "      <th>spread</th>\n",
       "    </tr>\n",
       "    <tr>\n",
       "      <th>date</th>\n",
       "      <th>totalArticles</th>\n",
       "      <th></th>\n",
       "      <th></th>\n",
       "      <th></th>\n",
       "      <th></th>\n",
       "      <th></th>\n",
       "      <th></th>\n",
       "      <th></th>\n",
       "      <th></th>\n",
       "      <th></th>\n",
       "      <th></th>\n",
       "    </tr>\n",
       "  </thead>\n",
       "  <tbody>\n",
       "    <tr>\n",
       "      <th>2020-12-18</th>\n",
       "      <th>18</th>\n",
       "      <td>How to invest in bitcoin: The major ways to bu...</td>\n",
       "      <td>1</td>\n",
       "      <td>22811.8</td>\n",
       "      <td>23317.1</td>\n",
       "      <td>22308.2</td>\n",
       "      <td>23130.5</td>\n",
       "      <td>6050.937552</td>\n",
       "      <td>0.013331</td>\n",
       "      <td>-0.681420</td>\n",
       "      <td>0.044227</td>\n",
       "    </tr>\n",
       "    <tr>\n",
       "      <th>2020-12-19</th>\n",
       "      <th>6</th>\n",
       "      <td>How will Bitcoin shift the power in the coffee...</td>\n",
       "      <td>1</td>\n",
       "      <td>23132.8</td>\n",
       "      <td>24288.2</td>\n",
       "      <td>22800.0</td>\n",
       "      <td>23871.5</td>\n",
       "      <td>6255.127803</td>\n",
       "      <td>0.032036</td>\n",
       "      <td>0.033745</td>\n",
       "      <td>0.064333</td>\n",
       "    </tr>\n",
       "    <tr>\n",
       "      <th>2020-12-20</th>\n",
       "      <th>14</th>\n",
       "      <td>Tesla's Elon Musk asks about converting \"large...</td>\n",
       "      <td>1</td>\n",
       "      <td>23871.5</td>\n",
       "      <td>24297.7</td>\n",
       "      <td>23084.9</td>\n",
       "      <td>23480.7</td>\n",
       "      <td>5876.100372</td>\n",
       "      <td>-0.016371</td>\n",
       "      <td>-0.060595</td>\n",
       "      <td>0.050805</td>\n",
       "    </tr>\n",
       "    <tr>\n",
       "      <th>2020-12-21</th>\n",
       "      <th>13</th>\n",
       "      <td>Ripple to face SEC suit over XRP cryptocurrenc...</td>\n",
       "      <td>0</td>\n",
       "      <td>23480.8</td>\n",
       "      <td>24090.0</td>\n",
       "      <td>21885.6</td>\n",
       "      <td>22716.1</td>\n",
       "      <td>10783.182650</td>\n",
       "      <td>-0.032563</td>\n",
       "      <td>0.835092</td>\n",
       "      <td>0.093881</td>\n",
       "    </tr>\n",
       "    <tr>\n",
       "      <th>2020-12-22</th>\n",
       "      <th>10</th>\n",
       "      <td>SEC Sues Ripple Over XRP Cryptocurrency The ag...</td>\n",
       "      <td>1</td>\n",
       "      <td>22724.6</td>\n",
       "      <td>23837.0</td>\n",
       "      <td>22354.2</td>\n",
       "      <td>23828.2</td>\n",
       "      <td>5728.007668</td>\n",
       "      <td>0.048956</td>\n",
       "      <td>-0.468802</td>\n",
       "      <td>0.065251</td>\n",
       "    </tr>\n",
       "  </tbody>\n",
       "</table>\n",
       "</div>"
      ],
      "text/plain": [
       "                                                          title&description  \\\n",
       "date       totalArticles                                                      \n",
       "2020-12-18 18             How to invest in bitcoin: The major ways to bu...   \n",
       "2020-12-19 6              How will Bitcoin shift the power in the coffee...   \n",
       "2020-12-20 14             Tesla's Elon Musk asks about converting \"large...   \n",
       "2020-12-21 13             Ripple to face SEC suit over XRP cryptocurrenc...   \n",
       "2020-12-22 10             SEC Sues Ripple Over XRP Cryptocurrency The ag...   \n",
       "\n",
       "                          Sentiment Score     open     high      low    close  \\\n",
       "date       totalArticles                                                        \n",
       "2020-12-18 18                           1  22811.8  23317.1  22308.2  23130.5   \n",
       "2020-12-19 6                            1  23132.8  24288.2  22800.0  23871.5   \n",
       "2020-12-20 14                           1  23871.5  24297.7  23084.9  23480.7   \n",
       "2020-12-21 13                           0  23480.8  24090.0  21885.6  22716.1   \n",
       "2020-12-22 10                           1  22724.6  23837.0  22354.2  23828.2   \n",
       "\n",
       "                                volume  daily_return  volume change    spread  \n",
       "date       totalArticles                                                       \n",
       "2020-12-18 18              6050.937552      0.013331      -0.681420  0.044227  \n",
       "2020-12-19 6               6255.127803      0.032036       0.033745  0.064333  \n",
       "2020-12-20 14              5876.100372     -0.016371      -0.060595  0.050805  \n",
       "2020-12-21 13             10783.182650     -0.032563       0.835092  0.093881  \n",
       "2020-12-22 10              5728.007668      0.048956      -0.468802  0.065251  "
      ]
     },
     "execution_count": 20,
     "metadata": {},
     "output_type": "execute_result"
    }
   ],
   "source": [
    "# Combine bitcoin sentiment dataframe with historical prices dataframe\n",
    "combined_df = bitcoin_articles.join(historical_prices_df)\n",
    "combined_df['articles'] = combined_df['articles'].shift(-1)\n",
    "combined_df.head()"
   ]
  },
  {
   "cell_type": "code",
   "execution_count": 21,
   "metadata": {},
   "outputs": [],
   "source": [
    "# Import\n",
    "from ibm_watson import ToneAnalyzerV3\n",
    "from ibm_cloud_sdk_core.authenticators import IAMAuthenticator\n",
    "\n",
    "# Analyzing tones of bitcoin articles with ibm_watson tone analyzer SDK\n",
    "ibm_key = os.getenv(\"ibm_key\")\n",
    "authenticator = IAMAuthenticator(ibm_key)\n",
    "tone_analyzer = ToneAnalyzerV3(\n",
    "    version = '2017-09-21',\n",
    "    authenticator = authenticator\n",
    ")\n",
    "\n",
    "tone_analyzer.set_service_url('https://api.us-east.tone-analyzer.watson.cloud.ibm.com')\n",
    "tone_analyzer.set_disable_ssl_verification(True)"
   ]
  },
  {
   "cell_type": "code",
   "execution_count": 22,
   "metadata": {},
   "outputs": [],
   "source": [
    "# Initialize a list of all tones analyzed\n",
    "tone_analyzed = []\n",
    "for text in combined_df[\"title&description\"]:\n",
    "    tone_analysis = tone_analyzer.tone(\n",
    "    {'text': text},\n",
    "    content_type = 'application/json').get_result()\n",
    "    tone_analyzed.append(tone_analysis)"
   ]
  },
  {
   "cell_type": "code",
   "execution_count": 23,
   "metadata": {},
   "outputs": [
    {
     "data": {
      "text/html": [
       "<div>\n",
       "<style scoped>\n",
       "    .dataframe tbody tr th:only-of-type {\n",
       "        vertical-align: middle;\n",
       "    }\n",
       "\n",
       "    .dataframe tbody tr th {\n",
       "        vertical-align: top;\n",
       "    }\n",
       "\n",
       "    .dataframe thead th {\n",
       "        text-align: right;\n",
       "    }\n",
       "</style>\n",
       "<table border=\"1\" class=\"dataframe\">\n",
       "  <thead>\n",
       "    <tr style=\"text-align: right;\">\n",
       "      <th></th>\n",
       "      <th>joy</th>\n",
       "      <th>fear</th>\n",
       "      <th>sadness</th>\n",
       "      <th>tentative</th>\n",
       "      <th>analytical</th>\n",
       "    </tr>\n",
       "  </thead>\n",
       "  <tbody>\n",
       "    <tr>\n",
       "      <th>0</th>\n",
       "      <td>0.590572</td>\n",
       "      <td>0.592034</td>\n",
       "      <td>0.534758</td>\n",
       "      <td>0.515201</td>\n",
       "      <td>0.000000</td>\n",
       "    </tr>\n",
       "    <tr>\n",
       "      <th>1</th>\n",
       "      <td>0.529512</td>\n",
       "      <td>0.000000</td>\n",
       "      <td>0.000000</td>\n",
       "      <td>0.682860</td>\n",
       "      <td>0.000000</td>\n",
       "    </tr>\n",
       "    <tr>\n",
       "      <th>2</th>\n",
       "      <td>0.565506</td>\n",
       "      <td>0.000000</td>\n",
       "      <td>0.508825</td>\n",
       "      <td>0.594668</td>\n",
       "      <td>0.000000</td>\n",
       "    </tr>\n",
       "    <tr>\n",
       "      <th>3</th>\n",
       "      <td>0.589725</td>\n",
       "      <td>0.000000</td>\n",
       "      <td>0.000000</td>\n",
       "      <td>0.759095</td>\n",
       "      <td>0.000000</td>\n",
       "    </tr>\n",
       "    <tr>\n",
       "      <th>4</th>\n",
       "      <td>0.000000</td>\n",
       "      <td>0.000000</td>\n",
       "      <td>0.578295</td>\n",
       "      <td>0.716654</td>\n",
       "      <td>0.559117</td>\n",
       "    </tr>\n",
       "  </tbody>\n",
       "</table>\n",
       "</div>"
      ],
      "text/plain": [
       "        joy      fear   sadness  tentative  analytical\n",
       "0  0.590572  0.592034  0.534758   0.515201    0.000000\n",
       "1  0.529512  0.000000  0.000000   0.682860    0.000000\n",
       "2  0.565506  0.000000  0.508825   0.594668    0.000000\n",
       "3  0.589725  0.000000  0.000000   0.759095    0.000000\n",
       "4  0.000000  0.000000  0.578295   0.716654    0.559117"
      ]
     },
     "execution_count": 23,
     "metadata": {},
     "output_type": "execute_result"
    }
   ],
   "source": [
    "# Convert tone_analyzed into sparse matrix that will be merged with combined_df so we evaluate extra features\n",
    "tone = []\n",
    "for text in tone_analyzed:\n",
    "    dic = {}\n",
    "    tone.append(dic)\n",
    "    for emotions in text[\"document_tone\"][\"tones\"]:\n",
    "        dic.update({emotions['tone_id']:emotions['score']})\n",
    "data = pd.DataFrame(tone)\n",
    "data.fillna(0,inplace=True)\n",
    "data.head()"
   ]
  },
  {
   "cell_type": "code",
   "execution_count": 24,
   "metadata": {},
   "outputs": [],
   "source": [
    "# Combine Bitcoin articles sentiment analysis, Bitcoin historical prices with tone data\n",
    "combined_df.reset_index(inplace=True)\n",
    "all_df = combined_df.join(data)\n",
    "all_df.set_index(\"date\",inplace=True)"
   ]
  },
  {
   "cell_type": "code",
   "execution_count": 27,
   "metadata": {},
   "outputs": [
    {
     "data": {
      "text/html": [
       "<div>\n",
       "<style scoped>\n",
       "    .dataframe tbody tr th:only-of-type {\n",
       "        vertical-align: middle;\n",
       "    }\n",
       "\n",
       "    .dataframe tbody tr th {\n",
       "        vertical-align: top;\n",
       "    }\n",
       "\n",
       "    .dataframe thead th {\n",
       "        text-align: right;\n",
       "    }\n",
       "</style>\n",
       "<table border=\"1\" class=\"dataframe\">\n",
       "  <thead>\n",
       "    <tr style=\"text-align: right;\">\n",
       "      <th></th>\n",
       "      <th>totalArticles</th>\n",
       "      <th>title&amp;description</th>\n",
       "      <th>Sentiment Score</th>\n",
       "      <th>open</th>\n",
       "      <th>high</th>\n",
       "      <th>low</th>\n",
       "      <th>close</th>\n",
       "      <th>volume</th>\n",
       "      <th>daily_return</th>\n",
       "      <th>volume change</th>\n",
       "      <th>spread</th>\n",
       "      <th>joy</th>\n",
       "      <th>fear</th>\n",
       "      <th>sadness</th>\n",
       "      <th>tentative</th>\n",
       "      <th>analytical</th>\n",
       "    </tr>\n",
       "    <tr>\n",
       "      <th>date</th>\n",
       "      <th></th>\n",
       "      <th></th>\n",
       "      <th></th>\n",
       "      <th></th>\n",
       "      <th></th>\n",
       "      <th></th>\n",
       "      <th></th>\n",
       "      <th></th>\n",
       "      <th></th>\n",
       "      <th></th>\n",
       "      <th></th>\n",
       "      <th></th>\n",
       "      <th></th>\n",
       "      <th></th>\n",
       "      <th></th>\n",
       "      <th></th>\n",
       "    </tr>\n",
       "  </thead>\n",
       "  <tbody>\n",
       "    <tr>\n",
       "      <th>2020-12-18</th>\n",
       "      <td>18</td>\n",
       "      <td>How to invest in bitcoin: The major ways to bu...</td>\n",
       "      <td>1</td>\n",
       "      <td>22811.8</td>\n",
       "      <td>23317.1</td>\n",
       "      <td>22308.2</td>\n",
       "      <td>23130.5</td>\n",
       "      <td>6050.937552</td>\n",
       "      <td>0.013331</td>\n",
       "      <td>-0.681420</td>\n",
       "      <td>0.044227</td>\n",
       "      <td>0.590572</td>\n",
       "      <td>0.592034</td>\n",
       "      <td>0.534758</td>\n",
       "      <td>0.515201</td>\n",
       "      <td>0.000000</td>\n",
       "    </tr>\n",
       "    <tr>\n",
       "      <th>2020-12-19</th>\n",
       "      <td>6</td>\n",
       "      <td>How will Bitcoin shift the power in the coffee...</td>\n",
       "      <td>1</td>\n",
       "      <td>23132.8</td>\n",
       "      <td>24288.2</td>\n",
       "      <td>22800.0</td>\n",
       "      <td>23871.5</td>\n",
       "      <td>6255.127803</td>\n",
       "      <td>0.032036</td>\n",
       "      <td>0.033745</td>\n",
       "      <td>0.064333</td>\n",
       "      <td>0.529512</td>\n",
       "      <td>0.000000</td>\n",
       "      <td>0.000000</td>\n",
       "      <td>0.682860</td>\n",
       "      <td>0.000000</td>\n",
       "    </tr>\n",
       "    <tr>\n",
       "      <th>2020-12-20</th>\n",
       "      <td>14</td>\n",
       "      <td>Tesla's Elon Musk asks about converting \"large...</td>\n",
       "      <td>1</td>\n",
       "      <td>23871.5</td>\n",
       "      <td>24297.7</td>\n",
       "      <td>23084.9</td>\n",
       "      <td>23480.7</td>\n",
       "      <td>5876.100372</td>\n",
       "      <td>-0.016371</td>\n",
       "      <td>-0.060595</td>\n",
       "      <td>0.050805</td>\n",
       "      <td>0.565506</td>\n",
       "      <td>0.000000</td>\n",
       "      <td>0.508825</td>\n",
       "      <td>0.594668</td>\n",
       "      <td>0.000000</td>\n",
       "    </tr>\n",
       "    <tr>\n",
       "      <th>2020-12-21</th>\n",
       "      <td>13</td>\n",
       "      <td>Ripple to face SEC suit over XRP cryptocurrenc...</td>\n",
       "      <td>0</td>\n",
       "      <td>23480.8</td>\n",
       "      <td>24090.0</td>\n",
       "      <td>21885.6</td>\n",
       "      <td>22716.1</td>\n",
       "      <td>10783.182650</td>\n",
       "      <td>-0.032563</td>\n",
       "      <td>0.835092</td>\n",
       "      <td>0.093881</td>\n",
       "      <td>0.589725</td>\n",
       "      <td>0.000000</td>\n",
       "      <td>0.000000</td>\n",
       "      <td>0.759095</td>\n",
       "      <td>0.000000</td>\n",
       "    </tr>\n",
       "    <tr>\n",
       "      <th>2020-12-22</th>\n",
       "      <td>10</td>\n",
       "      <td>SEC Sues Ripple Over XRP Cryptocurrency The ag...</td>\n",
       "      <td>1</td>\n",
       "      <td>22724.6</td>\n",
       "      <td>23837.0</td>\n",
       "      <td>22354.2</td>\n",
       "      <td>23828.2</td>\n",
       "      <td>5728.007668</td>\n",
       "      <td>0.048956</td>\n",
       "      <td>-0.468802</td>\n",
       "      <td>0.065251</td>\n",
       "      <td>0.000000</td>\n",
       "      <td>0.000000</td>\n",
       "      <td>0.578295</td>\n",
       "      <td>0.716654</td>\n",
       "      <td>0.559117</td>\n",
       "    </tr>\n",
       "  </tbody>\n",
       "</table>\n",
       "</div>"
      ],
      "text/plain": [
       "            totalArticles                                  title&description  \\\n",
       "date                                                                           \n",
       "2020-12-18             18  How to invest in bitcoin: The major ways to bu...   \n",
       "2020-12-19              6  How will Bitcoin shift the power in the coffee...   \n",
       "2020-12-20             14  Tesla's Elon Musk asks about converting \"large...   \n",
       "2020-12-21             13  Ripple to face SEC suit over XRP cryptocurrenc...   \n",
       "2020-12-22             10  SEC Sues Ripple Over XRP Cryptocurrency The ag...   \n",
       "\n",
       "            Sentiment Score     open     high      low    close        volume  \\\n",
       "date                                                                            \n",
       "2020-12-18                1  22811.8  23317.1  22308.2  23130.5   6050.937552   \n",
       "2020-12-19                1  23132.8  24288.2  22800.0  23871.5   6255.127803   \n",
       "2020-12-20                1  23871.5  24297.7  23084.9  23480.7   5876.100372   \n",
       "2020-12-21                0  23480.8  24090.0  21885.6  22716.1  10783.182650   \n",
       "2020-12-22                1  22724.6  23837.0  22354.2  23828.2   5728.007668   \n",
       "\n",
       "            daily_return  volume change    spread       joy      fear  \\\n",
       "date                                                                    \n",
       "2020-12-18      0.013331      -0.681420  0.044227  0.590572  0.592034   \n",
       "2020-12-19      0.032036       0.033745  0.064333  0.529512  0.000000   \n",
       "2020-12-20     -0.016371      -0.060595  0.050805  0.565506  0.000000   \n",
       "2020-12-21     -0.032563       0.835092  0.093881  0.589725  0.000000   \n",
       "2020-12-22      0.048956      -0.468802  0.065251  0.000000  0.000000   \n",
       "\n",
       "             sadness  tentative  analytical  \n",
       "date                                         \n",
       "2020-12-18  0.534758   0.515201    0.000000  \n",
       "2020-12-19  0.000000   0.682860    0.000000  \n",
       "2020-12-20  0.508825   0.594668    0.000000  \n",
       "2020-12-21  0.000000   0.759095    0.000000  \n",
       "2020-12-22  0.578295   0.716654    0.559117  "
      ]
     },
     "execution_count": 27,
     "metadata": {},
     "output_type": "execute_result"
    }
   ],
   "source": [
    "all_df.head()"
   ]
  },
  {
   "cell_type": "code",
   "execution_count": 28,
   "metadata": {},
   "outputs": [],
   "source": [
    "# Save as csv for future use\n",
    "all_df.to_csv('sentiment_prices_tone_text.csv')"
   ]
  },
  {
   "cell_type": "markdown",
   "metadata": {},
   "source": [
    "# **Trade Signal Indicators**\n",
    "\n",
    "Generate different trade signal indicators using:\n",
    "1. Exponential moving average for mean\n",
    "2. Exponential moving average for standard deviation\n",
    "3. Bollinger band mean and standard deviation\n",
    "4. Constructing the indicator"
   ]
  },
  {
   "cell_type": "code",
   "execution_count": null,
   "metadata": {},
   "outputs": [],
   "source": [
    "# Import necessary libraries\n",
    "import numpy as np\n",
    "import pandas as pd\n",
    "import hvplot.pandas\n",
    "from pathlib import Path"
   ]
  },
  {
   "cell_type": "code",
   "execution_count": null,
   "metadata": {},
   "outputs": [],
   "source": [
    "# Set path to CSV and read in CSV\n",
    "csv_path = Path('sentiment_prices_tone_text.csv')\n",
    "btc_df=pd.read_csv(csv_path, index_col=[0])\n",
    "btc_df.head()"
   ]
  },
  {
   "cell_type": "code",
   "execution_count": null,
   "metadata": {},
   "outputs": [],
   "source": [
    "# Set index as datetime object\n",
    "btc_df.set_index(pd.to_datetime(btc_df.index, infer_datetime_format=True), inplace=True)\n",
    "btc_df.head()"
   ]
  },
  {
   "cell_type": "markdown",
   "metadata": {},
   "source": [
    "## 1. Exponential moving average for mean"
   ]
  },
  {
   "cell_type": "code",
   "execution_count": null,
   "metadata": {},
   "outputs": [],
   "source": [
    "# Set short and long windows\n",
    "short_window = 1\n",
    "long_window = 10\n",
    "\n",
    "# Construct a `Fast` and `Slow` Exponential Moving Average from short and long windows, respectively\n",
    "btc_df['fast_close'] = btc_df['close'].ewm(halflife=short_window).mean()\n",
    "btc_df['slow_close'] = btc_df['close'].ewm(halflife=long_window).mean()\n",
    "\n",
    "# Construct a crossover trading signal\n",
    "btc_df['crossover_long'] = np.where(btc_df['fast_close'] > btc_df['slow_close'], 1.0, 0.0)\n",
    "btc_df['crossover_short'] = np.where(btc_df['fast_close'] < btc_df['slow_close'], -1.0, 0.0)\n",
    "btc_df['crossover_signal'] = btc_df['crossover_long'] + btc_df['crossover_short']\n",
    "\n",
    "btc_df.head()"
   ]
  },
  {
   "cell_type": "markdown",
   "metadata": {},
   "source": [
    "## 2. Exponential moving average for standard deviation"
   ]
  },
  {
   "cell_type": "code",
   "execution_count": null,
   "metadata": {},
   "outputs": [],
   "source": [
    "# Set short and long volatility windows\n",
    "short_vol_window = 1\n",
    "long_vol_window = 10\n",
    "\n",
    "# Construct a `Fast` and `Slow` Exponential Moving Average from short and long windows, respectively\n",
    "btc_df['fast_vol'] = btc_df['daily_return'].ewm(halflife=short_vol_window).std()\n",
    "btc_df['slow_vol'] = btc_df['daily_return'].ewm(halflife=long_vol_window).std()\n",
    "\n",
    "# Construct a crossover trading signal\n",
    "btc_df['vol_trend_long'] = np.where(btc_df['fast_vol'] < btc_df['slow_vol'], 1.0, 0.0)\n",
    "btc_df['vol_trend_short'] = np.where(btc_df['fast_vol'] > btc_df['slow_vol'], -1.0, 0.0) \n",
    "btc_df['vol_trend_signal'] = btc_df['vol_trend_long'] + btc_df['vol_trend_short']\n",
    "\n",
    "btc_df.head()"
   ]
  },
  {
   "cell_type": "markdown",
   "metadata": {},
   "source": [
    "## 3. Bollinger band mean and standard deviation"
   ]
  },
  {
   "cell_type": "code",
   "execution_count": null,
   "metadata": {},
   "outputs": [],
   "source": [
    "# Set bollinger band window\n",
    "bollinger_window = 20\n",
    "\n",
    "# Calculate rolling mean and standard deviation\n",
    "btc_df['bollinger_mid_band'] = btc_df['close'].rolling(window=bollinger_window).mean()\n",
    "btc_df['bollinger_std'] = btc_df['close'].rolling(window=20).std()\n",
    "\n",
    "# Calculate upper and lowers bands of bollinger band\n",
    "btc_df['bollinger_upper_band']  = btc_df['bollinger_mid_band'] + (btc_df['bollinger_std'] * 1)\n",
    "btc_df['bollinger_lower_band']  = btc_df['bollinger_mid_band'] - (btc_df['bollinger_std'] * 1)\n",
    "\n",
    "# Calculate bollinger band trading signal\n",
    "btc_df['bollinger_long'] = np.where(btc_df['close'] < btc_df['bollinger_lower_band'], 1.0, 0.0)\n",
    "btc_df['bollinger_short'] = np.where(btc_df['close'] > btc_df['bollinger_upper_band'], -1.0, 0.0)\n",
    "btc_df['bollinger_signal'] = btc_df['bollinger_long'] + btc_df['bollinger_short']\n",
    "\n",
    "btc_df.head()"
   ]
  },
  {
   "cell_type": "markdown",
   "metadata": {},
   "source": [
    "## 4. Constructing the indicator"
   ]
  },
  {
   "cell_type": "code",
   "execution_count": null,
   "metadata": {},
   "outputs": [],
   "source": [
    "# Construct the dependent variable where if daily return is greater than 0, then 1, else, 0\n",
    "btc_df['Positive Return'] = np.where(btc_df['daily_return'] > 0, 1.0, 0.0)\n",
    "btc_df.head()"
   ]
  },
  {
   "cell_type": "code",
   "execution_count": null,
   "metadata": {},
   "outputs": [],
   "source": [
    "# Save as csv for future use\n",
    "btc_df.to_csv('dataframe_with_tradesignals.csv')"
   ]
  },
  {
   "cell_type": "markdown",
   "metadata": {},
   "source": [
    "# **Deep Network**\n",
    "\n",
    "Creating a deep network by:\n",
    "1. Slicing data for testing and training\n",
    "2. Setting up a model with 4 layers\n",
    "3. Compiling the model\n",
    "4. Evaluating the model's performance\n",
    "5. Conducting a confusion matrix\n",
    "4. Conducting a classification report"
   ]
  },
  {
   "cell_type": "code",
   "execution_count": null,
   "metadata": {},
   "outputs": [],
   "source": [
    "# Initial imports\n",
    "import pandas as pd\n",
    "import numpy as np\n",
    "import matplotlib.pyplot as plt\n",
    "import tensorflow as tf\n",
    "from pathlib import Path\n",
    "\n",
    "%matplotlib inline"
   ]
  },
  {
   "cell_type": "markdown",
   "metadata": {},
   "source": [
    "## 1.1 Data Preparation"
   ]
  },
  {
   "cell_type": "code",
   "execution_count": null,
   "metadata": {},
   "outputs": [],
   "source": [
    "# Read available data\n",
    "df = pd.read_csv('bitcoin_model_data_nyt.csv', index_col=\"date\", infer_datetime_format=True, parse_dates=True)\n",
    "\n",
    "# Slice for new dataframe\n",
    "start_date = '2020-10-30'\n",
    "end_date = df.index.max().strftime(format= '%Y-%m-%d')\n",
    "df_2 = df[start_date:end_date]\n",
    "df_2.head()"
   ]
  },
  {
   "cell_type": "code",
   "execution_count": null,
   "metadata": {},
   "outputs": [],
   "source": [
    "# Shift data in all column by 1 except for 'Positive Return' column\n",
    "for col in df_2.columns:\n",
    "    if col != 'Positive Return':\n",
    "        df_2[col] = df_2[col].shift(1)\n",
    "    else:\n",
    "        None\n",
    "        \n",
    "# Drop NAs\n",
    "df_2.dropna(inplace=True)"
   ]
  },
  {
   "cell_type": "code",
   "execution_count": null,
   "metadata": {},
   "outputs": [],
   "source": [
    "# Creating the X and y sets\n",
    "X = df_2.iloc[:, 0:15].values\n",
    "y = df_2[\"positive_return\"].values"
   ]
  },
  {
   "cell_type": "code",
   "execution_count": null,
   "metadata": {},
   "outputs": [],
   "source": [
    "# Import the StandardScaler from sklearn\n",
    "from sklearn.preprocessing import StandardScaler\n",
    "\n",
    "# Scale the data\n",
    "scaler = StandardScaler().fit(X)\n",
    "X = scaler.transform(X)"
   ]
  },
  {
   "cell_type": "markdown",
   "metadata": {},
   "source": [
    "## 2.1. Testing & Training Data for Model"
   ]
  },
  {
   "cell_type": "code",
   "execution_count": null,
   "metadata": {},
   "outputs": [],
   "source": [
    "# Import\n",
    "from sklearn.model_selection import train_test_split\n",
    "\n",
    "# Creating training, validation, and testing sets\n",
    "X_train, X_test, y_train, y_test = train_test_split(X, y, random_state=78)\n",
    "X_train, X_val, y_train, y_val = train_test_split(X_train, y_train, random_state=78)"
   ]
  },
  {
   "cell_type": "markdown",
   "metadata": {},
   "source": [
    "## 2.2. Model Set-up"
   ]
  },
  {
   "cell_type": "code",
   "execution_count": null,
   "metadata": {},
   "outputs": [],
   "source": [
    "# Import Keras modules for model creation\n",
    "from tensorflow.keras.models import Sequential\n",
    "from tensorflow.keras.layers import Dense"
   ]
  },
  {
   "cell_type": "code",
   "execution_count": null,
   "metadata": {},
   "outputs": [],
   "source": [
    "# Model set-up\n",
    "number_input_features = 15\n",
    "hidden_nodes_layer1 = 20\n",
    "hidden_nodes_layer2 = 15\n",
    "hidden_nodes_layer3 = 10\n",
    "hidden_nodes_layer4 = 5"
   ]
  },
  {
   "cell_type": "code",
   "execution_count": null,
   "metadata": {},
   "outputs": [],
   "source": [
    "# Define the LSTM RNN model\n",
    "model = Sequential()\n",
    "\n",
    "# Layer 1\n",
    "model.add(Dense(units=hidden_nodes_layer1, input_dim=number_input_features, activation=\"relu\"))\n",
    "\n",
    "# Layer 2\n",
    "model.add(Dense(units=hidden_nodes_layer2, activation=\"relu\"))\n",
    "\n",
    "# Layer 3\n",
    "model.add(Dense(units=hidden_nodes_layer3, activation=\"relu\"))\n",
    "\n",
    "# Layer 4 \n",
    "model.add(Dense(units=hidden_nodes_layer4, activation=\"relu\"))\n",
    "\n",
    "# Output layer\n",
    "model.add(Dense(1, activation=\"sigmoid\"))"
   ]
  },
  {
   "cell_type": "markdown",
   "metadata": {},
   "source": [
    "## 3. Model compiled and trained"
   ]
  },
  {
   "cell_type": "code",
   "execution_count": null,
   "metadata": {},
   "outputs": [],
   "source": [
    "# Compile the model\n",
    "model.compile(\n",
    "    loss=\"binary_crossentropy\",\n",
    "    optimizer=\"adam\",\n",
    "    metrics=[\n",
    "        \"accuracy\",\n",
    "        tf.keras.metrics.TruePositives(name=\"tp\"),\n",
    "        tf.keras.metrics.TrueNegatives(name=\"tn\"),\n",
    "        tf.keras.metrics.FalsePositives(name=\"fp\"),\n",
    "        tf.keras.metrics.FalseNegatives(name=\"fn\"),\n",
    "        tf.keras.metrics.Precision(name=\"precision\"),\n",
    "        tf.keras.metrics.Recall(name=\"recall\"),\n",
    "        tf.keras.metrics.AUC(name=\"auc\"),\n",
    "    ],\n",
    ")"
   ]
  },
  {
   "cell_type": "code",
   "execution_count": null,
   "metadata": {},
   "outputs": [],
   "source": [
    "# Summarize the model\n",
    "model.summary()"
   ]
  },
  {
   "cell_type": "code",
   "execution_count": null,
   "metadata": {},
   "outputs": [],
   "source": [
    "# Training the model\n",
    "batch_size = 1000\n",
    "epochs = 500\n",
    "model_training = model.fit(\n",
    "    X_train,\n",
    "    y_train,\n",
    "    validation_data=(X_val, y_val),\n",
    "    epochs=epochs,\n",
    "    batch_size=batch_size,\n",
    "    verbose=1,\n",
    ")"
   ]
  },
  {
   "cell_type": "markdown",
   "metadata": {},
   "source": [
    "## 4. Model Evaluation"
   ]
  },
  {
   "cell_type": "code",
   "execution_count": null,
   "metadata": {},
   "outputs": [],
   "source": [
    "# Plotting loss\n",
    "loss_df = pd.DataFrame(\n",
    "    {\n",
    "        \"Epoch\": range(1, epochs + 1),\n",
    "        \"Train\": model_training.history[\"loss\"],\n",
    "        \"Val\": model_training.history[\"val_loss\"],\n",
    "    }\n",
    ")\n",
    "loss_df.set_index(\"Epoch\", inplace=True)\n",
    "loss_df.plot(title=\"Loss\")"
   ]
  },
  {
   "cell_type": "code",
   "execution_count": null,
   "metadata": {},
   "outputs": [],
   "source": [
    "# Plotting accuracy\n",
    "accuracy_df = pd.DataFrame(\n",
    "    {\n",
    "        \"Epoch\": range(1, epochs + 1),\n",
    "        \"Train\": model_training.history[\"accuracy\"],\n",
    "        \"Val\": model_training.history[\"val_accuracy\"],\n",
    "    }\n",
    ")\n",
    "accuracy_df.set_index(\"Epoch\", inplace=True)\n",
    "accuracy_df.plot(title=\"Accuracy\")"
   ]
  },
  {
   "cell_type": "code",
   "execution_count": null,
   "metadata": {},
   "outputs": [],
   "source": [
    " # Plotting AUC\n",
    "auc_df = pd.DataFrame(\n",
    "    {\n",
    "        \"Epoch\": range(1, epochs + 1),\n",
    "        \"Train\": model_training.history[\"auc\"],\n",
    "        \"Val\": model_training.history[\"val_auc\"],\n",
    "    }\n",
    ")\n",
    "auc_df.set_index(\"Epoch\", inplace=True)\n",
    "auc_df.plot(title=\"AUC\")"
   ]
  },
  {
   "cell_type": "code",
   "execution_count": null,
   "metadata": {},
   "outputs": [],
   "source": [
    "# Evaluate the model\n",
    "scores = model.evaluate(X_test, y_test, verbose=0)\n",
    "\n",
    "# Define metrics dictionary\n",
    "metrics = {k: v for k, v in zip(model.metrics_names, scores)}\n",
    "\n",
    "# Display evaluation metrics results\n",
    "display(metrics)"
   ]
  },
  {
   "cell_type": "markdown",
   "metadata": {},
   "source": [
    "## 5. Confusion Matrix"
   ]
  },
  {
   "cell_type": "code",
   "execution_count": null,
   "metadata": {},
   "outputs": [],
   "source": [
    " # Define the confusion matrix data\n",
    "cm_df = pd.DataFrame(\n",
    "    {\n",
    "        \"Positive (1)\": [f\"TP={metrics['tp']}\", f\"FP={metrics['fn']}\"],\n",
    "        \"Negative (0)\": [f\"FN={metrics['fp']}\", f\"TN={metrics['tn']}\"],\n",
    "    },\n",
    "    index=[\"Positive(1)\", \"Negative(0)\"],\n",
    ")\n",
    "cm_df.index.name = \"Actual\"\n",
    "cm_df.columns.name = \"Predicted\"\n",
    "\n",
    "# Show the confusion matrix\n",
    "cm_df"
   ]
  },
  {
   "cell_type": "markdown",
   "metadata": {},
   "source": [
    "## 6. Classification report"
   ]
  },
  {
   "cell_type": "code",
   "execution_count": null,
   "metadata": {},
   "outputs": [],
   "source": [
    "# Import the classification_report method from sklearn\n",
    "from sklearn.metrics import classification_report\n",
    "\n",
    "# Predict classes using testing data\n",
    "y_predict_classes = model.predict_classes(X_test, batch_size=1000)\n",
    "\n",
    "# Display classification report\n",
    "print(classification_report(y_predict_classes, y_test))"
   ]
  }
 ],
 "metadata": {
  "kernelspec": {
   "display_name": "Python 3",
   "language": "python",
   "name": "python3"
  },
  "language_info": {
   "codemirror_mode": {
    "name": "ipython",
    "version": 3
   },
   "file_extension": ".py",
   "mimetype": "text/x-python",
   "name": "python",
   "nbconvert_exporter": "python",
   "pygments_lexer": "ipython3",
   "version": "3.7.7"
  }
 },
 "nbformat": 4,
 "nbformat_minor": 4
}
